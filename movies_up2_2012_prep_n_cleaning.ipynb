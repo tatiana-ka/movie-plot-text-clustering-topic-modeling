{
  "nbformat": 4,
  "nbformat_minor": 0,
  "metadata": {
    "colab": {
      "name": "movies_up2_2012_prep_n_cleaning.ipynb",
      "provenance": [],
      "collapsed_sections": [
        "xKnpQdU0y08U",
        "TD1lfsUP0IqL",
        "OmdGE3LqM4un",
        "LBK8YmemVXRh",
        "4PJIBXpimLXE",
        "1JWfBDNwpPGS",
        "Lc51Uea0km9X",
        "kQS7s8bCrV-b",
        "mp9DQu7CyEF0",
        "FFYUOPtt_nKK"
      ],
      "mount_file_id": "1H_aPfMtrVRSehFaKuyOexZraZHwU49YS",
      "authorship_tag": "ABX9TyNeCY0kfGvhN1/B3u5F33wz",
      "include_colab_link": true
    },
    "kernelspec": {
      "name": "python3",
      "display_name": "Python 3"
    },
    "language_info": {
      "name": "python"
    }
  },
  "cells": [
    {
      "cell_type": "markdown",
      "metadata": {
        "id": "view-in-github",
        "colab_type": "text"
      },
      "source": [
        "<a href=\"https://colab.research.google.com/github/tatiana-ka/movie-plot-text-clustering-topic-modeling/blob/main/movies_up2_2012_prep_n_cleaning.ipynb\" target=\"_parent\"><img src=\"https://colab.research.google.com/assets/colab-badge.svg\" alt=\"Open In Colab\"/></a>"
      ]
    },
    {
      "cell_type": "markdown",
      "source": [
        "### **Set-up**"
      ],
      "metadata": {
        "id": "BtdTGrGEEIIK"
      }
    },
    {
      "cell_type": "code",
      "metadata": {
        "colab": {
          "base_uri": "https://localhost:8080/"
        },
        "id": "OJ27CdOf7veo",
        "outputId": "f18f3772-2001-4661-86be-9f41b06bea44"
      },
      "source": [
        "from google.colab import files, drive #connecting to my google drive\n",
        "drive.mount('/content/drive')"
      ],
      "execution_count": null,
      "outputs": [
        {
          "output_type": "stream",
          "name": "stdout",
          "text": [
            "Drive already mounted at /content/drive; to attempt to forcibly remount, call drive.mount(\"/content/drive\", force_remount=True).\n"
          ]
        }
      ]
    },
    {
      "cell_type": "code",
      "metadata": {
        "id": "8e0F1aOk78jv"
      },
      "source": [
        "import pandas as pd\n",
        "import numpy as np"
      ],
      "execution_count": null,
      "outputs": []
    },
    {
      "cell_type": "code",
      "metadata": {
        "id": "1tQSAg8G1Aax"
      },
      "source": [
        "import matplotlib.pyplot as plt\n",
        "import re\n",
        "import ast\n",
        "import spacy\n",
        "import nltk\n",
        "import scipy.stats"
      ],
      "execution_count": null,
      "outputs": []
    },
    {
      "cell_type": "markdown",
      "metadata": {
        "id": "xKnpQdU0y08U"
      },
      "source": [
        "### **Initial Data Prep**"
      ]
    },
    {
      "cell_type": "markdown",
      "source": [
        "The movie plot data is from http://www.cs.cmu.edu/~ark/personas/. There you can download a couple of files. The ones I am interested in are Movie metadata and Plot summary. I am going to ignire the information about characters and actors (Character metadata) file. \n",
        "\n",
        "Since I would like to investigate the plot originality in relation to movie success, I need to merge the two files (Movie metadata and Plot summary). "
      ],
      "metadata": {
        "id": "Bk9rCi8vEBt3"
      }
    },
    {
      "cell_type": "markdown",
      "metadata": {
        "id": "bYU-KC62DlMd"
      },
      "source": [
        "**1. Loading Meta Data**"
      ]
    },
    {
      "cell_type": "code",
      "metadata": {
        "colab": {
          "base_uri": "https://localhost:8080/",
          "height": 206
        },
        "id": "3uLfoxgM8CmY",
        "outputId": "476d6c59-295e-4a04-b5b0-ffcf40556b5c"
      },
      "source": [
        "meta = pd.read_csv('/content/drive/MyDrive/movies2012data/movie.metadata.tsv', sep = '\\t', header = None)\n",
        "\n",
        "meta.head()"
      ],
      "execution_count": null,
      "outputs": [
        {
          "output_type": "execute_result",
          "data": {
            "text/plain": [
              "          0           1                                                  2  \\\n",
              "0    975900   /m/03vyhn                                     Ghosts of Mars   \n",
              "1   3196793   /m/08yl5d  Getting Away with Murder: The JonBenét Ramsey ...   \n",
              "2  28463795  /m/0crgdbh                                        Brun bitter   \n",
              "3   9363483  /m/0285_cd                                   White Of The Eye   \n",
              "4    261236   /m/01mrr1                                  A Woman in Flames   \n",
              "\n",
              "            3           4      5                                   6  \\\n",
              "0  2001-08-24  14010832.0   98.0  {\"/m/02h40lc\": \"English Language\"}   \n",
              "1  2000-02-16         NaN   95.0  {\"/m/02h40lc\": \"English Language\"}   \n",
              "2        1988         NaN   83.0  {\"/m/05f_3\": \"Norwegian Language\"}   \n",
              "3        1987         NaN  110.0  {\"/m/02h40lc\": \"English Language\"}   \n",
              "4        1983         NaN  106.0   {\"/m/04306rv\": \"German Language\"}   \n",
              "\n",
              "                                           7  \\\n",
              "0  {\"/m/09c7w0\": \"United States of America\"}   \n",
              "1  {\"/m/09c7w0\": \"United States of America\"}   \n",
              "2                     {\"/m/05b4w\": \"Norway\"}   \n",
              "3             {\"/m/07ssc\": \"United Kingdom\"}   \n",
              "4                    {\"/m/0345h\": \"Germany\"}   \n",
              "\n",
              "                                                   8  \n",
              "0  {\"/m/01jfsb\": \"Thriller\", \"/m/06n90\": \"Science...  \n",
              "1  {\"/m/02n4kr\": \"Mystery\", \"/m/03bxz7\": \"Biograp...  \n",
              "2  {\"/m/0lsxr\": \"Crime Fiction\", \"/m/07s9rl0\": \"D...  \n",
              "3  {\"/m/01jfsb\": \"Thriller\", \"/m/0glj9q\": \"Erotic...  \n",
              "4                            {\"/m/07s9rl0\": \"Drama\"}  "
            ],
            "text/html": [
              "\n",
              "  <div id=\"df-803f6ae5-a38d-4b9a-b487-79efb8fca096\">\n",
              "    <div class=\"colab-df-container\">\n",
              "      <div>\n",
              "<style scoped>\n",
              "    .dataframe tbody tr th:only-of-type {\n",
              "        vertical-align: middle;\n",
              "    }\n",
              "\n",
              "    .dataframe tbody tr th {\n",
              "        vertical-align: top;\n",
              "    }\n",
              "\n",
              "    .dataframe thead th {\n",
              "        text-align: right;\n",
              "    }\n",
              "</style>\n",
              "<table border=\"1\" class=\"dataframe\">\n",
              "  <thead>\n",
              "    <tr style=\"text-align: right;\">\n",
              "      <th></th>\n",
              "      <th>0</th>\n",
              "      <th>1</th>\n",
              "      <th>2</th>\n",
              "      <th>3</th>\n",
              "      <th>4</th>\n",
              "      <th>5</th>\n",
              "      <th>6</th>\n",
              "      <th>7</th>\n",
              "      <th>8</th>\n",
              "    </tr>\n",
              "  </thead>\n",
              "  <tbody>\n",
              "    <tr>\n",
              "      <th>0</th>\n",
              "      <td>975900</td>\n",
              "      <td>/m/03vyhn</td>\n",
              "      <td>Ghosts of Mars</td>\n",
              "      <td>2001-08-24</td>\n",
              "      <td>14010832.0</td>\n",
              "      <td>98.0</td>\n",
              "      <td>{\"/m/02h40lc\": \"English Language\"}</td>\n",
              "      <td>{\"/m/09c7w0\": \"United States of America\"}</td>\n",
              "      <td>{\"/m/01jfsb\": \"Thriller\", \"/m/06n90\": \"Science...</td>\n",
              "    </tr>\n",
              "    <tr>\n",
              "      <th>1</th>\n",
              "      <td>3196793</td>\n",
              "      <td>/m/08yl5d</td>\n",
              "      <td>Getting Away with Murder: The JonBenét Ramsey ...</td>\n",
              "      <td>2000-02-16</td>\n",
              "      <td>NaN</td>\n",
              "      <td>95.0</td>\n",
              "      <td>{\"/m/02h40lc\": \"English Language\"}</td>\n",
              "      <td>{\"/m/09c7w0\": \"United States of America\"}</td>\n",
              "      <td>{\"/m/02n4kr\": \"Mystery\", \"/m/03bxz7\": \"Biograp...</td>\n",
              "    </tr>\n",
              "    <tr>\n",
              "      <th>2</th>\n",
              "      <td>28463795</td>\n",
              "      <td>/m/0crgdbh</td>\n",
              "      <td>Brun bitter</td>\n",
              "      <td>1988</td>\n",
              "      <td>NaN</td>\n",
              "      <td>83.0</td>\n",
              "      <td>{\"/m/05f_3\": \"Norwegian Language\"}</td>\n",
              "      <td>{\"/m/05b4w\": \"Norway\"}</td>\n",
              "      <td>{\"/m/0lsxr\": \"Crime Fiction\", \"/m/07s9rl0\": \"D...</td>\n",
              "    </tr>\n",
              "    <tr>\n",
              "      <th>3</th>\n",
              "      <td>9363483</td>\n",
              "      <td>/m/0285_cd</td>\n",
              "      <td>White Of The Eye</td>\n",
              "      <td>1987</td>\n",
              "      <td>NaN</td>\n",
              "      <td>110.0</td>\n",
              "      <td>{\"/m/02h40lc\": \"English Language\"}</td>\n",
              "      <td>{\"/m/07ssc\": \"United Kingdom\"}</td>\n",
              "      <td>{\"/m/01jfsb\": \"Thriller\", \"/m/0glj9q\": \"Erotic...</td>\n",
              "    </tr>\n",
              "    <tr>\n",
              "      <th>4</th>\n",
              "      <td>261236</td>\n",
              "      <td>/m/01mrr1</td>\n",
              "      <td>A Woman in Flames</td>\n",
              "      <td>1983</td>\n",
              "      <td>NaN</td>\n",
              "      <td>106.0</td>\n",
              "      <td>{\"/m/04306rv\": \"German Language\"}</td>\n",
              "      <td>{\"/m/0345h\": \"Germany\"}</td>\n",
              "      <td>{\"/m/07s9rl0\": \"Drama\"}</td>\n",
              "    </tr>\n",
              "  </tbody>\n",
              "</table>\n",
              "</div>\n",
              "      <button class=\"colab-df-convert\" onclick=\"convertToInteractive('df-803f6ae5-a38d-4b9a-b487-79efb8fca096')\"\n",
              "              title=\"Convert this dataframe to an interactive table.\"\n",
              "              style=\"display:none;\">\n",
              "        \n",
              "  <svg xmlns=\"http://www.w3.org/2000/svg\" height=\"24px\"viewBox=\"0 0 24 24\"\n",
              "       width=\"24px\">\n",
              "    <path d=\"M0 0h24v24H0V0z\" fill=\"none\"/>\n",
              "    <path d=\"M18.56 5.44l.94 2.06.94-2.06 2.06-.94-2.06-.94-.94-2.06-.94 2.06-2.06.94zm-11 1L8.5 8.5l.94-2.06 2.06-.94-2.06-.94L8.5 2.5l-.94 2.06-2.06.94zm10 10l.94 2.06.94-2.06 2.06-.94-2.06-.94-.94-2.06-.94 2.06-2.06.94z\"/><path d=\"M17.41 7.96l-1.37-1.37c-.4-.4-.92-.59-1.43-.59-.52 0-1.04.2-1.43.59L10.3 9.45l-7.72 7.72c-.78.78-.78 2.05 0 2.83L4 21.41c.39.39.9.59 1.41.59.51 0 1.02-.2 1.41-.59l7.78-7.78 2.81-2.81c.8-.78.8-2.07 0-2.86zM5.41 20L4 18.59l7.72-7.72 1.47 1.35L5.41 20z\"/>\n",
              "  </svg>\n",
              "      </button>\n",
              "      \n",
              "  <style>\n",
              "    .colab-df-container {\n",
              "      display:flex;\n",
              "      flex-wrap:wrap;\n",
              "      gap: 12px;\n",
              "    }\n",
              "\n",
              "    .colab-df-convert {\n",
              "      background-color: #E8F0FE;\n",
              "      border: none;\n",
              "      border-radius: 50%;\n",
              "      cursor: pointer;\n",
              "      display: none;\n",
              "      fill: #1967D2;\n",
              "      height: 32px;\n",
              "      padding: 0 0 0 0;\n",
              "      width: 32px;\n",
              "    }\n",
              "\n",
              "    .colab-df-convert:hover {\n",
              "      background-color: #E2EBFA;\n",
              "      box-shadow: 0px 1px 2px rgba(60, 64, 67, 0.3), 0px 1px 3px 1px rgba(60, 64, 67, 0.15);\n",
              "      fill: #174EA6;\n",
              "    }\n",
              "\n",
              "    [theme=dark] .colab-df-convert {\n",
              "      background-color: #3B4455;\n",
              "      fill: #D2E3FC;\n",
              "    }\n",
              "\n",
              "    [theme=dark] .colab-df-convert:hover {\n",
              "      background-color: #434B5C;\n",
              "      box-shadow: 0px 1px 3px 1px rgba(0, 0, 0, 0.15);\n",
              "      filter: drop-shadow(0px 1px 2px rgba(0, 0, 0, 0.3));\n",
              "      fill: #FFFFFF;\n",
              "    }\n",
              "  </style>\n",
              "\n",
              "      <script>\n",
              "        const buttonEl =\n",
              "          document.querySelector('#df-803f6ae5-a38d-4b9a-b487-79efb8fca096 button.colab-df-convert');\n",
              "        buttonEl.style.display =\n",
              "          google.colab.kernel.accessAllowed ? 'block' : 'none';\n",
              "\n",
              "        async function convertToInteractive(key) {\n",
              "          const element = document.querySelector('#df-803f6ae5-a38d-4b9a-b487-79efb8fca096');\n",
              "          const dataTable =\n",
              "            await google.colab.kernel.invokeFunction('convertToInteractive',\n",
              "                                                     [key], {});\n",
              "          if (!dataTable) return;\n",
              "\n",
              "          const docLinkHtml = 'Like what you see? Visit the ' +\n",
              "            '<a target=\"_blank\" href=https://colab.research.google.com/notebooks/data_table.ipynb>data table notebook</a>'\n",
              "            + ' to learn more about interactive tables.';\n",
              "          element.innerHTML = '';\n",
              "          dataTable['output_type'] = 'display_data';\n",
              "          await google.colab.output.renderOutput(dataTable, element);\n",
              "          const docLink = document.createElement('div');\n",
              "          docLink.innerHTML = docLinkHtml;\n",
              "          element.appendChild(docLink);\n",
              "        }\n",
              "      </script>\n",
              "    </div>\n",
              "  </div>\n",
              "  "
            ]
          },
          "metadata": {},
          "execution_count": 4
        }
      ]
    },
    {
      "cell_type": "markdown",
      "metadata": {
        "id": "xWfZ1B8C8cGL"
      },
      "source": [
        "Metadata for 81,741 movies, extracted from the Noverber 4, 2012 dump of Freebase.  Tab-separated; columns:\n",
        "\n",
        "0. Wikipedia movie ID\n",
        "1. Freebase movie ID\n",
        "2. Movie name\n",
        "3. Movie release date\n",
        "4. Movie box office revenue\n",
        "5. Movie runtime\n",
        "6. Movie languages (Freebase ID:name tuples)\n",
        "7. Movie countries (Freebase ID:name tuples)\n",
        "8. Movie genres (Freebase ID:name tuples)"
      ]
    },
    {
      "cell_type": "code",
      "metadata": {
        "id": "6qfCYZ338lJW"
      },
      "source": [
        "meta = meta.rename(columns= {0: 'wiki_movieID',\n",
        "                             2: 'movie_name',\n",
        "                             3: 'release_date',\n",
        "                             4: 'box_of_rev',\n",
        "                             5: 'run_time',\n",
        "                             6: 'languages',\n",
        "                             7: 'countries',\n",
        "                             8: 'genres'}) #rename columns"
      ],
      "execution_count": null,
      "outputs": []
    },
    {
      "cell_type": "code",
      "metadata": {
        "id": "piU18hPw9bDi"
      },
      "source": [
        "meta = meta.drop(columns=1) # drop FreebaseID"
      ],
      "execution_count": null,
      "outputs": []
    },
    {
      "cell_type": "code",
      "metadata": {
        "colab": {
          "base_uri": "https://localhost:8080/",
          "height": 206
        },
        "id": "FqCGFas39VsY",
        "outputId": "47c9cab0-ee23-4b63-91d1-2b60e25c9e2c"
      },
      "source": [
        "meta.head()"
      ],
      "execution_count": null,
      "outputs": [
        {
          "output_type": "execute_result",
          "data": {
            "text/plain": [
              "   wiki_movieID                                         movie_name  \\\n",
              "0        975900                                     Ghosts of Mars   \n",
              "1       3196793  Getting Away with Murder: The JonBenét Ramsey ...   \n",
              "2      28463795                                        Brun bitter   \n",
              "3       9363483                                   White Of The Eye   \n",
              "4        261236                                  A Woman in Flames   \n",
              "\n",
              "  release_date  box_of_rev  run_time                           languages  \\\n",
              "0   2001-08-24  14010832.0      98.0  {\"/m/02h40lc\": \"English Language\"}   \n",
              "1   2000-02-16         NaN      95.0  {\"/m/02h40lc\": \"English Language\"}   \n",
              "2         1988         NaN      83.0  {\"/m/05f_3\": \"Norwegian Language\"}   \n",
              "3         1987         NaN     110.0  {\"/m/02h40lc\": \"English Language\"}   \n",
              "4         1983         NaN     106.0   {\"/m/04306rv\": \"German Language\"}   \n",
              "\n",
              "                                   countries  \\\n",
              "0  {\"/m/09c7w0\": \"United States of America\"}   \n",
              "1  {\"/m/09c7w0\": \"United States of America\"}   \n",
              "2                     {\"/m/05b4w\": \"Norway\"}   \n",
              "3             {\"/m/07ssc\": \"United Kingdom\"}   \n",
              "4                    {\"/m/0345h\": \"Germany\"}   \n",
              "\n",
              "                                              genres  \n",
              "0  {\"/m/01jfsb\": \"Thriller\", \"/m/06n90\": \"Science...  \n",
              "1  {\"/m/02n4kr\": \"Mystery\", \"/m/03bxz7\": \"Biograp...  \n",
              "2  {\"/m/0lsxr\": \"Crime Fiction\", \"/m/07s9rl0\": \"D...  \n",
              "3  {\"/m/01jfsb\": \"Thriller\", \"/m/0glj9q\": \"Erotic...  \n",
              "4                            {\"/m/07s9rl0\": \"Drama\"}  "
            ],
            "text/html": [
              "\n",
              "  <div id=\"df-ee2d7902-fea2-48d3-83bf-13bb3991512c\">\n",
              "    <div class=\"colab-df-container\">\n",
              "      <div>\n",
              "<style scoped>\n",
              "    .dataframe tbody tr th:only-of-type {\n",
              "        vertical-align: middle;\n",
              "    }\n",
              "\n",
              "    .dataframe tbody tr th {\n",
              "        vertical-align: top;\n",
              "    }\n",
              "\n",
              "    .dataframe thead th {\n",
              "        text-align: right;\n",
              "    }\n",
              "</style>\n",
              "<table border=\"1\" class=\"dataframe\">\n",
              "  <thead>\n",
              "    <tr style=\"text-align: right;\">\n",
              "      <th></th>\n",
              "      <th>wiki_movieID</th>\n",
              "      <th>movie_name</th>\n",
              "      <th>release_date</th>\n",
              "      <th>box_of_rev</th>\n",
              "      <th>run_time</th>\n",
              "      <th>languages</th>\n",
              "      <th>countries</th>\n",
              "      <th>genres</th>\n",
              "    </tr>\n",
              "  </thead>\n",
              "  <tbody>\n",
              "    <tr>\n",
              "      <th>0</th>\n",
              "      <td>975900</td>\n",
              "      <td>Ghosts of Mars</td>\n",
              "      <td>2001-08-24</td>\n",
              "      <td>14010832.0</td>\n",
              "      <td>98.0</td>\n",
              "      <td>{\"/m/02h40lc\": \"English Language\"}</td>\n",
              "      <td>{\"/m/09c7w0\": \"United States of America\"}</td>\n",
              "      <td>{\"/m/01jfsb\": \"Thriller\", \"/m/06n90\": \"Science...</td>\n",
              "    </tr>\n",
              "    <tr>\n",
              "      <th>1</th>\n",
              "      <td>3196793</td>\n",
              "      <td>Getting Away with Murder: The JonBenét Ramsey ...</td>\n",
              "      <td>2000-02-16</td>\n",
              "      <td>NaN</td>\n",
              "      <td>95.0</td>\n",
              "      <td>{\"/m/02h40lc\": \"English Language\"}</td>\n",
              "      <td>{\"/m/09c7w0\": \"United States of America\"}</td>\n",
              "      <td>{\"/m/02n4kr\": \"Mystery\", \"/m/03bxz7\": \"Biograp...</td>\n",
              "    </tr>\n",
              "    <tr>\n",
              "      <th>2</th>\n",
              "      <td>28463795</td>\n",
              "      <td>Brun bitter</td>\n",
              "      <td>1988</td>\n",
              "      <td>NaN</td>\n",
              "      <td>83.0</td>\n",
              "      <td>{\"/m/05f_3\": \"Norwegian Language\"}</td>\n",
              "      <td>{\"/m/05b4w\": \"Norway\"}</td>\n",
              "      <td>{\"/m/0lsxr\": \"Crime Fiction\", \"/m/07s9rl0\": \"D...</td>\n",
              "    </tr>\n",
              "    <tr>\n",
              "      <th>3</th>\n",
              "      <td>9363483</td>\n",
              "      <td>White Of The Eye</td>\n",
              "      <td>1987</td>\n",
              "      <td>NaN</td>\n",
              "      <td>110.0</td>\n",
              "      <td>{\"/m/02h40lc\": \"English Language\"}</td>\n",
              "      <td>{\"/m/07ssc\": \"United Kingdom\"}</td>\n",
              "      <td>{\"/m/01jfsb\": \"Thriller\", \"/m/0glj9q\": \"Erotic...</td>\n",
              "    </tr>\n",
              "    <tr>\n",
              "      <th>4</th>\n",
              "      <td>261236</td>\n",
              "      <td>A Woman in Flames</td>\n",
              "      <td>1983</td>\n",
              "      <td>NaN</td>\n",
              "      <td>106.0</td>\n",
              "      <td>{\"/m/04306rv\": \"German Language\"}</td>\n",
              "      <td>{\"/m/0345h\": \"Germany\"}</td>\n",
              "      <td>{\"/m/07s9rl0\": \"Drama\"}</td>\n",
              "    </tr>\n",
              "  </tbody>\n",
              "</table>\n",
              "</div>\n",
              "      <button class=\"colab-df-convert\" onclick=\"convertToInteractive('df-ee2d7902-fea2-48d3-83bf-13bb3991512c')\"\n",
              "              title=\"Convert this dataframe to an interactive table.\"\n",
              "              style=\"display:none;\">\n",
              "        \n",
              "  <svg xmlns=\"http://www.w3.org/2000/svg\" height=\"24px\"viewBox=\"0 0 24 24\"\n",
              "       width=\"24px\">\n",
              "    <path d=\"M0 0h24v24H0V0z\" fill=\"none\"/>\n",
              "    <path d=\"M18.56 5.44l.94 2.06.94-2.06 2.06-.94-2.06-.94-.94-2.06-.94 2.06-2.06.94zm-11 1L8.5 8.5l.94-2.06 2.06-.94-2.06-.94L8.5 2.5l-.94 2.06-2.06.94zm10 10l.94 2.06.94-2.06 2.06-.94-2.06-.94-.94-2.06-.94 2.06-2.06.94z\"/><path d=\"M17.41 7.96l-1.37-1.37c-.4-.4-.92-.59-1.43-.59-.52 0-1.04.2-1.43.59L10.3 9.45l-7.72 7.72c-.78.78-.78 2.05 0 2.83L4 21.41c.39.39.9.59 1.41.59.51 0 1.02-.2 1.41-.59l7.78-7.78 2.81-2.81c.8-.78.8-2.07 0-2.86zM5.41 20L4 18.59l7.72-7.72 1.47 1.35L5.41 20z\"/>\n",
              "  </svg>\n",
              "      </button>\n",
              "      \n",
              "  <style>\n",
              "    .colab-df-container {\n",
              "      display:flex;\n",
              "      flex-wrap:wrap;\n",
              "      gap: 12px;\n",
              "    }\n",
              "\n",
              "    .colab-df-convert {\n",
              "      background-color: #E8F0FE;\n",
              "      border: none;\n",
              "      border-radius: 50%;\n",
              "      cursor: pointer;\n",
              "      display: none;\n",
              "      fill: #1967D2;\n",
              "      height: 32px;\n",
              "      padding: 0 0 0 0;\n",
              "      width: 32px;\n",
              "    }\n",
              "\n",
              "    .colab-df-convert:hover {\n",
              "      background-color: #E2EBFA;\n",
              "      box-shadow: 0px 1px 2px rgba(60, 64, 67, 0.3), 0px 1px 3px 1px rgba(60, 64, 67, 0.15);\n",
              "      fill: #174EA6;\n",
              "    }\n",
              "\n",
              "    [theme=dark] .colab-df-convert {\n",
              "      background-color: #3B4455;\n",
              "      fill: #D2E3FC;\n",
              "    }\n",
              "\n",
              "    [theme=dark] .colab-df-convert:hover {\n",
              "      background-color: #434B5C;\n",
              "      box-shadow: 0px 1px 3px 1px rgba(0, 0, 0, 0.15);\n",
              "      filter: drop-shadow(0px 1px 2px rgba(0, 0, 0, 0.3));\n",
              "      fill: #FFFFFF;\n",
              "    }\n",
              "  </style>\n",
              "\n",
              "      <script>\n",
              "        const buttonEl =\n",
              "          document.querySelector('#df-ee2d7902-fea2-48d3-83bf-13bb3991512c button.colab-df-convert');\n",
              "        buttonEl.style.display =\n",
              "          google.colab.kernel.accessAllowed ? 'block' : 'none';\n",
              "\n",
              "        async function convertToInteractive(key) {\n",
              "          const element = document.querySelector('#df-ee2d7902-fea2-48d3-83bf-13bb3991512c');\n",
              "          const dataTable =\n",
              "            await google.colab.kernel.invokeFunction('convertToInteractive',\n",
              "                                                     [key], {});\n",
              "          if (!dataTable) return;\n",
              "\n",
              "          const docLinkHtml = 'Like what you see? Visit the ' +\n",
              "            '<a target=\"_blank\" href=https://colab.research.google.com/notebooks/data_table.ipynb>data table notebook</a>'\n",
              "            + ' to learn more about interactive tables.';\n",
              "          element.innerHTML = '';\n",
              "          dataTable['output_type'] = 'display_data';\n",
              "          await google.colab.output.renderOutput(dataTable, element);\n",
              "          const docLink = document.createElement('div');\n",
              "          docLink.innerHTML = docLinkHtml;\n",
              "          element.appendChild(docLink);\n",
              "        }\n",
              "      </script>\n",
              "    </div>\n",
              "  </div>\n",
              "  "
            ]
          },
          "metadata": {},
          "execution_count": 7
        }
      ]
    },
    {
      "cell_type": "markdown",
      "metadata": {
        "id": "O_6vSPjcDr5p"
      },
      "source": [
        "**2. Loading Plots**"
      ]
    },
    {
      "cell_type": "code",
      "metadata": {
        "colab": {
          "base_uri": "https://localhost:8080/",
          "height": 206
        },
        "id": "ifY85h7--mjF",
        "outputId": "fe5cf899-4a0e-4b39-9ba7-909ec4cff348"
      },
      "source": [
        "plot = pd.read_csv('/content/drive/MyDrive/movies2012data/plot_summaries.txt', delimiter= '\\t', header = None)\n",
        "\n",
        "plot.head()"
      ],
      "execution_count": null,
      "outputs": [
        {
          "output_type": "execute_result",
          "data": {
            "text/plain": [
              "          0                                                  1\n",
              "0  23890098  Shlykov, a hard-working taxi driver and Lyosha...\n",
              "1  31186339  The nation of Panem consists of a wealthy Capi...\n",
              "2  20663735  Poovalli Induchoodan  is sentenced for six yea...\n",
              "3   2231378  The Lemon Drop Kid , a New York City swindler,...\n",
              "4    595909  Seventh-day Adventist Church pastor Michael Ch..."
            ],
            "text/html": [
              "\n",
              "  <div id=\"df-1a55798c-0e22-461b-93c6-47f848d4b762\">\n",
              "    <div class=\"colab-df-container\">\n",
              "      <div>\n",
              "<style scoped>\n",
              "    .dataframe tbody tr th:only-of-type {\n",
              "        vertical-align: middle;\n",
              "    }\n",
              "\n",
              "    .dataframe tbody tr th {\n",
              "        vertical-align: top;\n",
              "    }\n",
              "\n",
              "    .dataframe thead th {\n",
              "        text-align: right;\n",
              "    }\n",
              "</style>\n",
              "<table border=\"1\" class=\"dataframe\">\n",
              "  <thead>\n",
              "    <tr style=\"text-align: right;\">\n",
              "      <th></th>\n",
              "      <th>0</th>\n",
              "      <th>1</th>\n",
              "    </tr>\n",
              "  </thead>\n",
              "  <tbody>\n",
              "    <tr>\n",
              "      <th>0</th>\n",
              "      <td>23890098</td>\n",
              "      <td>Shlykov, a hard-working taxi driver and Lyosha...</td>\n",
              "    </tr>\n",
              "    <tr>\n",
              "      <th>1</th>\n",
              "      <td>31186339</td>\n",
              "      <td>The nation of Panem consists of a wealthy Capi...</td>\n",
              "    </tr>\n",
              "    <tr>\n",
              "      <th>2</th>\n",
              "      <td>20663735</td>\n",
              "      <td>Poovalli Induchoodan  is sentenced for six yea...</td>\n",
              "    </tr>\n",
              "    <tr>\n",
              "      <th>3</th>\n",
              "      <td>2231378</td>\n",
              "      <td>The Lemon Drop Kid , a New York City swindler,...</td>\n",
              "    </tr>\n",
              "    <tr>\n",
              "      <th>4</th>\n",
              "      <td>595909</td>\n",
              "      <td>Seventh-day Adventist Church pastor Michael Ch...</td>\n",
              "    </tr>\n",
              "  </tbody>\n",
              "</table>\n",
              "</div>\n",
              "      <button class=\"colab-df-convert\" onclick=\"convertToInteractive('df-1a55798c-0e22-461b-93c6-47f848d4b762')\"\n",
              "              title=\"Convert this dataframe to an interactive table.\"\n",
              "              style=\"display:none;\">\n",
              "        \n",
              "  <svg xmlns=\"http://www.w3.org/2000/svg\" height=\"24px\"viewBox=\"0 0 24 24\"\n",
              "       width=\"24px\">\n",
              "    <path d=\"M0 0h24v24H0V0z\" fill=\"none\"/>\n",
              "    <path d=\"M18.56 5.44l.94 2.06.94-2.06 2.06-.94-2.06-.94-.94-2.06-.94 2.06-2.06.94zm-11 1L8.5 8.5l.94-2.06 2.06-.94-2.06-.94L8.5 2.5l-.94 2.06-2.06.94zm10 10l.94 2.06.94-2.06 2.06-.94-2.06-.94-.94-2.06-.94 2.06-2.06.94z\"/><path d=\"M17.41 7.96l-1.37-1.37c-.4-.4-.92-.59-1.43-.59-.52 0-1.04.2-1.43.59L10.3 9.45l-7.72 7.72c-.78.78-.78 2.05 0 2.83L4 21.41c.39.39.9.59 1.41.59.51 0 1.02-.2 1.41-.59l7.78-7.78 2.81-2.81c.8-.78.8-2.07 0-2.86zM5.41 20L4 18.59l7.72-7.72 1.47 1.35L5.41 20z\"/>\n",
              "  </svg>\n",
              "      </button>\n",
              "      \n",
              "  <style>\n",
              "    .colab-df-container {\n",
              "      display:flex;\n",
              "      flex-wrap:wrap;\n",
              "      gap: 12px;\n",
              "    }\n",
              "\n",
              "    .colab-df-convert {\n",
              "      background-color: #E8F0FE;\n",
              "      border: none;\n",
              "      border-radius: 50%;\n",
              "      cursor: pointer;\n",
              "      display: none;\n",
              "      fill: #1967D2;\n",
              "      height: 32px;\n",
              "      padding: 0 0 0 0;\n",
              "      width: 32px;\n",
              "    }\n",
              "\n",
              "    .colab-df-convert:hover {\n",
              "      background-color: #E2EBFA;\n",
              "      box-shadow: 0px 1px 2px rgba(60, 64, 67, 0.3), 0px 1px 3px 1px rgba(60, 64, 67, 0.15);\n",
              "      fill: #174EA6;\n",
              "    }\n",
              "\n",
              "    [theme=dark] .colab-df-convert {\n",
              "      background-color: #3B4455;\n",
              "      fill: #D2E3FC;\n",
              "    }\n",
              "\n",
              "    [theme=dark] .colab-df-convert:hover {\n",
              "      background-color: #434B5C;\n",
              "      box-shadow: 0px 1px 3px 1px rgba(0, 0, 0, 0.15);\n",
              "      filter: drop-shadow(0px 1px 2px rgba(0, 0, 0, 0.3));\n",
              "      fill: #FFFFFF;\n",
              "    }\n",
              "  </style>\n",
              "\n",
              "      <script>\n",
              "        const buttonEl =\n",
              "          document.querySelector('#df-1a55798c-0e22-461b-93c6-47f848d4b762 button.colab-df-convert');\n",
              "        buttonEl.style.display =\n",
              "          google.colab.kernel.accessAllowed ? 'block' : 'none';\n",
              "\n",
              "        async function convertToInteractive(key) {\n",
              "          const element = document.querySelector('#df-1a55798c-0e22-461b-93c6-47f848d4b762');\n",
              "          const dataTable =\n",
              "            await google.colab.kernel.invokeFunction('convertToInteractive',\n",
              "                                                     [key], {});\n",
              "          if (!dataTable) return;\n",
              "\n",
              "          const docLinkHtml = 'Like what you see? Visit the ' +\n",
              "            '<a target=\"_blank\" href=https://colab.research.google.com/notebooks/data_table.ipynb>data table notebook</a>'\n",
              "            + ' to learn more about interactive tables.';\n",
              "          element.innerHTML = '';\n",
              "          dataTable['output_type'] = 'display_data';\n",
              "          await google.colab.output.renderOutput(dataTable, element);\n",
              "          const docLink = document.createElement('div');\n",
              "          docLink.innerHTML = docLinkHtml;\n",
              "          element.appendChild(docLink);\n",
              "        }\n",
              "      </script>\n",
              "    </div>\n",
              "  </div>\n",
              "  "
            ]
          },
          "metadata": {},
          "execution_count": 8
        }
      ]
    },
    {
      "cell_type": "markdown",
      "metadata": {
        "id": "DRGZFdiZ_NJZ"
      },
      "source": [
        "Based on the data description, plot summaries of 42,303 movies extracted from the November 2, 2012 dump of English-language Wikipedia.  Each line contains the Wikipedia movie ID (which indexes into movie.metadata.tsv) followed by the summary."
      ]
    },
    {
      "cell_type": "code",
      "metadata": {
        "id": "JCAEwg4B_Fmu"
      },
      "source": [
        "plot = plot.rename(columns={0:'wiki_movieID', \n",
        "                            1: 'summary'}) #renaming columns"
      ],
      "execution_count": null,
      "outputs": []
    },
    {
      "cell_type": "markdown",
      "metadata": {
        "id": "dXKvuiYQDvBC"
      },
      "source": [
        "**3. Merging the two dfs**"
      ]
    },
    {
      "cell_type": "code",
      "metadata": {
        "id": "xMRvG92M_eBV"
      },
      "source": [
        "merged = plot.merge(meta, on = 'wiki_movieID', how = 'left')"
      ],
      "execution_count": null,
      "outputs": []
    },
    {
      "cell_type": "code",
      "metadata": {
        "colab": {
          "base_uri": "https://localhost:8080/",
          "height": 250
        },
        "id": "DJs-3DD__skT",
        "outputId": "af61308a-78a7-4a20-d976-22bf8308c02e"
      },
      "source": [
        "merged.head()"
      ],
      "execution_count": null,
      "outputs": [
        {
          "output_type": "execute_result",
          "data": {
            "text/plain": [
              "   wiki_movieID                                            summary  \\\n",
              "0      23890098  Shlykov, a hard-working taxi driver and Lyosha...   \n",
              "1      31186339  The nation of Panem consists of a wealthy Capi...   \n",
              "2      20663735  Poovalli Induchoodan  is sentenced for six yea...   \n",
              "3       2231378  The Lemon Drop Kid , a New York City swindler,...   \n",
              "4        595909  Seventh-day Adventist Church pastor Michael Ch...   \n",
              "\n",
              "           movie_name release_date   box_of_rev  run_time  \\\n",
              "0          Taxi Blues   1990-09-07          NaN     110.0   \n",
              "1    The Hunger Games   2012-03-12  686533290.0     142.0   \n",
              "2          Narasimham         2000          NaN     175.0   \n",
              "3  The Lemon Drop Kid   1951-03-08    2300000.0      91.0   \n",
              "4   A Cry in the Dark   1988-11-03    6908797.0     121.0   \n",
              "\n",
              "                            languages  \\\n",
              "0    {\"/m/06b_j\": \"Russian Language\"}   \n",
              "1  {\"/m/02h40lc\": \"English Language\"}   \n",
              "2  {\"/m/0999q\": \"Malayalam Language\"}   \n",
              "3  {\"/m/02h40lc\": \"English Language\"}   \n",
              "4  {\"/m/02h40lc\": \"English Language\"}   \n",
              "\n",
              "                                           countries  \\\n",
              "0  {\"/m/0f8l9c\": \"France\", \"/m/05vz3zq\": \"Soviet ...   \n",
              "1          {\"/m/09c7w0\": \"United States of America\"}   \n",
              "2                              {\"/m/03rk0\": \"India\"}   \n",
              "3          {\"/m/09c7w0\": \"United States of America\"}   \n",
              "4  {\"/m/09c7w0\": \"United States of America\", \"/m/...   \n",
              "\n",
              "                                              genres  \n",
              "0  {\"/m/07s9rl0\": \"Drama\", \"/m/03q4nz\": \"World ci...  \n",
              "1  {\"/m/03btsm8\": \"Action/Adventure\", \"/m/06n90\":...  \n",
              "2  {\"/m/04t36\": \"Musical\", \"/m/02kdv5l\": \"Action\"...  \n",
              "3  {\"/m/06qm3\": \"Screwball comedy\", \"/m/01z4y\": \"...  \n",
              "4  {\"/m/0lsxr\": \"Crime Fiction\", \"/m/07s9rl0\": \"D...  "
            ],
            "text/html": [
              "\n",
              "  <div id=\"df-350e0045-ef14-4066-b6d1-05a0d3aea7ca\">\n",
              "    <div class=\"colab-df-container\">\n",
              "      <div>\n",
              "<style scoped>\n",
              "    .dataframe tbody tr th:only-of-type {\n",
              "        vertical-align: middle;\n",
              "    }\n",
              "\n",
              "    .dataframe tbody tr th {\n",
              "        vertical-align: top;\n",
              "    }\n",
              "\n",
              "    .dataframe thead th {\n",
              "        text-align: right;\n",
              "    }\n",
              "</style>\n",
              "<table border=\"1\" class=\"dataframe\">\n",
              "  <thead>\n",
              "    <tr style=\"text-align: right;\">\n",
              "      <th></th>\n",
              "      <th>wiki_movieID</th>\n",
              "      <th>summary</th>\n",
              "      <th>movie_name</th>\n",
              "      <th>release_date</th>\n",
              "      <th>box_of_rev</th>\n",
              "      <th>run_time</th>\n",
              "      <th>languages</th>\n",
              "      <th>countries</th>\n",
              "      <th>genres</th>\n",
              "    </tr>\n",
              "  </thead>\n",
              "  <tbody>\n",
              "    <tr>\n",
              "      <th>0</th>\n",
              "      <td>23890098</td>\n",
              "      <td>Shlykov, a hard-working taxi driver and Lyosha...</td>\n",
              "      <td>Taxi Blues</td>\n",
              "      <td>1990-09-07</td>\n",
              "      <td>NaN</td>\n",
              "      <td>110.0</td>\n",
              "      <td>{\"/m/06b_j\": \"Russian Language\"}</td>\n",
              "      <td>{\"/m/0f8l9c\": \"France\", \"/m/05vz3zq\": \"Soviet ...</td>\n",
              "      <td>{\"/m/07s9rl0\": \"Drama\", \"/m/03q4nz\": \"World ci...</td>\n",
              "    </tr>\n",
              "    <tr>\n",
              "      <th>1</th>\n",
              "      <td>31186339</td>\n",
              "      <td>The nation of Panem consists of a wealthy Capi...</td>\n",
              "      <td>The Hunger Games</td>\n",
              "      <td>2012-03-12</td>\n",
              "      <td>686533290.0</td>\n",
              "      <td>142.0</td>\n",
              "      <td>{\"/m/02h40lc\": \"English Language\"}</td>\n",
              "      <td>{\"/m/09c7w0\": \"United States of America\"}</td>\n",
              "      <td>{\"/m/03btsm8\": \"Action/Adventure\", \"/m/06n90\":...</td>\n",
              "    </tr>\n",
              "    <tr>\n",
              "      <th>2</th>\n",
              "      <td>20663735</td>\n",
              "      <td>Poovalli Induchoodan  is sentenced for six yea...</td>\n",
              "      <td>Narasimham</td>\n",
              "      <td>2000</td>\n",
              "      <td>NaN</td>\n",
              "      <td>175.0</td>\n",
              "      <td>{\"/m/0999q\": \"Malayalam Language\"}</td>\n",
              "      <td>{\"/m/03rk0\": \"India\"}</td>\n",
              "      <td>{\"/m/04t36\": \"Musical\", \"/m/02kdv5l\": \"Action\"...</td>\n",
              "    </tr>\n",
              "    <tr>\n",
              "      <th>3</th>\n",
              "      <td>2231378</td>\n",
              "      <td>The Lemon Drop Kid , a New York City swindler,...</td>\n",
              "      <td>The Lemon Drop Kid</td>\n",
              "      <td>1951-03-08</td>\n",
              "      <td>2300000.0</td>\n",
              "      <td>91.0</td>\n",
              "      <td>{\"/m/02h40lc\": \"English Language\"}</td>\n",
              "      <td>{\"/m/09c7w0\": \"United States of America\"}</td>\n",
              "      <td>{\"/m/06qm3\": \"Screwball comedy\", \"/m/01z4y\": \"...</td>\n",
              "    </tr>\n",
              "    <tr>\n",
              "      <th>4</th>\n",
              "      <td>595909</td>\n",
              "      <td>Seventh-day Adventist Church pastor Michael Ch...</td>\n",
              "      <td>A Cry in the Dark</td>\n",
              "      <td>1988-11-03</td>\n",
              "      <td>6908797.0</td>\n",
              "      <td>121.0</td>\n",
              "      <td>{\"/m/02h40lc\": \"English Language\"}</td>\n",
              "      <td>{\"/m/09c7w0\": \"United States of America\", \"/m/...</td>\n",
              "      <td>{\"/m/0lsxr\": \"Crime Fiction\", \"/m/07s9rl0\": \"D...</td>\n",
              "    </tr>\n",
              "  </tbody>\n",
              "</table>\n",
              "</div>\n",
              "      <button class=\"colab-df-convert\" onclick=\"convertToInteractive('df-350e0045-ef14-4066-b6d1-05a0d3aea7ca')\"\n",
              "              title=\"Convert this dataframe to an interactive table.\"\n",
              "              style=\"display:none;\">\n",
              "        \n",
              "  <svg xmlns=\"http://www.w3.org/2000/svg\" height=\"24px\"viewBox=\"0 0 24 24\"\n",
              "       width=\"24px\">\n",
              "    <path d=\"M0 0h24v24H0V0z\" fill=\"none\"/>\n",
              "    <path d=\"M18.56 5.44l.94 2.06.94-2.06 2.06-.94-2.06-.94-.94-2.06-.94 2.06-2.06.94zm-11 1L8.5 8.5l.94-2.06 2.06-.94-2.06-.94L8.5 2.5l-.94 2.06-2.06.94zm10 10l.94 2.06.94-2.06 2.06-.94-2.06-.94-.94-2.06-.94 2.06-2.06.94z\"/><path d=\"M17.41 7.96l-1.37-1.37c-.4-.4-.92-.59-1.43-.59-.52 0-1.04.2-1.43.59L10.3 9.45l-7.72 7.72c-.78.78-.78 2.05 0 2.83L4 21.41c.39.39.9.59 1.41.59.51 0 1.02-.2 1.41-.59l7.78-7.78 2.81-2.81c.8-.78.8-2.07 0-2.86zM5.41 20L4 18.59l7.72-7.72 1.47 1.35L5.41 20z\"/>\n",
              "  </svg>\n",
              "      </button>\n",
              "      \n",
              "  <style>\n",
              "    .colab-df-container {\n",
              "      display:flex;\n",
              "      flex-wrap:wrap;\n",
              "      gap: 12px;\n",
              "    }\n",
              "\n",
              "    .colab-df-convert {\n",
              "      background-color: #E8F0FE;\n",
              "      border: none;\n",
              "      border-radius: 50%;\n",
              "      cursor: pointer;\n",
              "      display: none;\n",
              "      fill: #1967D2;\n",
              "      height: 32px;\n",
              "      padding: 0 0 0 0;\n",
              "      width: 32px;\n",
              "    }\n",
              "\n",
              "    .colab-df-convert:hover {\n",
              "      background-color: #E2EBFA;\n",
              "      box-shadow: 0px 1px 2px rgba(60, 64, 67, 0.3), 0px 1px 3px 1px rgba(60, 64, 67, 0.15);\n",
              "      fill: #174EA6;\n",
              "    }\n",
              "\n",
              "    [theme=dark] .colab-df-convert {\n",
              "      background-color: #3B4455;\n",
              "      fill: #D2E3FC;\n",
              "    }\n",
              "\n",
              "    [theme=dark] .colab-df-convert:hover {\n",
              "      background-color: #434B5C;\n",
              "      box-shadow: 0px 1px 3px 1px rgba(0, 0, 0, 0.15);\n",
              "      filter: drop-shadow(0px 1px 2px rgba(0, 0, 0, 0.3));\n",
              "      fill: #FFFFFF;\n",
              "    }\n",
              "  </style>\n",
              "\n",
              "      <script>\n",
              "        const buttonEl =\n",
              "          document.querySelector('#df-350e0045-ef14-4066-b6d1-05a0d3aea7ca button.colab-df-convert');\n",
              "        buttonEl.style.display =\n",
              "          google.colab.kernel.accessAllowed ? 'block' : 'none';\n",
              "\n",
              "        async function convertToInteractive(key) {\n",
              "          const element = document.querySelector('#df-350e0045-ef14-4066-b6d1-05a0d3aea7ca');\n",
              "          const dataTable =\n",
              "            await google.colab.kernel.invokeFunction('convertToInteractive',\n",
              "                                                     [key], {});\n",
              "          if (!dataTable) return;\n",
              "\n",
              "          const docLinkHtml = 'Like what you see? Visit the ' +\n",
              "            '<a target=\"_blank\" href=https://colab.research.google.com/notebooks/data_table.ipynb>data table notebook</a>'\n",
              "            + ' to learn more about interactive tables.';\n",
              "          element.innerHTML = '';\n",
              "          dataTable['output_type'] = 'display_data';\n",
              "          await google.colab.output.renderOutput(dataTable, element);\n",
              "          const docLink = document.createElement('div');\n",
              "          docLink.innerHTML = docLinkHtml;\n",
              "          element.appendChild(docLink);\n",
              "        }\n",
              "      </script>\n",
              "    </div>\n",
              "  </div>\n",
              "  "
            ]
          },
          "metadata": {},
          "execution_count": 11
        }
      ]
    },
    {
      "cell_type": "markdown",
      "metadata": {
        "id": "umvuFBlADzsA"
      },
      "source": [
        "**4. Saving**"
      ]
    },
    {
      "cell_type": "code",
      "metadata": {
        "id": "jryeBmx2DO9-"
      },
      "source": [
        "merged.to_csv('merged_movies_df.csv')\n",
        "\n",
        "!cp merged_movies_df.csv \"/content/drive/MyDrive/movies2012data\""
      ],
      "execution_count": null,
      "outputs": []
    },
    {
      "cell_type": "markdown",
      "metadata": {
        "id": "TFHkMN71D2fY"
      },
      "source": [
        "##### **5. A quick initial peek into the data**"
      ]
    },
    {
      "cell_type": "code",
      "metadata": {
        "colab": {
          "base_uri": "https://localhost:8080/"
        },
        "id": "VCP8Xb4T_u_R",
        "outputId": "7e1c5f24-f665-4b50-ecf1-7f5d7605aecb"
      },
      "source": [
        "len(merged)"
      ],
      "execution_count": null,
      "outputs": [
        {
          "output_type": "execute_result",
          "data": {
            "text/plain": [
              "42303"
            ]
          },
          "metadata": {},
          "execution_count": 12
        }
      ]
    },
    {
      "cell_type": "code",
      "metadata": {
        "colab": {
          "base_uri": "https://localhost:8080/"
        },
        "id": "DzaS-U9f_yZK",
        "outputId": "6c867fa7-447a-4fda-ed8a-9414fa8139b9"
      },
      "source": [
        "merged.info()"
      ],
      "execution_count": null,
      "outputs": [
        {
          "output_type": "stream",
          "name": "stdout",
          "text": [
            "<class 'pandas.core.frame.DataFrame'>\n",
            "Int64Index: 42303 entries, 0 to 42302\n",
            "Data columns (total 9 columns):\n",
            " #   Column        Non-Null Count  Dtype  \n",
            "---  ------        --------------  -----  \n",
            " 0   wiki_movieID  42303 non-null  int64  \n",
            " 1   summary       42303 non-null  object \n",
            " 2   movie_name    42204 non-null  object \n",
            " 3   release_date  39586 non-null  object \n",
            " 4   box_of_rev    7587 non-null   float64\n",
            " 5   run_time      35580 non-null  float64\n",
            " 6   languages     42204 non-null  object \n",
            " 7   countries     42204 non-null  object \n",
            " 8   genres        42204 non-null  object \n",
            "dtypes: float64(2), int64(1), object(6)\n",
            "memory usage: 3.2+ MB\n"
          ]
        }
      ]
    },
    {
      "cell_type": "markdown",
      "source": [
        "Looks like I have box office information for 7587 movies only. That's not great, would be nice to have more movies, but speeds up the analysis. Which is good, since this is proof of concept. "
      ],
      "metadata": {
        "id": "RakarF5AF2jx"
      }
    },
    {
      "cell_type": "code",
      "metadata": {
        "colab": {
          "base_uri": "https://localhost:8080/",
          "height": 332
        },
        "id": "RNnVda29AIMj",
        "outputId": "4c723a0a-a981-49a1-d9d9-40934ba63631"
      },
      "source": [
        "columns = merged.columns\n",
        "\n",
        "missing_count = []\n",
        "\n",
        "for col in columns:\n",
        "  missing_count.append(merged[col].isna().sum())\n",
        "\n",
        "missing_summary = pd.DataFrame({'columns': columns,\n",
        "                                'missing_coumnt': missing_count})\n",
        "\n",
        "missing_summary  "
      ],
      "execution_count": null,
      "outputs": [
        {
          "output_type": "execute_result",
          "data": {
            "text/plain": [
              "        columns  missing_coumnt\n",
              "0  wiki_movieID               0\n",
              "1       summary               0\n",
              "2    movie_name              99\n",
              "3  release_date            2717\n",
              "4    box_of_rev           34716\n",
              "5      run_time            6723\n",
              "6     languages              99\n",
              "7     countries              99\n",
              "8        genres              99"
            ],
            "text/html": [
              "\n",
              "  <div id=\"df-fdea747f-aa2c-4a5c-9076-b19196c6e755\">\n",
              "    <div class=\"colab-df-container\">\n",
              "      <div>\n",
              "<style scoped>\n",
              "    .dataframe tbody tr th:only-of-type {\n",
              "        vertical-align: middle;\n",
              "    }\n",
              "\n",
              "    .dataframe tbody tr th {\n",
              "        vertical-align: top;\n",
              "    }\n",
              "\n",
              "    .dataframe thead th {\n",
              "        text-align: right;\n",
              "    }\n",
              "</style>\n",
              "<table border=\"1\" class=\"dataframe\">\n",
              "  <thead>\n",
              "    <tr style=\"text-align: right;\">\n",
              "      <th></th>\n",
              "      <th>columns</th>\n",
              "      <th>missing_coumnt</th>\n",
              "    </tr>\n",
              "  </thead>\n",
              "  <tbody>\n",
              "    <tr>\n",
              "      <th>0</th>\n",
              "      <td>wiki_movieID</td>\n",
              "      <td>0</td>\n",
              "    </tr>\n",
              "    <tr>\n",
              "      <th>1</th>\n",
              "      <td>summary</td>\n",
              "      <td>0</td>\n",
              "    </tr>\n",
              "    <tr>\n",
              "      <th>2</th>\n",
              "      <td>movie_name</td>\n",
              "      <td>99</td>\n",
              "    </tr>\n",
              "    <tr>\n",
              "      <th>3</th>\n",
              "      <td>release_date</td>\n",
              "      <td>2717</td>\n",
              "    </tr>\n",
              "    <tr>\n",
              "      <th>4</th>\n",
              "      <td>box_of_rev</td>\n",
              "      <td>34716</td>\n",
              "    </tr>\n",
              "    <tr>\n",
              "      <th>5</th>\n",
              "      <td>run_time</td>\n",
              "      <td>6723</td>\n",
              "    </tr>\n",
              "    <tr>\n",
              "      <th>6</th>\n",
              "      <td>languages</td>\n",
              "      <td>99</td>\n",
              "    </tr>\n",
              "    <tr>\n",
              "      <th>7</th>\n",
              "      <td>countries</td>\n",
              "      <td>99</td>\n",
              "    </tr>\n",
              "    <tr>\n",
              "      <th>8</th>\n",
              "      <td>genres</td>\n",
              "      <td>99</td>\n",
              "    </tr>\n",
              "  </tbody>\n",
              "</table>\n",
              "</div>\n",
              "      <button class=\"colab-df-convert\" onclick=\"convertToInteractive('df-fdea747f-aa2c-4a5c-9076-b19196c6e755')\"\n",
              "              title=\"Convert this dataframe to an interactive table.\"\n",
              "              style=\"display:none;\">\n",
              "        \n",
              "  <svg xmlns=\"http://www.w3.org/2000/svg\" height=\"24px\"viewBox=\"0 0 24 24\"\n",
              "       width=\"24px\">\n",
              "    <path d=\"M0 0h24v24H0V0z\" fill=\"none\"/>\n",
              "    <path d=\"M18.56 5.44l.94 2.06.94-2.06 2.06-.94-2.06-.94-.94-2.06-.94 2.06-2.06.94zm-11 1L8.5 8.5l.94-2.06 2.06-.94-2.06-.94L8.5 2.5l-.94 2.06-2.06.94zm10 10l.94 2.06.94-2.06 2.06-.94-2.06-.94-.94-2.06-.94 2.06-2.06.94z\"/><path d=\"M17.41 7.96l-1.37-1.37c-.4-.4-.92-.59-1.43-.59-.52 0-1.04.2-1.43.59L10.3 9.45l-7.72 7.72c-.78.78-.78 2.05 0 2.83L4 21.41c.39.39.9.59 1.41.59.51 0 1.02-.2 1.41-.59l7.78-7.78 2.81-2.81c.8-.78.8-2.07 0-2.86zM5.41 20L4 18.59l7.72-7.72 1.47 1.35L5.41 20z\"/>\n",
              "  </svg>\n",
              "      </button>\n",
              "      \n",
              "  <style>\n",
              "    .colab-df-container {\n",
              "      display:flex;\n",
              "      flex-wrap:wrap;\n",
              "      gap: 12px;\n",
              "    }\n",
              "\n",
              "    .colab-df-convert {\n",
              "      background-color: #E8F0FE;\n",
              "      border: none;\n",
              "      border-radius: 50%;\n",
              "      cursor: pointer;\n",
              "      display: none;\n",
              "      fill: #1967D2;\n",
              "      height: 32px;\n",
              "      padding: 0 0 0 0;\n",
              "      width: 32px;\n",
              "    }\n",
              "\n",
              "    .colab-df-convert:hover {\n",
              "      background-color: #E2EBFA;\n",
              "      box-shadow: 0px 1px 2px rgba(60, 64, 67, 0.3), 0px 1px 3px 1px rgba(60, 64, 67, 0.15);\n",
              "      fill: #174EA6;\n",
              "    }\n",
              "\n",
              "    [theme=dark] .colab-df-convert {\n",
              "      background-color: #3B4455;\n",
              "      fill: #D2E3FC;\n",
              "    }\n",
              "\n",
              "    [theme=dark] .colab-df-convert:hover {\n",
              "      background-color: #434B5C;\n",
              "      box-shadow: 0px 1px 3px 1px rgba(0, 0, 0, 0.15);\n",
              "      filter: drop-shadow(0px 1px 2px rgba(0, 0, 0, 0.3));\n",
              "      fill: #FFFFFF;\n",
              "    }\n",
              "  </style>\n",
              "\n",
              "      <script>\n",
              "        const buttonEl =\n",
              "          document.querySelector('#df-fdea747f-aa2c-4a5c-9076-b19196c6e755 button.colab-df-convert');\n",
              "        buttonEl.style.display =\n",
              "          google.colab.kernel.accessAllowed ? 'block' : 'none';\n",
              "\n",
              "        async function convertToInteractive(key) {\n",
              "          const element = document.querySelector('#df-fdea747f-aa2c-4a5c-9076-b19196c6e755');\n",
              "          const dataTable =\n",
              "            await google.colab.kernel.invokeFunction('convertToInteractive',\n",
              "                                                     [key], {});\n",
              "          if (!dataTable) return;\n",
              "\n",
              "          const docLinkHtml = 'Like what you see? Visit the ' +\n",
              "            '<a target=\"_blank\" href=https://colab.research.google.com/notebooks/data_table.ipynb>data table notebook</a>'\n",
              "            + ' to learn more about interactive tables.';\n",
              "          element.innerHTML = '';\n",
              "          dataTable['output_type'] = 'display_data';\n",
              "          await google.colab.output.renderOutput(dataTable, element);\n",
              "          const docLink = document.createElement('div');\n",
              "          docLink.innerHTML = docLinkHtml;\n",
              "          element.appendChild(docLink);\n",
              "        }\n",
              "      </script>\n",
              "    </div>\n",
              "  </div>\n",
              "  "
            ]
          },
          "metadata": {},
          "execution_count": 14
        }
      ]
    },
    {
      "cell_type": "markdown",
      "source": [
        "Now just a quick look into the summry of the plot. "
      ],
      "metadata": {
        "id": "glnPqxMOGgOl"
      }
    },
    {
      "cell_type": "code",
      "metadata": {
        "colab": {
          "base_uri": "https://localhost:8080/",
          "height": 36
        },
        "id": "1LdK4JiOA2Dk",
        "outputId": "6e80adf2-30f8-4658-8a83-9eb6f501ff7c"
      },
      "source": [
        "merged.summary[0]"
      ],
      "execution_count": null,
      "outputs": [
        {
          "output_type": "execute_result",
          "data": {
            "text/plain": [
              "\"Shlykov, a hard-working taxi driver and Lyosha, a saxophonist, develop a bizarre love-hate relationship, and despite their prejudices, realize they aren't so different after all.\""
            ],
            "application/vnd.google.colaboratory.intrinsic+json": {
              "type": "string"
            }
          },
          "metadata": {},
          "execution_count": 15
        }
      ]
    },
    {
      "cell_type": "code",
      "metadata": {
        "colab": {
          "base_uri": "https://localhost:8080/"
        },
        "id": "rpT3hEocBYVd",
        "outputId": "02789481-ab6a-4606-8dd3-440678864af4"
      },
      "source": [
        "len(merged.summary[0])"
      ],
      "execution_count": null,
      "outputs": [
        {
          "output_type": "execute_result",
          "data": {
            "text/plain": [
              "178"
            ]
          },
          "metadata": {},
          "execution_count": 16
        }
      ]
    },
    {
      "cell_type": "markdown",
      "source": [
        "The first one seems to be quite short. I hope to have longer summaries. Such short ones probably do not demonstrate much of originality of the actual movie. \n",
        "If I needed short descriptions of the movies, I could have gone for summaries from IMDb.\n",
        "\n",
        "Now need to check if this is an exception, or all the plots are these short. "
      ],
      "metadata": {
        "id": "hFHlX-JJGk-u"
      }
    },
    {
      "cell_type": "code",
      "metadata": {
        "id": "Z2MdJ6ClBc8J",
        "colab": {
          "base_uri": "https://localhost:8080/"
        },
        "outputId": "bb23172c-bbe9-4a1f-ec55-f79c4d6ba0bd"
      },
      "source": [
        "summary_length = []\n",
        "\n",
        "for i in range(len(merged)):\n",
        "  summary_length.append(len(merged.summary[i]))\n",
        "\n",
        "summary_length = np.array(summary_length)\n",
        "\n",
        "print('Mean summary character length: ' + str(round(np.mean(summary_length),2)))\n",
        "print('Max summary character length: ' + str(np.max(summary_length)))\n",
        "print('Min summary character length: ' + str(np.min(summary_length)))"
      ],
      "execution_count": null,
      "outputs": [
        {
          "output_type": "stream",
          "name": "stdout",
          "text": [
            "Mean summary character length: 1784.03\n",
            "Max summary character length: 28159\n",
            "Min summary character length: 99\n"
          ]
        }
      ]
    },
    {
      "cell_type": "markdown",
      "source": [
        "Ok, looks like on average the plots are 10 times longer than the first plot I checked above. "
      ],
      "metadata": {
        "id": "_UHZSZ64HYSv"
      }
    },
    {
      "cell_type": "markdown",
      "metadata": {
        "id": "oIKzb_ExzbGp"
      },
      "source": [
        "### **Data Cleaning**"
      ]
    },
    {
      "cell_type": "markdown",
      "source": [
        "In this section I clean and check some of the variables of potential interest:\n",
        "\n",
        "1. Check the box office variable. That would be a measure of success. \n",
        "2. Check and create dummies for:\n",
        "    * language\n",
        "    * country\n",
        "    * genre\n",
        "3. Extract only year from release date.\n",
        "4. Allign data formats."
      ],
      "metadata": {
        "id": "sGSYEgFswCo4"
      }
    },
    {
      "cell_type": "code",
      "metadata": {
        "colab": {
          "base_uri": "https://localhost:8080/",
          "height": 354
        },
        "id": "b79ZfRoZzdfU",
        "outputId": "9ecb8ce4-2b33-4a04-f2e2-b9ecfbb730a7"
      },
      "source": [
        "movie1 = pd.read_csv('/content/drive/MyDrive/movies2012data/merged_movies_df.csv')\n",
        "\n",
        "movie1.head()"
      ],
      "execution_count": null,
      "outputs": [
        {
          "output_type": "execute_result",
          "data": {
            "text/plain": [
              "   Unnamed: 0  wiki_movieID  \\\n",
              "0           0      23890098   \n",
              "1           1      31186339   \n",
              "2           2      20663735   \n",
              "3           3       2231378   \n",
              "4           4        595909   \n",
              "\n",
              "                                             summary          movie_name  \\\n",
              "0  Shlykov, a hard-working taxi driver and Lyosha...          Taxi Blues   \n",
              "1  The nation of Panem consists of a wealthy Capi...    The Hunger Games   \n",
              "2  Poovalli Induchoodan  is sentenced for six yea...          Narasimham   \n",
              "3  The Lemon Drop Kid , a New York City swindler,...  The Lemon Drop Kid   \n",
              "4  Seventh-day Adventist Church pastor Michael Ch...   A Cry in the Dark   \n",
              "\n",
              "  release_date   box_of_rev  run_time                           languages  \\\n",
              "0   1990-09-07          NaN     110.0    {\"/m/06b_j\": \"Russian Language\"}   \n",
              "1   2012-03-12  686533290.0     142.0  {\"/m/02h40lc\": \"English Language\"}   \n",
              "2         2000          NaN     175.0  {\"/m/0999q\": \"Malayalam Language\"}   \n",
              "3   1951-03-08    2300000.0      91.0  {\"/m/02h40lc\": \"English Language\"}   \n",
              "4   1988-11-03    6908797.0     121.0  {\"/m/02h40lc\": \"English Language\"}   \n",
              "\n",
              "                                           countries  \\\n",
              "0  {\"/m/0f8l9c\": \"France\", \"/m/05vz3zq\": \"Soviet ...   \n",
              "1          {\"/m/09c7w0\": \"United States of America\"}   \n",
              "2                              {\"/m/03rk0\": \"India\"}   \n",
              "3          {\"/m/09c7w0\": \"United States of America\"}   \n",
              "4  {\"/m/09c7w0\": \"United States of America\", \"/m/...   \n",
              "\n",
              "                                              genres  \n",
              "0  {\"/m/07s9rl0\": \"Drama\", \"/m/03q4nz\": \"World ci...  \n",
              "1  {\"/m/03btsm8\": \"Action/Adventure\", \"/m/06n90\":...  \n",
              "2  {\"/m/04t36\": \"Musical\", \"/m/02kdv5l\": \"Action\"...  \n",
              "3  {\"/m/06qm3\": \"Screwball comedy\", \"/m/01z4y\": \"...  \n",
              "4  {\"/m/0lsxr\": \"Crime Fiction\", \"/m/07s9rl0\": \"D...  "
            ],
            "text/html": [
              "\n",
              "  <div id=\"df-c04a9565-0508-4f10-bdea-199968e0b410\">\n",
              "    <div class=\"colab-df-container\">\n",
              "      <div>\n",
              "<style scoped>\n",
              "    .dataframe tbody tr th:only-of-type {\n",
              "        vertical-align: middle;\n",
              "    }\n",
              "\n",
              "    .dataframe tbody tr th {\n",
              "        vertical-align: top;\n",
              "    }\n",
              "\n",
              "    .dataframe thead th {\n",
              "        text-align: right;\n",
              "    }\n",
              "</style>\n",
              "<table border=\"1\" class=\"dataframe\">\n",
              "  <thead>\n",
              "    <tr style=\"text-align: right;\">\n",
              "      <th></th>\n",
              "      <th>Unnamed: 0</th>\n",
              "      <th>wiki_movieID</th>\n",
              "      <th>summary</th>\n",
              "      <th>movie_name</th>\n",
              "      <th>release_date</th>\n",
              "      <th>box_of_rev</th>\n",
              "      <th>run_time</th>\n",
              "      <th>languages</th>\n",
              "      <th>countries</th>\n",
              "      <th>genres</th>\n",
              "    </tr>\n",
              "  </thead>\n",
              "  <tbody>\n",
              "    <tr>\n",
              "      <th>0</th>\n",
              "      <td>0</td>\n",
              "      <td>23890098</td>\n",
              "      <td>Shlykov, a hard-working taxi driver and Lyosha...</td>\n",
              "      <td>Taxi Blues</td>\n",
              "      <td>1990-09-07</td>\n",
              "      <td>NaN</td>\n",
              "      <td>110.0</td>\n",
              "      <td>{\"/m/06b_j\": \"Russian Language\"}</td>\n",
              "      <td>{\"/m/0f8l9c\": \"France\", \"/m/05vz3zq\": \"Soviet ...</td>\n",
              "      <td>{\"/m/07s9rl0\": \"Drama\", \"/m/03q4nz\": \"World ci...</td>\n",
              "    </tr>\n",
              "    <tr>\n",
              "      <th>1</th>\n",
              "      <td>1</td>\n",
              "      <td>31186339</td>\n",
              "      <td>The nation of Panem consists of a wealthy Capi...</td>\n",
              "      <td>The Hunger Games</td>\n",
              "      <td>2012-03-12</td>\n",
              "      <td>686533290.0</td>\n",
              "      <td>142.0</td>\n",
              "      <td>{\"/m/02h40lc\": \"English Language\"}</td>\n",
              "      <td>{\"/m/09c7w0\": \"United States of America\"}</td>\n",
              "      <td>{\"/m/03btsm8\": \"Action/Adventure\", \"/m/06n90\":...</td>\n",
              "    </tr>\n",
              "    <tr>\n",
              "      <th>2</th>\n",
              "      <td>2</td>\n",
              "      <td>20663735</td>\n",
              "      <td>Poovalli Induchoodan  is sentenced for six yea...</td>\n",
              "      <td>Narasimham</td>\n",
              "      <td>2000</td>\n",
              "      <td>NaN</td>\n",
              "      <td>175.0</td>\n",
              "      <td>{\"/m/0999q\": \"Malayalam Language\"}</td>\n",
              "      <td>{\"/m/03rk0\": \"India\"}</td>\n",
              "      <td>{\"/m/04t36\": \"Musical\", \"/m/02kdv5l\": \"Action\"...</td>\n",
              "    </tr>\n",
              "    <tr>\n",
              "      <th>3</th>\n",
              "      <td>3</td>\n",
              "      <td>2231378</td>\n",
              "      <td>The Lemon Drop Kid , a New York City swindler,...</td>\n",
              "      <td>The Lemon Drop Kid</td>\n",
              "      <td>1951-03-08</td>\n",
              "      <td>2300000.0</td>\n",
              "      <td>91.0</td>\n",
              "      <td>{\"/m/02h40lc\": \"English Language\"}</td>\n",
              "      <td>{\"/m/09c7w0\": \"United States of America\"}</td>\n",
              "      <td>{\"/m/06qm3\": \"Screwball comedy\", \"/m/01z4y\": \"...</td>\n",
              "    </tr>\n",
              "    <tr>\n",
              "      <th>4</th>\n",
              "      <td>4</td>\n",
              "      <td>595909</td>\n",
              "      <td>Seventh-day Adventist Church pastor Michael Ch...</td>\n",
              "      <td>A Cry in the Dark</td>\n",
              "      <td>1988-11-03</td>\n",
              "      <td>6908797.0</td>\n",
              "      <td>121.0</td>\n",
              "      <td>{\"/m/02h40lc\": \"English Language\"}</td>\n",
              "      <td>{\"/m/09c7w0\": \"United States of America\", \"/m/...</td>\n",
              "      <td>{\"/m/0lsxr\": \"Crime Fiction\", \"/m/07s9rl0\": \"D...</td>\n",
              "    </tr>\n",
              "  </tbody>\n",
              "</table>\n",
              "</div>\n",
              "      <button class=\"colab-df-convert\" onclick=\"convertToInteractive('df-c04a9565-0508-4f10-bdea-199968e0b410')\"\n",
              "              title=\"Convert this dataframe to an interactive table.\"\n",
              "              style=\"display:none;\">\n",
              "        \n",
              "  <svg xmlns=\"http://www.w3.org/2000/svg\" height=\"24px\"viewBox=\"0 0 24 24\"\n",
              "       width=\"24px\">\n",
              "    <path d=\"M0 0h24v24H0V0z\" fill=\"none\"/>\n",
              "    <path d=\"M18.56 5.44l.94 2.06.94-2.06 2.06-.94-2.06-.94-.94-2.06-.94 2.06-2.06.94zm-11 1L8.5 8.5l.94-2.06 2.06-.94-2.06-.94L8.5 2.5l-.94 2.06-2.06.94zm10 10l.94 2.06.94-2.06 2.06-.94-2.06-.94-.94-2.06-.94 2.06-2.06.94z\"/><path d=\"M17.41 7.96l-1.37-1.37c-.4-.4-.92-.59-1.43-.59-.52 0-1.04.2-1.43.59L10.3 9.45l-7.72 7.72c-.78.78-.78 2.05 0 2.83L4 21.41c.39.39.9.59 1.41.59.51 0 1.02-.2 1.41-.59l7.78-7.78 2.81-2.81c.8-.78.8-2.07 0-2.86zM5.41 20L4 18.59l7.72-7.72 1.47 1.35L5.41 20z\"/>\n",
              "  </svg>\n",
              "      </button>\n",
              "      \n",
              "  <style>\n",
              "    .colab-df-container {\n",
              "      display:flex;\n",
              "      flex-wrap:wrap;\n",
              "      gap: 12px;\n",
              "    }\n",
              "\n",
              "    .colab-df-convert {\n",
              "      background-color: #E8F0FE;\n",
              "      border: none;\n",
              "      border-radius: 50%;\n",
              "      cursor: pointer;\n",
              "      display: none;\n",
              "      fill: #1967D2;\n",
              "      height: 32px;\n",
              "      padding: 0 0 0 0;\n",
              "      width: 32px;\n",
              "    }\n",
              "\n",
              "    .colab-df-convert:hover {\n",
              "      background-color: #E2EBFA;\n",
              "      box-shadow: 0px 1px 2px rgba(60, 64, 67, 0.3), 0px 1px 3px 1px rgba(60, 64, 67, 0.15);\n",
              "      fill: #174EA6;\n",
              "    }\n",
              "\n",
              "    [theme=dark] .colab-df-convert {\n",
              "      background-color: #3B4455;\n",
              "      fill: #D2E3FC;\n",
              "    }\n",
              "\n",
              "    [theme=dark] .colab-df-convert:hover {\n",
              "      background-color: #434B5C;\n",
              "      box-shadow: 0px 1px 3px 1px rgba(0, 0, 0, 0.15);\n",
              "      filter: drop-shadow(0px 1px 2px rgba(0, 0, 0, 0.3));\n",
              "      fill: #FFFFFF;\n",
              "    }\n",
              "  </style>\n",
              "\n",
              "      <script>\n",
              "        const buttonEl =\n",
              "          document.querySelector('#df-c04a9565-0508-4f10-bdea-199968e0b410 button.colab-df-convert');\n",
              "        buttonEl.style.display =\n",
              "          google.colab.kernel.accessAllowed ? 'block' : 'none';\n",
              "\n",
              "        async function convertToInteractive(key) {\n",
              "          const element = document.querySelector('#df-c04a9565-0508-4f10-bdea-199968e0b410');\n",
              "          const dataTable =\n",
              "            await google.colab.kernel.invokeFunction('convertToInteractive',\n",
              "                                                     [key], {});\n",
              "          if (!dataTable) return;\n",
              "\n",
              "          const docLinkHtml = 'Like what you see? Visit the ' +\n",
              "            '<a target=\"_blank\" href=https://colab.research.google.com/notebooks/data_table.ipynb>data table notebook</a>'\n",
              "            + ' to learn more about interactive tables.';\n",
              "          element.innerHTML = '';\n",
              "          dataTable['output_type'] = 'display_data';\n",
              "          await google.colab.output.renderOutput(dataTable, element);\n",
              "          const docLink = document.createElement('div');\n",
              "          docLink.innerHTML = docLinkHtml;\n",
              "          element.appendChild(docLink);\n",
              "        }\n",
              "      </script>\n",
              "    </div>\n",
              "  </div>\n",
              "  "
            ]
          },
          "metadata": {},
          "execution_count": 27
        }
      ]
    },
    {
      "cell_type": "markdown",
      "metadata": {
        "id": "TD1lfsUP0IqL"
      },
      "source": [
        "#### **1. Explore the Key variable (DV) - Box Office**"
      ]
    },
    {
      "cell_type": "code",
      "metadata": {
        "colab": {
          "base_uri": "https://localhost:8080/"
        },
        "id": "Q2JGK-Fp0DIr",
        "outputId": "72d48967-048c-4d4b-8fc0-7303365ea41f"
      },
      "source": [
        "print('Missing box office' + str(movie1.box_of_rev.isna().sum()/len(movie1)))\n",
        "print('Box office info available for ' + str(movie1.box_of_rev.notna().sum()) + ' movies')"
      ],
      "execution_count": null,
      "outputs": [
        {
          "output_type": "stream",
          "name": "stdout",
          "text": [
            "Missing box office0.8206510176583222\n",
            "Box office info available for 7587 movies\n"
          ]
        }
      ]
    },
    {
      "cell_type": "markdown",
      "metadata": {
        "id": "IUBMg6Ze0R4J"
      },
      "source": [
        "Only 18% of data (7587 movies) have box office info. Will keep only those"
      ]
    },
    {
      "cell_type": "code",
      "metadata": {
        "id": "tEoCB5PA0HfY"
      },
      "source": [
        "movie2 = movie1[movie1.box_of_rev.notna()] #subsetting to keep only those with box office known"
      ],
      "execution_count": null,
      "outputs": []
    },
    {
      "cell_type": "code",
      "metadata": {
        "colab": {
          "base_uri": "https://localhost:8080/",
          "height": 300
        },
        "id": "HpMe8X4a0kix",
        "outputId": "37e6b57a-a135-4345-e1c4-6a0aa9826555"
      },
      "source": [
        "movie2.describe()"
      ],
      "execution_count": null,
      "outputs": [
        {
          "output_type": "execute_result",
          "data": {
            "text/plain": [
              "         Unnamed: 0  wiki_movieID    box_of_rev     run_time\n",
              "count   7587.000000  7.587000e+03  7.587000e+03  7513.000000\n",
              "mean   21350.236853  8.622736e+06  5.175973e+07   106.030574\n",
              "std    12125.625067  9.949717e+06  1.167179e+08    22.785962\n",
              "min        1.000000  3.217000e+03  1.020000e+04    10.000000\n",
              "25%    11054.000000  1.134646e+06  2.500000e+06    93.000000\n",
              "50%    21472.000000  3.723947e+06  1.242118e+07   103.000000\n",
              "75%    31751.000000  1.393558e+07  4.559722e+07   115.000000\n",
              "max    42296.000000  3.695679e+07  2.782275e+09  1003.000000"
            ],
            "text/html": [
              "\n",
              "  <div id=\"df-72b6d7bd-539e-4cf3-97d1-d3f12860a490\">\n",
              "    <div class=\"colab-df-container\">\n",
              "      <div>\n",
              "<style scoped>\n",
              "    .dataframe tbody tr th:only-of-type {\n",
              "        vertical-align: middle;\n",
              "    }\n",
              "\n",
              "    .dataframe tbody tr th {\n",
              "        vertical-align: top;\n",
              "    }\n",
              "\n",
              "    .dataframe thead th {\n",
              "        text-align: right;\n",
              "    }\n",
              "</style>\n",
              "<table border=\"1\" class=\"dataframe\">\n",
              "  <thead>\n",
              "    <tr style=\"text-align: right;\">\n",
              "      <th></th>\n",
              "      <th>Unnamed: 0</th>\n",
              "      <th>wiki_movieID</th>\n",
              "      <th>box_of_rev</th>\n",
              "      <th>run_time</th>\n",
              "    </tr>\n",
              "  </thead>\n",
              "  <tbody>\n",
              "    <tr>\n",
              "      <th>count</th>\n",
              "      <td>7587.000000</td>\n",
              "      <td>7.587000e+03</td>\n",
              "      <td>7.587000e+03</td>\n",
              "      <td>7513.000000</td>\n",
              "    </tr>\n",
              "    <tr>\n",
              "      <th>mean</th>\n",
              "      <td>21350.236853</td>\n",
              "      <td>8.622736e+06</td>\n",
              "      <td>5.175973e+07</td>\n",
              "      <td>106.030574</td>\n",
              "    </tr>\n",
              "    <tr>\n",
              "      <th>std</th>\n",
              "      <td>12125.625067</td>\n",
              "      <td>9.949717e+06</td>\n",
              "      <td>1.167179e+08</td>\n",
              "      <td>22.785962</td>\n",
              "    </tr>\n",
              "    <tr>\n",
              "      <th>min</th>\n",
              "      <td>1.000000</td>\n",
              "      <td>3.217000e+03</td>\n",
              "      <td>1.020000e+04</td>\n",
              "      <td>10.000000</td>\n",
              "    </tr>\n",
              "    <tr>\n",
              "      <th>25%</th>\n",
              "      <td>11054.000000</td>\n",
              "      <td>1.134646e+06</td>\n",
              "      <td>2.500000e+06</td>\n",
              "      <td>93.000000</td>\n",
              "    </tr>\n",
              "    <tr>\n",
              "      <th>50%</th>\n",
              "      <td>21472.000000</td>\n",
              "      <td>3.723947e+06</td>\n",
              "      <td>1.242118e+07</td>\n",
              "      <td>103.000000</td>\n",
              "    </tr>\n",
              "    <tr>\n",
              "      <th>75%</th>\n",
              "      <td>31751.000000</td>\n",
              "      <td>1.393558e+07</td>\n",
              "      <td>4.559722e+07</td>\n",
              "      <td>115.000000</td>\n",
              "    </tr>\n",
              "    <tr>\n",
              "      <th>max</th>\n",
              "      <td>42296.000000</td>\n",
              "      <td>3.695679e+07</td>\n",
              "      <td>2.782275e+09</td>\n",
              "      <td>1003.000000</td>\n",
              "    </tr>\n",
              "  </tbody>\n",
              "</table>\n",
              "</div>\n",
              "      <button class=\"colab-df-convert\" onclick=\"convertToInteractive('df-72b6d7bd-539e-4cf3-97d1-d3f12860a490')\"\n",
              "              title=\"Convert this dataframe to an interactive table.\"\n",
              "              style=\"display:none;\">\n",
              "        \n",
              "  <svg xmlns=\"http://www.w3.org/2000/svg\" height=\"24px\"viewBox=\"0 0 24 24\"\n",
              "       width=\"24px\">\n",
              "    <path d=\"M0 0h24v24H0V0z\" fill=\"none\"/>\n",
              "    <path d=\"M18.56 5.44l.94 2.06.94-2.06 2.06-.94-2.06-.94-.94-2.06-.94 2.06-2.06.94zm-11 1L8.5 8.5l.94-2.06 2.06-.94-2.06-.94L8.5 2.5l-.94 2.06-2.06.94zm10 10l.94 2.06.94-2.06 2.06-.94-2.06-.94-.94-2.06-.94 2.06-2.06.94z\"/><path d=\"M17.41 7.96l-1.37-1.37c-.4-.4-.92-.59-1.43-.59-.52 0-1.04.2-1.43.59L10.3 9.45l-7.72 7.72c-.78.78-.78 2.05 0 2.83L4 21.41c.39.39.9.59 1.41.59.51 0 1.02-.2 1.41-.59l7.78-7.78 2.81-2.81c.8-.78.8-2.07 0-2.86zM5.41 20L4 18.59l7.72-7.72 1.47 1.35L5.41 20z\"/>\n",
              "  </svg>\n",
              "      </button>\n",
              "      \n",
              "  <style>\n",
              "    .colab-df-container {\n",
              "      display:flex;\n",
              "      flex-wrap:wrap;\n",
              "      gap: 12px;\n",
              "    }\n",
              "\n",
              "    .colab-df-convert {\n",
              "      background-color: #E8F0FE;\n",
              "      border: none;\n",
              "      border-radius: 50%;\n",
              "      cursor: pointer;\n",
              "      display: none;\n",
              "      fill: #1967D2;\n",
              "      height: 32px;\n",
              "      padding: 0 0 0 0;\n",
              "      width: 32px;\n",
              "    }\n",
              "\n",
              "    .colab-df-convert:hover {\n",
              "      background-color: #E2EBFA;\n",
              "      box-shadow: 0px 1px 2px rgba(60, 64, 67, 0.3), 0px 1px 3px 1px rgba(60, 64, 67, 0.15);\n",
              "      fill: #174EA6;\n",
              "    }\n",
              "\n",
              "    [theme=dark] .colab-df-convert {\n",
              "      background-color: #3B4455;\n",
              "      fill: #D2E3FC;\n",
              "    }\n",
              "\n",
              "    [theme=dark] .colab-df-convert:hover {\n",
              "      background-color: #434B5C;\n",
              "      box-shadow: 0px 1px 3px 1px rgba(0, 0, 0, 0.15);\n",
              "      filter: drop-shadow(0px 1px 2px rgba(0, 0, 0, 0.3));\n",
              "      fill: #FFFFFF;\n",
              "    }\n",
              "  </style>\n",
              "\n",
              "      <script>\n",
              "        const buttonEl =\n",
              "          document.querySelector('#df-72b6d7bd-539e-4cf3-97d1-d3f12860a490 button.colab-df-convert');\n",
              "        buttonEl.style.display =\n",
              "          google.colab.kernel.accessAllowed ? 'block' : 'none';\n",
              "\n",
              "        async function convertToInteractive(key) {\n",
              "          const element = document.querySelector('#df-72b6d7bd-539e-4cf3-97d1-d3f12860a490');\n",
              "          const dataTable =\n",
              "            await google.colab.kernel.invokeFunction('convertToInteractive',\n",
              "                                                     [key], {});\n",
              "          if (!dataTable) return;\n",
              "\n",
              "          const docLinkHtml = 'Like what you see? Visit the ' +\n",
              "            '<a target=\"_blank\" href=https://colab.research.google.com/notebooks/data_table.ipynb>data table notebook</a>'\n",
              "            + ' to learn more about interactive tables.';\n",
              "          element.innerHTML = '';\n",
              "          dataTable['output_type'] = 'display_data';\n",
              "          await google.colab.output.renderOutput(dataTable, element);\n",
              "          const docLink = document.createElement('div');\n",
              "          docLink.innerHTML = docLinkHtml;\n",
              "          element.appendChild(docLink);\n",
              "        }\n",
              "      </script>\n",
              "    </div>\n",
              "  </div>\n",
              "  "
            ]
          },
          "metadata": {},
          "execution_count": 31
        }
      ]
    },
    {
      "cell_type": "code",
      "source": [
        "print('Max box office: ' + str(movie2.box_of_rev.max()))\n",
        "print('Min box office: ' + str(movie2.box_of_rev.min()))"
      ],
      "metadata": {
        "colab": {
          "base_uri": "https://localhost:8080/"
        },
        "id": "P8RC9HenKor7",
        "outputId": "003a0e06-db8a-4de1-d4c3-c4bbd66819f3"
      },
      "execution_count": null,
      "outputs": [
        {
          "output_type": "stream",
          "name": "stdout",
          "text": [
            "Max box office: 2782275172.0\n",
            "Min box office: 10200.0\n"
          ]
        }
      ]
    },
    {
      "cell_type": "markdown",
      "source": [
        "The range does not promice a normal distribution on this one. "
      ],
      "metadata": {
        "id": "eAEcupD-K6zr"
      }
    },
    {
      "cell_type": "code",
      "metadata": {
        "colab": {
          "base_uri": "https://localhost:8080/",
          "height": 278
        },
        "id": "JF1mZvdE0-W4",
        "outputId": "9ec98f3b-0f36-40f8-f16c-4af5290847db"
      },
      "source": [
        "plt.hist(movie2.box_of_rev)\n",
        "plt.show()"
      ],
      "execution_count": null,
      "outputs": [
        {
          "output_type": "display_data",
          "data": {
            "text/plain": [
              "<Figure size 432x288 with 1 Axes>"
            ],
            "image/png": "[encoded data removed]"
          },
          "metadata": {
            "needs_background": "light"
          }
        }
      ]
    },
    {
      "cell_type": "markdown",
      "source": [
        "Digging deeper into what's behind this bar:"
      ],
      "metadata": {
        "id": "HjAZmxndLIYC"
      }
    },
    {
      "cell_type": "code",
      "metadata": {
        "colab": {
          "base_uri": "https://localhost:8080/"
        },
        "id": "apc1GDrx1NgZ",
        "outputId": "4c9c63d8-d3e8-46e8-f6bc-6107e2e46396"
      },
      "source": [
        "movie2.box_of_rev.quantile(0.5)"
      ],
      "execution_count": null,
      "outputs": [
        {
          "output_type": "execute_result",
          "data": {
            "text/plain": [
              "12421181.0"
            ]
          },
          "metadata": {},
          "execution_count": 36
        }
      ]
    },
    {
      "cell_type": "code",
      "metadata": {
        "colab": {
          "base_uri": "https://localhost:8080/"
        },
        "id": "qX5babHf1cOJ",
        "outputId": "56a6e5ec-538f-47d8-99f1-7f160fdfd8ab"
      },
      "source": [
        "movie2.box_of_rev.quantile(0.25)"
      ],
      "execution_count": null,
      "outputs": [
        {
          "output_type": "execute_result",
          "data": {
            "text/plain": [
              "2500000.0"
            ]
          },
          "metadata": {},
          "execution_count": 37
        }
      ]
    },
    {
      "cell_type": "code",
      "metadata": {
        "colab": {
          "base_uri": "https://localhost:8080/"
        },
        "id": "P_jvEy_S1dfo",
        "outputId": "f929a450-5e20-4d68-b92b-3b0be5d78498"
      },
      "source": [
        "movie2.box_of_rev.quantile(0.75)"
      ],
      "execution_count": null,
      "outputs": [
        {
          "output_type": "execute_result",
          "data": {
            "text/plain": [
              "45597223.0"
            ]
          },
          "metadata": {},
          "execution_count": 38
        }
      ]
    },
    {
      "cell_type": "code",
      "metadata": {
        "colab": {
          "base_uri": "https://localhost:8080/",
          "height": 388
        },
        "id": "og4YYRIG1mYv",
        "outputId": "481dd388-e2b5-4e3c-a00d-a8f54a873072"
      },
      "source": [
        "plt.hist(movie2[movie2.box_of_rev <= movie2.box_of_rev.quantile(0.75)].box_of_rev)"
      ],
      "execution_count": null,
      "outputs": [
        {
          "output_type": "execute_result",
          "data": {
            "text/plain": [
              "(array([2529.,  807.,  581.,  448.,  358.,  243.,  220.,  194.,  172.,\n",
              "         138.]),\n",
              " array([1.02000000e+04, 4.56758360e+06, 9.12496720e+06, 1.36823508e+07,\n",
              "        1.82397344e+07, 2.27971180e+07, 2.73545016e+07, 3.19118852e+07,\n",
              "        3.64692688e+07, 4.10266524e+07, 4.55840360e+07]),\n",
              " <a list of 10 Patch objects>)"
            ]
          },
          "metadata": {},
          "execution_count": 39
        },
        {
          "output_type": "display_data",
          "data": {
            "text/plain": [
              "<Figure size 432x288 with 1 Axes>"
            ],
            "image/png": "[encoded data removed]"
          },
          "metadata": {
            "needs_background": "light"
          }
        }
      ]
    },
    {
      "cell_type": "code",
      "metadata": {
        "colab": {
          "base_uri": "https://localhost:8080/",
          "height": 388
        },
        "id": "GXLQDA6u13UX",
        "outputId": "4514c59e-0cdd-42d8-8c42-20597480190a"
      },
      "source": [
        "plt.hist(movie2[movie2.box_of_rev <= movie2.box_of_rev.quantile(0.50)].box_of_rev)"
      ],
      "execution_count": null,
      "outputs": [
        {
          "output_type": "execute_result",
          "data": {
            "text/plain": [
              "(array([1197.,  679.,  435.,  307.,  251.,  228.,  183.,  154.,  197.,\n",
              "         163.]),\n",
              " array([1.02000000e+04, 1.25129810e+06, 2.49239620e+06, 3.73349430e+06,\n",
              "        4.97459240e+06, 6.21569050e+06, 7.45678860e+06, 8.69788670e+06,\n",
              "        9.93898480e+06, 1.11800829e+07, 1.24211810e+07]),\n",
              " <a list of 10 Patch objects>)"
            ]
          },
          "metadata": {},
          "execution_count": 40
        },
        {
          "output_type": "display_data",
          "data": {
            "text/plain": [
              "<Figure size 432x288 with 1 Axes>"
            ],
            "image/png": "[encoded data removed]"
          },
          "metadata": {
            "needs_background": "light"
          }
        }
      ]
    },
    {
      "cell_type": "code",
      "metadata": {
        "colab": {
          "base_uri": "https://localhost:8080/",
          "height": 375
        },
        "id": "MKFnKmST19to",
        "outputId": "053737a8-5f1a-41b1-b440-c3390c6d8e0b"
      },
      "source": [
        "plt.hist(np.log(movie2.box_of_rev)) # turns into a desent distribution with log trasformation"
      ],
      "execution_count": null,
      "outputs": [
        {
          "output_type": "execute_result",
          "data": {
            "text/plain": [
              "(array([ 111.,  193.,  299.,  767., 1331., 1702., 1686., 1101.,  362.,\n",
              "          35.]),\n",
              " array([ 9.230143  , 10.48178218, 11.73342137, 12.98506055, 14.23669973,\n",
              "        15.48833892, 16.7399781 , 17.99161729, 19.24325647, 20.49489565,\n",
              "        21.74653484]),\n",
              " <a list of 10 Patch objects>)"
            ]
          },
          "metadata": {},
          "execution_count": 41
        },
        {
          "output_type": "display_data",
          "data": {
            "text/plain": [
              "<Figure size 432x288 with 1 Axes>"
            ],
            "image/png": "[encoded data removed]"
          },
          "metadata": {
            "needs_background": "light"
          }
        }
      ]
    },
    {
      "cell_type": "markdown",
      "source": [
        "Log-transformation seems to do the trick nicely. So digging into funky distributions won't be necessary on this one. "
      ],
      "metadata": {
        "id": "tClwa8DgLS0_"
      }
    },
    {
      "cell_type": "markdown",
      "metadata": {
        "id": "7SOQCyWC2n-w"
      },
      "source": [
        "**2. Exploring the rest of the variables**"
      ]
    },
    {
      "cell_type": "markdown",
      "metadata": {
        "id": "uCBBdIYX2tbv"
      },
      "source": [
        "Exploration for further decitions about the data preparation"
      ]
    },
    {
      "cell_type": "code",
      "metadata": {
        "colab": {
          "base_uri": "https://localhost:8080/"
        },
        "id": "bJRWYJOl2zUx",
        "outputId": "3a773bec-33f6-47ef-d402-deacfcbaaeaa"
      },
      "source": [
        "movie2.info()"
      ],
      "execution_count": null,
      "outputs": [
        {
          "output_type": "stream",
          "name": "stdout",
          "text": [
            "<class 'pandas.core.frame.DataFrame'>\n",
            "Int64Index: 7587 entries, 1 to 42296\n",
            "Data columns (total 10 columns):\n",
            " #   Column        Non-Null Count  Dtype  \n",
            "---  ------        --------------  -----  \n",
            " 0   Unnamed: 0    7587 non-null   int64  \n",
            " 1   wiki_movieID  7587 non-null   int64  \n",
            " 2   summary       7587 non-null   object \n",
            " 3   movie_name    7587 non-null   object \n",
            " 4   release_date  7530 non-null   object \n",
            " 5   box_of_rev    7587 non-null   float64\n",
            " 6   run_time      7513 non-null   float64\n",
            " 7   languages     7587 non-null   object \n",
            " 8   countries     7587 non-null   object \n",
            " 9   genres        7587 non-null   object \n",
            "dtypes: float64(2), int64(2), object(6)\n",
            "memory usage: 652.0+ KB\n"
          ]
        }
      ]
    },
    {
      "cell_type": "markdown",
      "metadata": {
        "id": "UryEwPmw22--"
      },
      "source": [
        "Some missing values in *Release Date* and *Run Time*.\n",
        "For simplisicty will drop all NAs for now. Can rerun the analysis including these movie plots later on. "
      ]
    },
    {
      "cell_type": "code",
      "metadata": {
        "id": "9taWX6Oy27wO"
      },
      "source": [
        "movie3 = movie2.dropna(axis = 0).copy().reset_index(drop = True)"
      ],
      "execution_count": null,
      "outputs": []
    },
    {
      "cell_type": "code",
      "metadata": {
        "colab": {
          "base_uri": "https://localhost:8080/",
          "height": 354
        },
        "id": "UV2i8D5o31bW",
        "outputId": "96b3596c-9231-4775-af33-a3c8ec269b79"
      },
      "source": [
        "movie3.head()"
      ],
      "execution_count": null,
      "outputs": [
        {
          "output_type": "execute_result",
          "data": {
            "text/plain": [
              "   Unnamed: 0  wiki_movieID  \\\n",
              "0           1      31186339   \n",
              "1           3       2231378   \n",
              "2           4        595909   \n",
              "3           6       1952976   \n",
              "4           7      24225279   \n",
              "\n",
              "                                             summary          movie_name  \\\n",
              "0  The nation of Panem consists of a wealthy Capi...    The Hunger Games   \n",
              "1  The Lemon Drop Kid , a New York City swindler,...  The Lemon Drop Kid   \n",
              "2  Seventh-day Adventist Church pastor Michael Ch...   A Cry in the Dark   \n",
              "3  {{plot}} The film opens in 1974, as a young gi...          Dark Water   \n",
              "4  The story begins with Hannah, a young Jewish t...                Sing   \n",
              "\n",
              "  release_date   box_of_rev  run_time                           languages  \\\n",
              "0   2012-03-12  686533290.0     142.0  {\"/m/02h40lc\": \"English Language\"}   \n",
              "1   1951-03-08    2300000.0      91.0  {\"/m/02h40lc\": \"English Language\"}   \n",
              "2   1988-11-03    6908797.0     121.0  {\"/m/02h40lc\": \"English Language\"}   \n",
              "3   2005-06-27   49483352.0     105.0  {\"/m/02h40lc\": \"English Language\"}   \n",
              "4         1989    2260616.0      98.0  {\"/m/02h40lc\": \"English Language\"}   \n",
              "\n",
              "                                           countries  \\\n",
              "0          {\"/m/09c7w0\": \"United States of America\"}   \n",
              "1          {\"/m/09c7w0\": \"United States of America\"}   \n",
              "2  {\"/m/09c7w0\": \"United States of America\", \"/m/...   \n",
              "3          {\"/m/09c7w0\": \"United States of America\"}   \n",
              "4          {\"/m/09c7w0\": \"United States of America\"}   \n",
              "\n",
              "                                              genres  \n",
              "0  {\"/m/03btsm8\": \"Action/Adventure\", \"/m/06n90\":...  \n",
              "1  {\"/m/06qm3\": \"Screwball comedy\", \"/m/01z4y\": \"...  \n",
              "2  {\"/m/0lsxr\": \"Crime Fiction\", \"/m/07s9rl0\": \"D...  \n",
              "3  {\"/m/01jfsb\": \"Thriller\", \"/m/07s9rl0\": \"Drama...  \n",
              "4       {\"/m/07s9rl0\": \"Drama\", \"/m/02b5_l\": \"Teen\"}  "
            ],
            "text/html": [
              "\n",
              "  <div id=\"df-009e5a1a-bf22-44b5-85d8-7b4e83a925d0\">\n",
              "    <div class=\"colab-df-container\">\n",
              "      <div>\n",
              "<style scoped>\n",
              "    .dataframe tbody tr th:only-of-type {\n",
              "        vertical-align: middle;\n",
              "    }\n",
              "\n",
              "    .dataframe tbody tr th {\n",
              "        vertical-align: top;\n",
              "    }\n",
              "\n",
              "    .dataframe thead th {\n",
              "        text-align: right;\n",
              "    }\n",
              "</style>\n",
              "<table border=\"1\" class=\"dataframe\">\n",
              "  <thead>\n",
              "    <tr style=\"text-align: right;\">\n",
              "      <th></th>\n",
              "      <th>Unnamed: 0</th>\n",
              "      <th>wiki_movieID</th>\n",
              "      <th>summary</th>\n",
              "      <th>movie_name</th>\n",
              "      <th>release_date</th>\n",
              "      <th>box_of_rev</th>\n",
              "      <th>run_time</th>\n",
              "      <th>languages</th>\n",
              "      <th>countries</th>\n",
              "      <th>genres</th>\n",
              "    </tr>\n",
              "  </thead>\n",
              "  <tbody>\n",
              "    <tr>\n",
              "      <th>0</th>\n",
              "      <td>1</td>\n",
              "      <td>31186339</td>\n",
              "      <td>The nation of Panem consists of a wealthy Capi...</td>\n",
              "      <td>The Hunger Games</td>\n",
              "      <td>2012-03-12</td>\n",
              "      <td>686533290.0</td>\n",
              "      <td>142.0</td>\n",
              "      <td>{\"/m/02h40lc\": \"English Language\"}</td>\n",
              "      <td>{\"/m/09c7w0\": \"United States of America\"}</td>\n",
              "      <td>{\"/m/03btsm8\": \"Action/Adventure\", \"/m/06n90\":...</td>\n",
              "    </tr>\n",
              "    <tr>\n",
              "      <th>1</th>\n",
              "      <td>3</td>\n",
              "      <td>2231378</td>\n",
              "      <td>The Lemon Drop Kid , a New York City swindler,...</td>\n",
              "      <td>The Lemon Drop Kid</td>\n",
              "      <td>1951-03-08</td>\n",
              "      <td>2300000.0</td>\n",
              "      <td>91.0</td>\n",
              "      <td>{\"/m/02h40lc\": \"English Language\"}</td>\n",
              "      <td>{\"/m/09c7w0\": \"United States of America\"}</td>\n",
              "      <td>{\"/m/06qm3\": \"Screwball comedy\", \"/m/01z4y\": \"...</td>\n",
              "    </tr>\n",
              "    <tr>\n",
              "      <th>2</th>\n",
              "      <td>4</td>\n",
              "      <td>595909</td>\n",
              "      <td>Seventh-day Adventist Church pastor Michael Ch...</td>\n",
              "      <td>A Cry in the Dark</td>\n",
              "      <td>1988-11-03</td>\n",
              "      <td>6908797.0</td>\n",
              "      <td>121.0</td>\n",
              "      <td>{\"/m/02h40lc\": \"English Language\"}</td>\n",
              "      <td>{\"/m/09c7w0\": \"United States of America\", \"/m/...</td>\n",
              "      <td>{\"/m/0lsxr\": \"Crime Fiction\", \"/m/07s9rl0\": \"D...</td>\n",
              "    </tr>\n",
              "    <tr>\n",
              "      <th>3</th>\n",
              "      <td>6</td>\n",
              "      <td>1952976</td>\n",
              "      <td>{{plot}} The film opens in 1974, as a young gi...</td>\n",
              "      <td>Dark Water</td>\n",
              "      <td>2005-06-27</td>\n",
              "      <td>49483352.0</td>\n",
              "      <td>105.0</td>\n",
              "      <td>{\"/m/02h40lc\": \"English Language\"}</td>\n",
              "      <td>{\"/m/09c7w0\": \"United States of America\"}</td>\n",
              "      <td>{\"/m/01jfsb\": \"Thriller\", \"/m/07s9rl0\": \"Drama...</td>\n",
              "    </tr>\n",
              "    <tr>\n",
              "      <th>4</th>\n",
              "      <td>7</td>\n",
              "      <td>24225279</td>\n",
              "      <td>The story begins with Hannah, a young Jewish t...</td>\n",
              "      <td>Sing</td>\n",
              "      <td>1989</td>\n",
              "      <td>2260616.0</td>\n",
              "      <td>98.0</td>\n",
              "      <td>{\"/m/02h40lc\": \"English Language\"}</td>\n",
              "      <td>{\"/m/09c7w0\": \"United States of America\"}</td>\n",
              "      <td>{\"/m/07s9rl0\": \"Drama\", \"/m/02b5_l\": \"Teen\"}</td>\n",
              "    </tr>\n",
              "  </tbody>\n",
              "</table>\n",
              "</div>\n",
              "      <button class=\"colab-df-convert\" onclick=\"convertToInteractive('df-009e5a1a-bf22-44b5-85d8-7b4e83a925d0')\"\n",
              "              title=\"Convert this dataframe to an interactive table.\"\n",
              "              style=\"display:none;\">\n",
              "        \n",
              "  <svg xmlns=\"http://www.w3.org/2000/svg\" height=\"24px\"viewBox=\"0 0 24 24\"\n",
              "       width=\"24px\">\n",
              "    <path d=\"M0 0h24v24H0V0z\" fill=\"none\"/>\n",
              "    <path d=\"M18.56 5.44l.94 2.06.94-2.06 2.06-.94-2.06-.94-.94-2.06-.94 2.06-2.06.94zm-11 1L8.5 8.5l.94-2.06 2.06-.94-2.06-.94L8.5 2.5l-.94 2.06-2.06.94zm10 10l.94 2.06.94-2.06 2.06-.94-2.06-.94-.94-2.06-.94 2.06-2.06.94z\"/><path d=\"M17.41 7.96l-1.37-1.37c-.4-.4-.92-.59-1.43-.59-.52 0-1.04.2-1.43.59L10.3 9.45l-7.72 7.72c-.78.78-.78 2.05 0 2.83L4 21.41c.39.39.9.59 1.41.59.51 0 1.02-.2 1.41-.59l7.78-7.78 2.81-2.81c.8-.78.8-2.07 0-2.86zM5.41 20L4 18.59l7.72-7.72 1.47 1.35L5.41 20z\"/>\n",
              "  </svg>\n",
              "      </button>\n",
              "      \n",
              "  <style>\n",
              "    .colab-df-container {\n",
              "      display:flex;\n",
              "      flex-wrap:wrap;\n",
              "      gap: 12px;\n",
              "    }\n",
              "\n",
              "    .colab-df-convert {\n",
              "      background-color: #E8F0FE;\n",
              "      border: none;\n",
              "      border-radius: 50%;\n",
              "      cursor: pointer;\n",
              "      display: none;\n",
              "      fill: #1967D2;\n",
              "      height: 32px;\n",
              "      padding: 0 0 0 0;\n",
              "      width: 32px;\n",
              "    }\n",
              "\n",
              "    .colab-df-convert:hover {\n",
              "      background-color: #E2EBFA;\n",
              "      box-shadow: 0px 1px 2px rgba(60, 64, 67, 0.3), 0px 1px 3px 1px rgba(60, 64, 67, 0.15);\n",
              "      fill: #174EA6;\n",
              "    }\n",
              "\n",
              "    [theme=dark] .colab-df-convert {\n",
              "      background-color: #3B4455;\n",
              "      fill: #D2E3FC;\n",
              "    }\n",
              "\n",
              "    [theme=dark] .colab-df-convert:hover {\n",
              "      background-color: #434B5C;\n",
              "      box-shadow: 0px 1px 3px 1px rgba(0, 0, 0, 0.15);\n",
              "      filter: drop-shadow(0px 1px 2px rgba(0, 0, 0, 0.3));\n",
              "      fill: #FFFFFF;\n",
              "    }\n",
              "  </style>\n",
              "\n",
              "      <script>\n",
              "        const buttonEl =\n",
              "          document.querySelector('#df-009e5a1a-bf22-44b5-85d8-7b4e83a925d0 button.colab-df-convert');\n",
              "        buttonEl.style.display =\n",
              "          google.colab.kernel.accessAllowed ? 'block' : 'none';\n",
              "\n",
              "        async function convertToInteractive(key) {\n",
              "          const element = document.querySelector('#df-009e5a1a-bf22-44b5-85d8-7b4e83a925d0');\n",
              "          const dataTable =\n",
              "            await google.colab.kernel.invokeFunction('convertToInteractive',\n",
              "                                                     [key], {});\n",
              "          if (!dataTable) return;\n",
              "\n",
              "          const docLinkHtml = 'Like what you see? Visit the ' +\n",
              "            '<a target=\"_blank\" href=https://colab.research.google.com/notebooks/data_table.ipynb>data table notebook</a>'\n",
              "            + ' to learn more about interactive tables.';\n",
              "          element.innerHTML = '';\n",
              "          dataTable['output_type'] = 'display_data';\n",
              "          await google.colab.output.renderOutput(dataTable, element);\n",
              "          const docLink = document.createElement('div');\n",
              "          docLink.innerHTML = docLinkHtml;\n",
              "          element.appendChild(docLink);\n",
              "        }\n",
              "      </script>\n",
              "    </div>\n",
              "  </div>\n",
              "  "
            ]
          },
          "metadata": {},
          "execution_count": 44
        }
      ]
    },
    {
      "cell_type": "markdown",
      "metadata": {
        "id": "Oucrr-OV42-n"
      },
      "source": [
        "#### **3. Reformating data into more informative variables**"
      ]
    },
    {
      "cell_type": "markdown",
      "metadata": {
        "id": "JGhRA3ur48sx"
      },
      "source": [
        " *Languages, Coutries, Genres* are a bit messy and need cleaning up. "
      ]
    },
    {
      "cell_type": "markdown",
      "metadata": {
        "id": "h9PTl93TJPr5"
      },
      "source": [
        "##### Language"
      ]
    },
    {
      "cell_type": "code",
      "metadata": {
        "id": "LCrkc2Vy47wU",
        "colab": {
          "base_uri": "https://localhost:8080/"
        },
        "outputId": "7ca34020-81f5-42ff-fa7f-ae1d4b9a5571"
      },
      "source": [
        "movie3['language_wo'] = movie3.languages.str.replace('[^\\w]', ' ').str.strip() #create new column and strip language column of characters"
      ],
      "execution_count": null,
      "outputs": [
        {
          "output_type": "stream",
          "name": "stderr",
          "text": [
            "/usr/local/lib/python3.7/dist-packages/ipykernel_launcher.py:1: FutureWarning: The default value of regex will change from True to False in a future version.\n",
            "  \"\"\"Entry point for launching an IPython kernel.\n"
          ]
        }
      ]
    },
    {
      "cell_type": "code",
      "metadata": {
        "colab": {
          "base_uri": "https://localhost:8080/",
          "height": 354
        },
        "id": "ucJgzPM450UZ",
        "outputId": "7b61e93c-b0b4-4102-8ed0-2a90f4c06a35"
      },
      "source": [
        "movie3.head()"
      ],
      "execution_count": null,
      "outputs": [
        {
          "output_type": "execute_result",
          "data": {
            "text/plain": [
              "   Unnamed: 0  wiki_movieID  \\\n",
              "0           1      31186339   \n",
              "1           3       2231378   \n",
              "2           4        595909   \n",
              "3           6       1952976   \n",
              "4           7      24225279   \n",
              "\n",
              "                                             summary          movie_name  \\\n",
              "0  The nation of Panem consists of a wealthy Capi...    The Hunger Games   \n",
              "1  The Lemon Drop Kid , a New York City swindler,...  The Lemon Drop Kid   \n",
              "2  Seventh-day Adventist Church pastor Michael Ch...   A Cry in the Dark   \n",
              "3  {{plot}} The film opens in 1974, as a young gi...          Dark Water   \n",
              "4  The story begins with Hannah, a young Jewish t...                Sing   \n",
              "\n",
              "  release_date   box_of_rev  run_time                           languages  \\\n",
              "0   2012-03-12  686533290.0     142.0  {\"/m/02h40lc\": \"English Language\"}   \n",
              "1   1951-03-08    2300000.0      91.0  {\"/m/02h40lc\": \"English Language\"}   \n",
              "2   1988-11-03    6908797.0     121.0  {\"/m/02h40lc\": \"English Language\"}   \n",
              "3   2005-06-27   49483352.0     105.0  {\"/m/02h40lc\": \"English Language\"}   \n",
              "4         1989    2260616.0      98.0  {\"/m/02h40lc\": \"English Language\"}   \n",
              "\n",
              "                                           countries  \\\n",
              "0          {\"/m/09c7w0\": \"United States of America\"}   \n",
              "1          {\"/m/09c7w0\": \"United States of America\"}   \n",
              "2  {\"/m/09c7w0\": \"United States of America\", \"/m/...   \n",
              "3          {\"/m/09c7w0\": \"United States of America\"}   \n",
              "4          {\"/m/09c7w0\": \"United States of America\"}   \n",
              "\n",
              "                                              genres  \\\n",
              "0  {\"/m/03btsm8\": \"Action/Adventure\", \"/m/06n90\":...   \n",
              "1  {\"/m/06qm3\": \"Screwball comedy\", \"/m/01z4y\": \"...   \n",
              "2  {\"/m/0lsxr\": \"Crime Fiction\", \"/m/07s9rl0\": \"D...   \n",
              "3  {\"/m/01jfsb\": \"Thriller\", \"/m/07s9rl0\": \"Drama...   \n",
              "4       {\"/m/07s9rl0\": \"Drama\", \"/m/02b5_l\": \"Teen\"}   \n",
              "\n",
              "                     language_wo  \n",
              "0  m 02h40lc    English Language  \n",
              "1  m 02h40lc    English Language  \n",
              "2  m 02h40lc    English Language  \n",
              "3  m 02h40lc    English Language  \n",
              "4  m 02h40lc    English Language  "
            ],
            "text/html": [
              "\n",
              "  <div id=\"df-19dd0842-3525-4938-a589-62ac8e0387fa\">\n",
              "    <div class=\"colab-df-container\">\n",
              "      <div>\n",
              "<style scoped>\n",
              "    .dataframe tbody tr th:only-of-type {\n",
              "        vertical-align: middle;\n",
              "    }\n",
              "\n",
              "    .dataframe tbody tr th {\n",
              "        vertical-align: top;\n",
              "    }\n",
              "\n",
              "    .dataframe thead th {\n",
              "        text-align: right;\n",
              "    }\n",
              "</style>\n",
              "<table border=\"1\" class=\"dataframe\">\n",
              "  <thead>\n",
              "    <tr style=\"text-align: right;\">\n",
              "      <th></th>\n",
              "      <th>Unnamed: 0</th>\n",
              "      <th>wiki_movieID</th>\n",
              "      <th>summary</th>\n",
              "      <th>movie_name</th>\n",
              "      <th>release_date</th>\n",
              "      <th>box_of_rev</th>\n",
              "      <th>run_time</th>\n",
              "      <th>languages</th>\n",
              "      <th>countries</th>\n",
              "      <th>genres</th>\n",
              "      <th>language_wo</th>\n",
              "    </tr>\n",
              "  </thead>\n",
              "  <tbody>\n",
              "    <tr>\n",
              "      <th>0</th>\n",
              "      <td>1</td>\n",
              "      <td>31186339</td>\n",
              "      <td>The nation of Panem consists of a wealthy Capi...</td>\n",
              "      <td>The Hunger Games</td>\n",
              "      <td>2012-03-12</td>\n",
              "      <td>686533290.0</td>\n",
              "      <td>142.0</td>\n",
              "      <td>{\"/m/02h40lc\": \"English Language\"}</td>\n",
              "      <td>{\"/m/09c7w0\": \"United States of America\"}</td>\n",
              "      <td>{\"/m/03btsm8\": \"Action/Adventure\", \"/m/06n90\":...</td>\n",
              "      <td>m 02h40lc    English Language</td>\n",
              "    </tr>\n",
              "    <tr>\n",
              "      <th>1</th>\n",
              "      <td>3</td>\n",
              "      <td>2231378</td>\n",
              "      <td>The Lemon Drop Kid , a New York City swindler,...</td>\n",
              "      <td>The Lemon Drop Kid</td>\n",
              "      <td>1951-03-08</td>\n",
              "      <td>2300000.0</td>\n",
              "      <td>91.0</td>\n",
              "      <td>{\"/m/02h40lc\": \"English Language\"}</td>\n",
              "      <td>{\"/m/09c7w0\": \"United States of America\"}</td>\n",
              "      <td>{\"/m/06qm3\": \"Screwball comedy\", \"/m/01z4y\": \"...</td>\n",
              "      <td>m 02h40lc    English Language</td>\n",
              "    </tr>\n",
              "    <tr>\n",
              "      <th>2</th>\n",
              "      <td>4</td>\n",
              "      <td>595909</td>\n",
              "      <td>Seventh-day Adventist Church pastor Michael Ch...</td>\n",
              "      <td>A Cry in the Dark</td>\n",
              "      <td>1988-11-03</td>\n",
              "      <td>6908797.0</td>\n",
              "      <td>121.0</td>\n",
              "      <td>{\"/m/02h40lc\": \"English Language\"}</td>\n",
              "      <td>{\"/m/09c7w0\": \"United States of America\", \"/m/...</td>\n",
              "      <td>{\"/m/0lsxr\": \"Crime Fiction\", \"/m/07s9rl0\": \"D...</td>\n",
              "      <td>m 02h40lc    English Language</td>\n",
              "    </tr>\n",
              "    <tr>\n",
              "      <th>3</th>\n",
              "      <td>6</td>\n",
              "      <td>1952976</td>\n",
              "      <td>{{plot}} The film opens in 1974, as a young gi...</td>\n",
              "      <td>Dark Water</td>\n",
              "      <td>2005-06-27</td>\n",
              "      <td>49483352.0</td>\n",
              "      <td>105.0</td>\n",
              "      <td>{\"/m/02h40lc\": \"English Language\"}</td>\n",
              "      <td>{\"/m/09c7w0\": \"United States of America\"}</td>\n",
              "      <td>{\"/m/01jfsb\": \"Thriller\", \"/m/07s9rl0\": \"Drama...</td>\n",
              "      <td>m 02h40lc    English Language</td>\n",
              "    </tr>\n",
              "    <tr>\n",
              "      <th>4</th>\n",
              "      <td>7</td>\n",
              "      <td>24225279</td>\n",
              "      <td>The story begins with Hannah, a young Jewish t...</td>\n",
              "      <td>Sing</td>\n",
              "      <td>1989</td>\n",
              "      <td>2260616.0</td>\n",
              "      <td>98.0</td>\n",
              "      <td>{\"/m/02h40lc\": \"English Language\"}</td>\n",
              "      <td>{\"/m/09c7w0\": \"United States of America\"}</td>\n",
              "      <td>{\"/m/07s9rl0\": \"Drama\", \"/m/02b5_l\": \"Teen\"}</td>\n",
              "      <td>m 02h40lc    English Language</td>\n",
              "    </tr>\n",
              "  </tbody>\n",
              "</table>\n",
              "</div>\n",
              "      <button class=\"colab-df-convert\" onclick=\"convertToInteractive('df-19dd0842-3525-4938-a589-62ac8e0387fa')\"\n",
              "              title=\"Convert this dataframe to an interactive table.\"\n",
              "              style=\"display:none;\">\n",
              "        \n",
              "  <svg xmlns=\"http://www.w3.org/2000/svg\" height=\"24px\"viewBox=\"0 0 24 24\"\n",
              "       width=\"24px\">\n",
              "    <path d=\"M0 0h24v24H0V0z\" fill=\"none\"/>\n",
              "    <path d=\"M18.56 5.44l.94 2.06.94-2.06 2.06-.94-2.06-.94-.94-2.06-.94 2.06-2.06.94zm-11 1L8.5 8.5l.94-2.06 2.06-.94-2.06-.94L8.5 2.5l-.94 2.06-2.06.94zm10 10l.94 2.06.94-2.06 2.06-.94-2.06-.94-.94-2.06-.94 2.06-2.06.94z\"/><path d=\"M17.41 7.96l-1.37-1.37c-.4-.4-.92-.59-1.43-.59-.52 0-1.04.2-1.43.59L10.3 9.45l-7.72 7.72c-.78.78-.78 2.05 0 2.83L4 21.41c.39.39.9.59 1.41.59.51 0 1.02-.2 1.41-.59l7.78-7.78 2.81-2.81c.8-.78.8-2.07 0-2.86zM5.41 20L4 18.59l7.72-7.72 1.47 1.35L5.41 20z\"/>\n",
              "  </svg>\n",
              "      </button>\n",
              "      \n",
              "  <style>\n",
              "    .colab-df-container {\n",
              "      display:flex;\n",
              "      flex-wrap:wrap;\n",
              "      gap: 12px;\n",
              "    }\n",
              "\n",
              "    .colab-df-convert {\n",
              "      background-color: #E8F0FE;\n",
              "      border: none;\n",
              "      border-radius: 50%;\n",
              "      cursor: pointer;\n",
              "      display: none;\n",
              "      fill: #1967D2;\n",
              "      height: 32px;\n",
              "      padding: 0 0 0 0;\n",
              "      width: 32px;\n",
              "    }\n",
              "\n",
              "    .colab-df-convert:hover {\n",
              "      background-color: #E2EBFA;\n",
              "      box-shadow: 0px 1px 2px rgba(60, 64, 67, 0.3), 0px 1px 3px 1px rgba(60, 64, 67, 0.15);\n",
              "      fill: #174EA6;\n",
              "    }\n",
              "\n",
              "    [theme=dark] .colab-df-convert {\n",
              "      background-color: #3B4455;\n",
              "      fill: #D2E3FC;\n",
              "    }\n",
              "\n",
              "    [theme=dark] .colab-df-convert:hover {\n",
              "      background-color: #434B5C;\n",
              "      box-shadow: 0px 1px 3px 1px rgba(0, 0, 0, 0.15);\n",
              "      filter: drop-shadow(0px 1px 2px rgba(0, 0, 0, 0.3));\n",
              "      fill: #FFFFFF;\n",
              "    }\n",
              "  </style>\n",
              "\n",
              "      <script>\n",
              "        const buttonEl =\n",
              "          document.querySelector('#df-19dd0842-3525-4938-a589-62ac8e0387fa button.colab-df-convert');\n",
              "        buttonEl.style.display =\n",
              "          google.colab.kernel.accessAllowed ? 'block' : 'none';\n",
              "\n",
              "        async function convertToInteractive(key) {\n",
              "          const element = document.querySelector('#df-19dd0842-3525-4938-a589-62ac8e0387fa');\n",
              "          const dataTable =\n",
              "            await google.colab.kernel.invokeFunction('convertToInteractive',\n",
              "                                                     [key], {});\n",
              "          if (!dataTable) return;\n",
              "\n",
              "          const docLinkHtml = 'Like what you see? Visit the ' +\n",
              "            '<a target=\"_blank\" href=https://colab.research.google.com/notebooks/data_table.ipynb>data table notebook</a>'\n",
              "            + ' to learn more about interactive tables.';\n",
              "          element.innerHTML = '';\n",
              "          dataTable['output_type'] = 'display_data';\n",
              "          await google.colab.output.renderOutput(dataTable, element);\n",
              "          const docLink = document.createElement('div');\n",
              "          docLink.innerHTML = docLinkHtml;\n",
              "          element.appendChild(docLink);\n",
              "        }\n",
              "      </script>\n",
              "    </div>\n",
              "  </div>\n",
              "  "
            ]
          },
          "metadata": {},
          "execution_count": 46
        }
      ]
    },
    {
      "cell_type": "code",
      "metadata": {
        "id": "I0BcDgQG72lm"
      },
      "source": [
        "lang_list = list(movie3.language_wo) #convert into a list\n",
        "lang_list1 = ' '.join(lang_list)#make into one item\n",
        "lang_list1"
      ],
      "execution_count": null,
      "outputs": []
    },
    {
      "cell_type": "code",
      "metadata": {
        "id": "2Evj-6cz95ZA"
      },
      "source": [
        "lang_list2  = re.sub('\\s{3}', '', lang_list1) #remove excessive white spaces\n",
        "lang_list2"
      ],
      "execution_count": null,
      "outputs": []
    },
    {
      "cell_type": "code",
      "metadata": {
        "id": "3mGrXjlA889y"
      },
      "source": [
        "lang_list3 = lang_list2.split(' ')#turn back into a list\n",
        "lang_list3 = np.array(lang_list3) #convert into numpy array\n",
        "unique, couts = np.unique(lang_list3, return_counts = True) #get unique words and their frequency"
      ],
      "execution_count": null,
      "outputs": []
    },
    {
      "cell_type": "markdown",
      "source": [
        "Now will create unique \"words\" table out of what I have in languages. "
      ],
      "metadata": {
        "id": "qgGtWR4pNz-_"
      }
    },
    {
      "cell_type": "code",
      "metadata": {
        "colab": {
          "base_uri": "https://localhost:8080/",
          "height": 363
        },
        "id": "XdYjcf8r9zNS",
        "outputId": "ab78ce96-cf1e-40df-f108-73fd2ea4b67e"
      },
      "source": [
        "language_df = pd.DataFrame({'uniques': unique,\n",
        "                            'counts': couts}) # make a df out of it\n",
        "\n",
        "language_df.sort_values('counts', ascending=False).head(10)"
      ],
      "execution_count": null,
      "outputs": [
        {
          "output_type": "execute_result",
          "data": {
            "text/plain": [
              "      uniques  counts\n",
              "290         m    9794\n",
              "208  Language    9332\n",
              "175   English    6729\n",
              "41    02h40lc    6689\n",
              "0                2722\n",
              "89    064_8sq     490\n",
              "182    French     490\n",
              "97      06nm1     412\n",
              "262   Spanish     412\n",
              "187    German     257"
            ],
            "text/html": [
              "\n",
              "  <div id=\"df-9c51bf13-c5c9-45f8-8124-517ab8dc640a\">\n",
              "    <div class=\"colab-df-container\">\n",
              "      <div>\n",
              "<style scoped>\n",
              "    .dataframe tbody tr th:only-of-type {\n",
              "        vertical-align: middle;\n",
              "    }\n",
              "\n",
              "    .dataframe tbody tr th {\n",
              "        vertical-align: top;\n",
              "    }\n",
              "\n",
              "    .dataframe thead th {\n",
              "        text-align: right;\n",
              "    }\n",
              "</style>\n",
              "<table border=\"1\" class=\"dataframe\">\n",
              "  <thead>\n",
              "    <tr style=\"text-align: right;\">\n",
              "      <th></th>\n",
              "      <th>uniques</th>\n",
              "      <th>counts</th>\n",
              "    </tr>\n",
              "  </thead>\n",
              "  <tbody>\n",
              "    <tr>\n",
              "      <th>290</th>\n",
              "      <td>m</td>\n",
              "      <td>9794</td>\n",
              "    </tr>\n",
              "    <tr>\n",
              "      <th>208</th>\n",
              "      <td>Language</td>\n",
              "      <td>9332</td>\n",
              "    </tr>\n",
              "    <tr>\n",
              "      <th>175</th>\n",
              "      <td>English</td>\n",
              "      <td>6729</td>\n",
              "    </tr>\n",
              "    <tr>\n",
              "      <th>41</th>\n",
              "      <td>02h40lc</td>\n",
              "      <td>6689</td>\n",
              "    </tr>\n",
              "    <tr>\n",
              "      <th>0</th>\n",
              "      <td></td>\n",
              "      <td>2722</td>\n",
              "    </tr>\n",
              "    <tr>\n",
              "      <th>89</th>\n",
              "      <td>064_8sq</td>\n",
              "      <td>490</td>\n",
              "    </tr>\n",
              "    <tr>\n",
              "      <th>182</th>\n",
              "      <td>French</td>\n",
              "      <td>490</td>\n",
              "    </tr>\n",
              "    <tr>\n",
              "      <th>97</th>\n",
              "      <td>06nm1</td>\n",
              "      <td>412</td>\n",
              "    </tr>\n",
              "    <tr>\n",
              "      <th>262</th>\n",
              "      <td>Spanish</td>\n",
              "      <td>412</td>\n",
              "    </tr>\n",
              "    <tr>\n",
              "      <th>187</th>\n",
              "      <td>German</td>\n",
              "      <td>257</td>\n",
              "    </tr>\n",
              "  </tbody>\n",
              "</table>\n",
              "</div>\n",
              "      <button class=\"colab-df-convert\" onclick=\"convertToInteractive('df-9c51bf13-c5c9-45f8-8124-517ab8dc640a')\"\n",
              "              title=\"Convert this dataframe to an interactive table.\"\n",
              "              style=\"display:none;\">\n",
              "        \n",
              "  <svg xmlns=\"http://www.w3.org/2000/svg\" height=\"24px\"viewBox=\"0 0 24 24\"\n",
              "       width=\"24px\">\n",
              "    <path d=\"M0 0h24v24H0V0z\" fill=\"none\"/>\n",
              "    <path d=\"M18.56 5.44l.94 2.06.94-2.06 2.06-.94-2.06-.94-.94-2.06-.94 2.06-2.06.94zm-11 1L8.5 8.5l.94-2.06 2.06-.94-2.06-.94L8.5 2.5l-.94 2.06-2.06.94zm10 10l.94 2.06.94-2.06 2.06-.94-2.06-.94-.94-2.06-.94 2.06-2.06.94z\"/><path d=\"M17.41 7.96l-1.37-1.37c-.4-.4-.92-.59-1.43-.59-.52 0-1.04.2-1.43.59L10.3 9.45l-7.72 7.72c-.78.78-.78 2.05 0 2.83L4 21.41c.39.39.9.59 1.41.59.51 0 1.02-.2 1.41-.59l7.78-7.78 2.81-2.81c.8-.78.8-2.07 0-2.86zM5.41 20L4 18.59l7.72-7.72 1.47 1.35L5.41 20z\"/>\n",
              "  </svg>\n",
              "      </button>\n",
              "      \n",
              "  <style>\n",
              "    .colab-df-container {\n",
              "      display:flex;\n",
              "      flex-wrap:wrap;\n",
              "      gap: 12px;\n",
              "    }\n",
              "\n",
              "    .colab-df-convert {\n",
              "      background-color: #E8F0FE;\n",
              "      border: none;\n",
              "      border-radius: 50%;\n",
              "      cursor: pointer;\n",
              "      display: none;\n",
              "      fill: #1967D2;\n",
              "      height: 32px;\n",
              "      padding: 0 0 0 0;\n",
              "      width: 32px;\n",
              "    }\n",
              "\n",
              "    .colab-df-convert:hover {\n",
              "      background-color: #E2EBFA;\n",
              "      box-shadow: 0px 1px 2px rgba(60, 64, 67, 0.3), 0px 1px 3px 1px rgba(60, 64, 67, 0.15);\n",
              "      fill: #174EA6;\n",
              "    }\n",
              "\n",
              "    [theme=dark] .colab-df-convert {\n",
              "      background-color: #3B4455;\n",
              "      fill: #D2E3FC;\n",
              "    }\n",
              "\n",
              "    [theme=dark] .colab-df-convert:hover {\n",
              "      background-color: #434B5C;\n",
              "      box-shadow: 0px 1px 3px 1px rgba(0, 0, 0, 0.15);\n",
              "      filter: drop-shadow(0px 1px 2px rgba(0, 0, 0, 0.3));\n",
              "      fill: #FFFFFF;\n",
              "    }\n",
              "  </style>\n",
              "\n",
              "      <script>\n",
              "        const buttonEl =\n",
              "          document.querySelector('#df-9c51bf13-c5c9-45f8-8124-517ab8dc640a button.colab-df-convert');\n",
              "        buttonEl.style.display =\n",
              "          google.colab.kernel.accessAllowed ? 'block' : 'none';\n",
              "\n",
              "        async function convertToInteractive(key) {\n",
              "          const element = document.querySelector('#df-9c51bf13-c5c9-45f8-8124-517ab8dc640a');\n",
              "          const dataTable =\n",
              "            await google.colab.kernel.invokeFunction('convertToInteractive',\n",
              "                                                     [key], {});\n",
              "          if (!dataTable) return;\n",
              "\n",
              "          const docLinkHtml = 'Like what you see? Visit the ' +\n",
              "            '<a target=\"_blank\" href=https://colab.research.google.com/notebooks/data_table.ipynb>data table notebook</a>'\n",
              "            + ' to learn more about interactive tables.';\n",
              "          element.innerHTML = '';\n",
              "          dataTable['output_type'] = 'display_data';\n",
              "          await google.colab.output.renderOutput(dataTable, element);\n",
              "          const docLink = document.createElement('div');\n",
              "          docLink.innerHTML = docLinkHtml;\n",
              "          element.appendChild(docLink);\n",
              "        }\n",
              "      </script>\n",
              "    </div>\n",
              "  </div>\n",
              "  "
            ]
          },
          "metadata": {},
          "execution_count": 50
        }
      ]
    },
    {
      "cell_type": "markdown",
      "metadata": {
        "id": "cLW7eFCLCYea"
      },
      "source": [
        "Drop the ones that have digits in them, those are not language names."
      ]
    },
    {
      "cell_type": "code",
      "metadata": {
        "id": "OhUbZteHCIrh"
      },
      "source": [
        "digit = []\n",
        "for i in range(len(language_df)):\n",
        "  digit.append(bool(re.match(r'[a-z]*\\d[a-z]*',language_df.uniques[i])))  "
      ],
      "execution_count": null,
      "outputs": []
    },
    {
      "cell_type": "code",
      "metadata": {
        "id": "hOGok2QhEPdO"
      },
      "source": [
        "digit2 = np.array(digit) == False # turn the bollean the other way around"
      ],
      "execution_count": null,
      "outputs": []
    },
    {
      "cell_type": "code",
      "metadata": {
        "id": "GqAMv87iCX25",
        "colab": {
          "base_uri": "https://localhost:8080/",
          "height": 206
        },
        "outputId": "cd016f7c-237c-4de7-aa8b-27594612cfd6"
      },
      "source": [
        "language_df2 = language_df[digit2].copy()\n",
        "language_df2.head()"
      ],
      "execution_count": null,
      "outputs": [
        {
          "output_type": "execute_result",
          "data": {
            "text/plain": [
              "        uniques  counts\n",
              "0                  2722\n",
              "143  Aboriginal       1\n",
              "144   Afrikaans       8\n",
              "145    Albanian       2\n",
              "146   Algonquin       1"
            ],
            "text/html": [
              "\n",
              "  <div id=\"df-d2411245-e216-440a-8a32-9c29cafdf1e3\">\n",
              "    <div class=\"colab-df-container\">\n",
              "      <div>\n",
              "<style scoped>\n",
              "    .dataframe tbody tr th:only-of-type {\n",
              "        vertical-align: middle;\n",
              "    }\n",
              "\n",
              "    .dataframe tbody tr th {\n",
              "        vertical-align: top;\n",
              "    }\n",
              "\n",
              "    .dataframe thead th {\n",
              "        text-align: right;\n",
              "    }\n",
              "</style>\n",
              "<table border=\"1\" class=\"dataframe\">\n",
              "  <thead>\n",
              "    <tr style=\"text-align: right;\">\n",
              "      <th></th>\n",
              "      <th>uniques</th>\n",
              "      <th>counts</th>\n",
              "    </tr>\n",
              "  </thead>\n",
              "  <tbody>\n",
              "    <tr>\n",
              "      <th>0</th>\n",
              "      <td></td>\n",
              "      <td>2722</td>\n",
              "    </tr>\n",
              "    <tr>\n",
              "      <th>143</th>\n",
              "      <td>Aboriginal</td>\n",
              "      <td>1</td>\n",
              "    </tr>\n",
              "    <tr>\n",
              "      <th>144</th>\n",
              "      <td>Afrikaans</td>\n",
              "      <td>8</td>\n",
              "    </tr>\n",
              "    <tr>\n",
              "      <th>145</th>\n",
              "      <td>Albanian</td>\n",
              "      <td>2</td>\n",
              "    </tr>\n",
              "    <tr>\n",
              "      <th>146</th>\n",
              "      <td>Algonquin</td>\n",
              "      <td>1</td>\n",
              "    </tr>\n",
              "  </tbody>\n",
              "</table>\n",
              "</div>\n",
              "      <button class=\"colab-df-convert\" onclick=\"convertToInteractive('df-d2411245-e216-440a-8a32-9c29cafdf1e3')\"\n",
              "              title=\"Convert this dataframe to an interactive table.\"\n",
              "              style=\"display:none;\">\n",
              "        \n",
              "  <svg xmlns=\"http://www.w3.org/2000/svg\" height=\"24px\"viewBox=\"0 0 24 24\"\n",
              "       width=\"24px\">\n",
              "    <path d=\"M0 0h24v24H0V0z\" fill=\"none\"/>\n",
              "    <path d=\"M18.56 5.44l.94 2.06.94-2.06 2.06-.94-2.06-.94-.94-2.06-.94 2.06-2.06.94zm-11 1L8.5 8.5l.94-2.06 2.06-.94-2.06-.94L8.5 2.5l-.94 2.06-2.06.94zm10 10l.94 2.06.94-2.06 2.06-.94-2.06-.94-.94-2.06-.94 2.06-2.06.94z\"/><path d=\"M17.41 7.96l-1.37-1.37c-.4-.4-.92-.59-1.43-.59-.52 0-1.04.2-1.43.59L10.3 9.45l-7.72 7.72c-.78.78-.78 2.05 0 2.83L4 21.41c.39.39.9.59 1.41.59.51 0 1.02-.2 1.41-.59l7.78-7.78 2.81-2.81c.8-.78.8-2.07 0-2.86zM5.41 20L4 18.59l7.72-7.72 1.47 1.35L5.41 20z\"/>\n",
              "  </svg>\n",
              "      </button>\n",
              "      \n",
              "  <style>\n",
              "    .colab-df-container {\n",
              "      display:flex;\n",
              "      flex-wrap:wrap;\n",
              "      gap: 12px;\n",
              "    }\n",
              "\n",
              "    .colab-df-convert {\n",
              "      background-color: #E8F0FE;\n",
              "      border: none;\n",
              "      border-radius: 50%;\n",
              "      cursor: pointer;\n",
              "      display: none;\n",
              "      fill: #1967D2;\n",
              "      height: 32px;\n",
              "      padding: 0 0 0 0;\n",
              "      width: 32px;\n",
              "    }\n",
              "\n",
              "    .colab-df-convert:hover {\n",
              "      background-color: #E2EBFA;\n",
              "      box-shadow: 0px 1px 2px rgba(60, 64, 67, 0.3), 0px 1px 3px 1px rgba(60, 64, 67, 0.15);\n",
              "      fill: #174EA6;\n",
              "    }\n",
              "\n",
              "    [theme=dark] .colab-df-convert {\n",
              "      background-color: #3B4455;\n",
              "      fill: #D2E3FC;\n",
              "    }\n",
              "\n",
              "    [theme=dark] .colab-df-convert:hover {\n",
              "      background-color: #434B5C;\n",
              "      box-shadow: 0px 1px 3px 1px rgba(0, 0, 0, 0.15);\n",
              "      filter: drop-shadow(0px 1px 2px rgba(0, 0, 0, 0.3));\n",
              "      fill: #FFFFFF;\n",
              "    }\n",
              "  </style>\n",
              "\n",
              "      <script>\n",
              "        const buttonEl =\n",
              "          document.querySelector('#df-d2411245-e216-440a-8a32-9c29cafdf1e3 button.colab-df-convert');\n",
              "        buttonEl.style.display =\n",
              "          google.colab.kernel.accessAllowed ? 'block' : 'none';\n",
              "\n",
              "        async function convertToInteractive(key) {\n",
              "          const element = document.querySelector('#df-d2411245-e216-440a-8a32-9c29cafdf1e3');\n",
              "          const dataTable =\n",
              "            await google.colab.kernel.invokeFunction('convertToInteractive',\n",
              "                                                     [key], {});\n",
              "          if (!dataTable) return;\n",
              "\n",
              "          const docLinkHtml = 'Like what you see? Visit the ' +\n",
              "            '<a target=\"_blank\" href=https://colab.research.google.com/notebooks/data_table.ipynb>data table notebook</a>'\n",
              "            + ' to learn more about interactive tables.';\n",
              "          element.innerHTML = '';\n",
              "          dataTable['output_type'] = 'display_data';\n",
              "          await google.colab.output.renderOutput(dataTable, element);\n",
              "          const docLink = document.createElement('div');\n",
              "          docLink.innerHTML = docLinkHtml;\n",
              "          element.appendChild(docLink);\n",
              "        }\n",
              "      </script>\n",
              "    </div>\n",
              "  </div>\n",
              "  "
            ]
          },
          "metadata": {},
          "execution_count": 53
        }
      ]
    },
    {
      "cell_type": "code",
      "metadata": {
        "colab": {
          "base_uri": "https://localhost:8080/",
          "height": 363
        },
        "id": "T_glq2_BFaOW",
        "outputId": "5deb1779-23ca-4416-ef69-8647b4a9eeb3"
      },
      "source": [
        "language_df2.sort_values('counts', ascending=False).head(10)"
      ],
      "execution_count": null,
      "outputs": [
        {
          "output_type": "execute_result",
          "data": {
            "text/plain": [
              "      uniques  counts\n",
              "290         m    9794\n",
              "208  Language    9332\n",
              "175   English    6729\n",
              "0                2722\n",
              "182    French     490\n",
              "262   Spanish     412\n",
              "187    German     257\n",
              "204    Korean     243\n",
              "199   Italian     222\n",
              "200  Japanese     204"
            ],
            "text/html": [
              "\n",
              "  <div id=\"df-b6da98c1-a196-4c49-8ccd-50833b34fb11\">\n",
              "    <div class=\"colab-df-container\">\n",
              "      <div>\n",
              "<style scoped>\n",
              "    .dataframe tbody tr th:only-of-type {\n",
              "        vertical-align: middle;\n",
              "    }\n",
              "\n",
              "    .dataframe tbody tr th {\n",
              "        vertical-align: top;\n",
              "    }\n",
              "\n",
              "    .dataframe thead th {\n",
              "        text-align: right;\n",
              "    }\n",
              "</style>\n",
              "<table border=\"1\" class=\"dataframe\">\n",
              "  <thead>\n",
              "    <tr style=\"text-align: right;\">\n",
              "      <th></th>\n",
              "      <th>uniques</th>\n",
              "      <th>counts</th>\n",
              "    </tr>\n",
              "  </thead>\n",
              "  <tbody>\n",
              "    <tr>\n",
              "      <th>290</th>\n",
              "      <td>m</td>\n",
              "      <td>9794</td>\n",
              "    </tr>\n",
              "    <tr>\n",
              "      <th>208</th>\n",
              "      <td>Language</td>\n",
              "      <td>9332</td>\n",
              "    </tr>\n",
              "    <tr>\n",
              "      <th>175</th>\n",
              "      <td>English</td>\n",
              "      <td>6729</td>\n",
              "    </tr>\n",
              "    <tr>\n",
              "      <th>0</th>\n",
              "      <td></td>\n",
              "      <td>2722</td>\n",
              "    </tr>\n",
              "    <tr>\n",
              "      <th>182</th>\n",
              "      <td>French</td>\n",
              "      <td>490</td>\n",
              "    </tr>\n",
              "    <tr>\n",
              "      <th>262</th>\n",
              "      <td>Spanish</td>\n",
              "      <td>412</td>\n",
              "    </tr>\n",
              "    <tr>\n",
              "      <th>187</th>\n",
              "      <td>German</td>\n",
              "      <td>257</td>\n",
              "    </tr>\n",
              "    <tr>\n",
              "      <th>204</th>\n",
              "      <td>Korean</td>\n",
              "      <td>243</td>\n",
              "    </tr>\n",
              "    <tr>\n",
              "      <th>199</th>\n",
              "      <td>Italian</td>\n",
              "      <td>222</td>\n",
              "    </tr>\n",
              "    <tr>\n",
              "      <th>200</th>\n",
              "      <td>Japanese</td>\n",
              "      <td>204</td>\n",
              "    </tr>\n",
              "  </tbody>\n",
              "</table>\n",
              "</div>\n",
              "      <button class=\"colab-df-convert\" onclick=\"convertToInteractive('df-b6da98c1-a196-4c49-8ccd-50833b34fb11')\"\n",
              "              title=\"Convert this dataframe to an interactive table.\"\n",
              "              style=\"display:none;\">\n",
              "        \n",
              "  <svg xmlns=\"http://www.w3.org/2000/svg\" height=\"24px\"viewBox=\"0 0 24 24\"\n",
              "       width=\"24px\">\n",
              "    <path d=\"M0 0h24v24H0V0z\" fill=\"none\"/>\n",
              "    <path d=\"M18.56 5.44l.94 2.06.94-2.06 2.06-.94-2.06-.94-.94-2.06-.94 2.06-2.06.94zm-11 1L8.5 8.5l.94-2.06 2.06-.94-2.06-.94L8.5 2.5l-.94 2.06-2.06.94zm10 10l.94 2.06.94-2.06 2.06-.94-2.06-.94-.94-2.06-.94 2.06-2.06.94z\"/><path d=\"M17.41 7.96l-1.37-1.37c-.4-.4-.92-.59-1.43-.59-.52 0-1.04.2-1.43.59L10.3 9.45l-7.72 7.72c-.78.78-.78 2.05 0 2.83L4 21.41c.39.39.9.59 1.41.59.51 0 1.02-.2 1.41-.59l7.78-7.78 2.81-2.81c.8-.78.8-2.07 0-2.86zM5.41 20L4 18.59l7.72-7.72 1.47 1.35L5.41 20z\"/>\n",
              "  </svg>\n",
              "      </button>\n",
              "      \n",
              "  <style>\n",
              "    .colab-df-container {\n",
              "      display:flex;\n",
              "      flex-wrap:wrap;\n",
              "      gap: 12px;\n",
              "    }\n",
              "\n",
              "    .colab-df-convert {\n",
              "      background-color: #E8F0FE;\n",
              "      border: none;\n",
              "      border-radius: 50%;\n",
              "      cursor: pointer;\n",
              "      display: none;\n",
              "      fill: #1967D2;\n",
              "      height: 32px;\n",
              "      padding: 0 0 0 0;\n",
              "      width: 32px;\n",
              "    }\n",
              "\n",
              "    .colab-df-convert:hover {\n",
              "      background-color: #E2EBFA;\n",
              "      box-shadow: 0px 1px 2px rgba(60, 64, 67, 0.3), 0px 1px 3px 1px rgba(60, 64, 67, 0.15);\n",
              "      fill: #174EA6;\n",
              "    }\n",
              "\n",
              "    [theme=dark] .colab-df-convert {\n",
              "      background-color: #3B4455;\n",
              "      fill: #D2E3FC;\n",
              "    }\n",
              "\n",
              "    [theme=dark] .colab-df-convert:hover {\n",
              "      background-color: #434B5C;\n",
              "      box-shadow: 0px 1px 3px 1px rgba(0, 0, 0, 0.15);\n",
              "      filter: drop-shadow(0px 1px 2px rgba(0, 0, 0, 0.3));\n",
              "      fill: #FFFFFF;\n",
              "    }\n",
              "  </style>\n",
              "\n",
              "      <script>\n",
              "        const buttonEl =\n",
              "          document.querySelector('#df-b6da98c1-a196-4c49-8ccd-50833b34fb11 button.colab-df-convert');\n",
              "        buttonEl.style.display =\n",
              "          google.colab.kernel.accessAllowed ? 'block' : 'none';\n",
              "\n",
              "        async function convertToInteractive(key) {\n",
              "          const element = document.querySelector('#df-b6da98c1-a196-4c49-8ccd-50833b34fb11');\n",
              "          const dataTable =\n",
              "            await google.colab.kernel.invokeFunction('convertToInteractive',\n",
              "                                                     [key], {});\n",
              "          if (!dataTable) return;\n",
              "\n",
              "          const docLinkHtml = 'Like what you see? Visit the ' +\n",
              "            '<a target=\"_blank\" href=https://colab.research.google.com/notebooks/data_table.ipynb>data table notebook</a>'\n",
              "            + ' to learn more about interactive tables.';\n",
              "          element.innerHTML = '';\n",
              "          dataTable['output_type'] = 'display_data';\n",
              "          await google.colab.output.renderOutput(dataTable, element);\n",
              "          const docLink = document.createElement('div');\n",
              "          docLink.innerHTML = docLinkHtml;\n",
              "          element.appendChild(docLink);\n",
              "        }\n",
              "      </script>\n",
              "    </div>\n",
              "  </div>\n",
              "  "
            ]
          },
          "metadata": {},
          "execution_count": 54
        }
      ]
    },
    {
      "cell_type": "code",
      "metadata": {
        "id": "LdTmOcKsEk-N"
      },
      "source": [
        "language_df2.drop([0, 208, 290, 288, 289, 287], axis = 0, inplace=True) #drop some odd words (e.g. m, langugae, etc)"
      ],
      "execution_count": null,
      "outputs": []
    },
    {
      "cell_type": "code",
      "metadata": {
        "colab": {
          "base_uri": "https://localhost:8080/",
          "height": 363
        },
        "id": "Bv7K1-HMGSVL",
        "outputId": "ea571e1c-a927-4291-aedf-6bede51d7b66"
      },
      "source": [
        "language_df2.sort_values('counts', ascending=False).head(10)"
      ],
      "execution_count": null,
      "outputs": [
        {
          "output_type": "execute_result",
          "data": {
            "text/plain": [
              "      uniques  counts\n",
              "175   English    6729\n",
              "182    French     490\n",
              "262   Spanish     412\n",
              "187    German     257\n",
              "204    Korean     243\n",
              "199   Italian     222\n",
              "200  Japanese     204\n",
              "244   Russian     175\n",
              "263  Standard     134\n",
              "215  Mandarin     128"
            ],
            "text/html": [
              "\n",
              "  <div id=\"df-3da46fb0-76b5-4b82-b565-ee7b513dd04c\">\n",
              "    <div class=\"colab-df-container\">\n",
              "      <div>\n",
              "<style scoped>\n",
              "    .dataframe tbody tr th:only-of-type {\n",
              "        vertical-align: middle;\n",
              "    }\n",
              "\n",
              "    .dataframe tbody tr th {\n",
              "        vertical-align: top;\n",
              "    }\n",
              "\n",
              "    .dataframe thead th {\n",
              "        text-align: right;\n",
              "    }\n",
              "</style>\n",
              "<table border=\"1\" class=\"dataframe\">\n",
              "  <thead>\n",
              "    <tr style=\"text-align: right;\">\n",
              "      <th></th>\n",
              "      <th>uniques</th>\n",
              "      <th>counts</th>\n",
              "    </tr>\n",
              "  </thead>\n",
              "  <tbody>\n",
              "    <tr>\n",
              "      <th>175</th>\n",
              "      <td>English</td>\n",
              "      <td>6729</td>\n",
              "    </tr>\n",
              "    <tr>\n",
              "      <th>182</th>\n",
              "      <td>French</td>\n",
              "      <td>490</td>\n",
              "    </tr>\n",
              "    <tr>\n",
              "      <th>262</th>\n",
              "      <td>Spanish</td>\n",
              "      <td>412</td>\n",
              "    </tr>\n",
              "    <tr>\n",
              "      <th>187</th>\n",
              "      <td>German</td>\n",
              "      <td>257</td>\n",
              "    </tr>\n",
              "    <tr>\n",
              "      <th>204</th>\n",
              "      <td>Korean</td>\n",
              "      <td>243</td>\n",
              "    </tr>\n",
              "    <tr>\n",
              "      <th>199</th>\n",
              "      <td>Italian</td>\n",
              "      <td>222</td>\n",
              "    </tr>\n",
              "    <tr>\n",
              "      <th>200</th>\n",
              "      <td>Japanese</td>\n",
              "      <td>204</td>\n",
              "    </tr>\n",
              "    <tr>\n",
              "      <th>244</th>\n",
              "      <td>Russian</td>\n",
              "      <td>175</td>\n",
              "    </tr>\n",
              "    <tr>\n",
              "      <th>263</th>\n",
              "      <td>Standard</td>\n",
              "      <td>134</td>\n",
              "    </tr>\n",
              "    <tr>\n",
              "      <th>215</th>\n",
              "      <td>Mandarin</td>\n",
              "      <td>128</td>\n",
              "    </tr>\n",
              "  </tbody>\n",
              "</table>\n",
              "</div>\n",
              "      <button class=\"colab-df-convert\" onclick=\"convertToInteractive('df-3da46fb0-76b5-4b82-b565-ee7b513dd04c')\"\n",
              "              title=\"Convert this dataframe to an interactive table.\"\n",
              "              style=\"display:none;\">\n",
              "        \n",
              "  <svg xmlns=\"http://www.w3.org/2000/svg\" height=\"24px\"viewBox=\"0 0 24 24\"\n",
              "       width=\"24px\">\n",
              "    <path d=\"M0 0h24v24H0V0z\" fill=\"none\"/>\n",
              "    <path d=\"M18.56 5.44l.94 2.06.94-2.06 2.06-.94-2.06-.94-.94-2.06-.94 2.06-2.06.94zm-11 1L8.5 8.5l.94-2.06 2.06-.94-2.06-.94L8.5 2.5l-.94 2.06-2.06.94zm10 10l.94 2.06.94-2.06 2.06-.94-2.06-.94-.94-2.06-.94 2.06-2.06.94z\"/><path d=\"M17.41 7.96l-1.37-1.37c-.4-.4-.92-.59-1.43-.59-.52 0-1.04.2-1.43.59L10.3 9.45l-7.72 7.72c-.78.78-.78 2.05 0 2.83L4 21.41c.39.39.9.59 1.41.59.51 0 1.02-.2 1.41-.59l7.78-7.78 2.81-2.81c.8-.78.8-2.07 0-2.86zM5.41 20L4 18.59l7.72-7.72 1.47 1.35L5.41 20z\"/>\n",
              "  </svg>\n",
              "      </button>\n",
              "      \n",
              "  <style>\n",
              "    .colab-df-container {\n",
              "      display:flex;\n",
              "      flex-wrap:wrap;\n",
              "      gap: 12px;\n",
              "    }\n",
              "\n",
              "    .colab-df-convert {\n",
              "      background-color: #E8F0FE;\n",
              "      border: none;\n",
              "      border-radius: 50%;\n",
              "      cursor: pointer;\n",
              "      display: none;\n",
              "      fill: #1967D2;\n",
              "      height: 32px;\n",
              "      padding: 0 0 0 0;\n",
              "      width: 32px;\n",
              "    }\n",
              "\n",
              "    .colab-df-convert:hover {\n",
              "      background-color: #E2EBFA;\n",
              "      box-shadow: 0px 1px 2px rgba(60, 64, 67, 0.3), 0px 1px 3px 1px rgba(60, 64, 67, 0.15);\n",
              "      fill: #174EA6;\n",
              "    }\n",
              "\n",
              "    [theme=dark] .colab-df-convert {\n",
              "      background-color: #3B4455;\n",
              "      fill: #D2E3FC;\n",
              "    }\n",
              "\n",
              "    [theme=dark] .colab-df-convert:hover {\n",
              "      background-color: #434B5C;\n",
              "      box-shadow: 0px 1px 3px 1px rgba(0, 0, 0, 0.15);\n",
              "      filter: drop-shadow(0px 1px 2px rgba(0, 0, 0, 0.3));\n",
              "      fill: #FFFFFF;\n",
              "    }\n",
              "  </style>\n",
              "\n",
              "      <script>\n",
              "        const buttonEl =\n",
              "          document.querySelector('#df-3da46fb0-76b5-4b82-b565-ee7b513dd04c button.colab-df-convert');\n",
              "        buttonEl.style.display =\n",
              "          google.colab.kernel.accessAllowed ? 'block' : 'none';\n",
              "\n",
              "        async function convertToInteractive(key) {\n",
              "          const element = document.querySelector('#df-3da46fb0-76b5-4b82-b565-ee7b513dd04c');\n",
              "          const dataTable =\n",
              "            await google.colab.kernel.invokeFunction('convertToInteractive',\n",
              "                                                     [key], {});\n",
              "          if (!dataTable) return;\n",
              "\n",
              "          const docLinkHtml = 'Like what you see? Visit the ' +\n",
              "            '<a target=\"_blank\" href=https://colab.research.google.com/notebooks/data_table.ipynb>data table notebook</a>'\n",
              "            + ' to learn more about interactive tables.';\n",
              "          element.innerHTML = '';\n",
              "          dataTable['output_type'] = 'display_data';\n",
              "          await google.colab.output.renderOutput(dataTable, element);\n",
              "          const docLink = document.createElement('div');\n",
              "          docLink.innerHTML = docLinkHtml;\n",
              "          element.appendChild(docLink);\n",
              "        }\n",
              "      </script>\n",
              "    </div>\n",
              "  </div>\n",
              "  "
            ]
          },
          "metadata": {},
          "execution_count": 56
        }
      ]
    },
    {
      "cell_type": "code",
      "metadata": {
        "id": "hEK7qSTtH5Sb",
        "colab": {
          "base_uri": "https://localhost:8080/",
          "height": 206
        },
        "outputId": "6289318a-b9bb-458f-d550-ad65cf7fc759"
      },
      "source": [
        "language_df3 = language_df2.sort_values('counts', ascending=False).reset_index(drop = True) # fix the df with frequency on descenting order\n",
        "language_df3['cumulative'] = language_df3.counts.cumsum()/language_df3.counts.sum() #add a cumulative percentage column\n",
        "language_df3.head() "
      ],
      "execution_count": null,
      "outputs": [
        {
          "output_type": "execute_result",
          "data": {
            "text/plain": [
              "   uniques  counts  cumulative\n",
              "0  English    6729    0.670019\n",
              "1   French     490    0.718809\n",
              "2  Spanish     412    0.759833\n",
              "3   German     257    0.785423\n",
              "4   Korean     243    0.809619"
            ],
            "text/html": [
              "\n",
              "  <div id=\"df-2d30671c-8558-4d2b-b2ee-b3f22ecd75cd\">\n",
              "    <div class=\"colab-df-container\">\n",
              "      <div>\n",
              "<style scoped>\n",
              "    .dataframe tbody tr th:only-of-type {\n",
              "        vertical-align: middle;\n",
              "    }\n",
              "\n",
              "    .dataframe tbody tr th {\n",
              "        vertical-align: top;\n",
              "    }\n",
              "\n",
              "    .dataframe thead th {\n",
              "        text-align: right;\n",
              "    }\n",
              "</style>\n",
              "<table border=\"1\" class=\"dataframe\">\n",
              "  <thead>\n",
              "    <tr style=\"text-align: right;\">\n",
              "      <th></th>\n",
              "      <th>uniques</th>\n",
              "      <th>counts</th>\n",
              "      <th>cumulative</th>\n",
              "    </tr>\n",
              "  </thead>\n",
              "  <tbody>\n",
              "    <tr>\n",
              "      <th>0</th>\n",
              "      <td>English</td>\n",
              "      <td>6729</td>\n",
              "      <td>0.670019</td>\n",
              "    </tr>\n",
              "    <tr>\n",
              "      <th>1</th>\n",
              "      <td>French</td>\n",
              "      <td>490</td>\n",
              "      <td>0.718809</td>\n",
              "    </tr>\n",
              "    <tr>\n",
              "      <th>2</th>\n",
              "      <td>Spanish</td>\n",
              "      <td>412</td>\n",
              "      <td>0.759833</td>\n",
              "    </tr>\n",
              "    <tr>\n",
              "      <th>3</th>\n",
              "      <td>German</td>\n",
              "      <td>257</td>\n",
              "      <td>0.785423</td>\n",
              "    </tr>\n",
              "    <tr>\n",
              "      <th>4</th>\n",
              "      <td>Korean</td>\n",
              "      <td>243</td>\n",
              "      <td>0.809619</td>\n",
              "    </tr>\n",
              "  </tbody>\n",
              "</table>\n",
              "</div>\n",
              "      <button class=\"colab-df-convert\" onclick=\"convertToInteractive('df-2d30671c-8558-4d2b-b2ee-b3f22ecd75cd')\"\n",
              "              title=\"Convert this dataframe to an interactive table.\"\n",
              "              style=\"display:none;\">\n",
              "        \n",
              "  <svg xmlns=\"http://www.w3.org/2000/svg\" height=\"24px\"viewBox=\"0 0 24 24\"\n",
              "       width=\"24px\">\n",
              "    <path d=\"M0 0h24v24H0V0z\" fill=\"none\"/>\n",
              "    <path d=\"M18.56 5.44l.94 2.06.94-2.06 2.06-.94-2.06-.94-.94-2.06-.94 2.06-2.06.94zm-11 1L8.5 8.5l.94-2.06 2.06-.94-2.06-.94L8.5 2.5l-.94 2.06-2.06.94zm10 10l.94 2.06.94-2.06 2.06-.94-2.06-.94-.94-2.06-.94 2.06-2.06.94z\"/><path d=\"M17.41 7.96l-1.37-1.37c-.4-.4-.92-.59-1.43-.59-.52 0-1.04.2-1.43.59L10.3 9.45l-7.72 7.72c-.78.78-.78 2.05 0 2.83L4 21.41c.39.39.9.59 1.41.59.51 0 1.02-.2 1.41-.59l7.78-7.78 2.81-2.81c.8-.78.8-2.07 0-2.86zM5.41 20L4 18.59l7.72-7.72 1.47 1.35L5.41 20z\"/>\n",
              "  </svg>\n",
              "      </button>\n",
              "      \n",
              "  <style>\n",
              "    .colab-df-container {\n",
              "      display:flex;\n",
              "      flex-wrap:wrap;\n",
              "      gap: 12px;\n",
              "    }\n",
              "\n",
              "    .colab-df-convert {\n",
              "      background-color: #E8F0FE;\n",
              "      border: none;\n",
              "      border-radius: 50%;\n",
              "      cursor: pointer;\n",
              "      display: none;\n",
              "      fill: #1967D2;\n",
              "      height: 32px;\n",
              "      padding: 0 0 0 0;\n",
              "      width: 32px;\n",
              "    }\n",
              "\n",
              "    .colab-df-convert:hover {\n",
              "      background-color: #E2EBFA;\n",
              "      box-shadow: 0px 1px 2px rgba(60, 64, 67, 0.3), 0px 1px 3px 1px rgba(60, 64, 67, 0.15);\n",
              "      fill: #174EA6;\n",
              "    }\n",
              "\n",
              "    [theme=dark] .colab-df-convert {\n",
              "      background-color: #3B4455;\n",
              "      fill: #D2E3FC;\n",
              "    }\n",
              "\n",
              "    [theme=dark] .colab-df-convert:hover {\n",
              "      background-color: #434B5C;\n",
              "      box-shadow: 0px 1px 3px 1px rgba(0, 0, 0, 0.15);\n",
              "      filter: drop-shadow(0px 1px 2px rgba(0, 0, 0, 0.3));\n",
              "      fill: #FFFFFF;\n",
              "    }\n",
              "  </style>\n",
              "\n",
              "      <script>\n",
              "        const buttonEl =\n",
              "          document.querySelector('#df-2d30671c-8558-4d2b-b2ee-b3f22ecd75cd button.colab-df-convert');\n",
              "        buttonEl.style.display =\n",
              "          google.colab.kernel.accessAllowed ? 'block' : 'none';\n",
              "\n",
              "        async function convertToInteractive(key) {\n",
              "          const element = document.querySelector('#df-2d30671c-8558-4d2b-b2ee-b3f22ecd75cd');\n",
              "          const dataTable =\n",
              "            await google.colab.kernel.invokeFunction('convertToInteractive',\n",
              "                                                     [key], {});\n",
              "          if (!dataTable) return;\n",
              "\n",
              "          const docLinkHtml = 'Like what you see? Visit the ' +\n",
              "            '<a target=\"_blank\" href=https://colab.research.google.com/notebooks/data_table.ipynb>data table notebook</a>'\n",
              "            + ' to learn more about interactive tables.';\n",
              "          element.innerHTML = '';\n",
              "          dataTable['output_type'] = 'display_data';\n",
              "          await google.colab.output.renderOutput(dataTable, element);\n",
              "          const docLink = document.createElement('div');\n",
              "          docLink.innerHTML = docLinkHtml;\n",
              "          element.appendChild(docLink);\n",
              "        }\n",
              "      </script>\n",
              "    </div>\n",
              "  </div>\n",
              "  "
            ]
          },
          "metadata": {},
          "execution_count": 57
        }
      ]
    },
    {
      "cell_type": "markdown",
      "source": [
        "Unsurprisingly, almost 70% of the movies are in English. Can add this information as a dummy and decide later whether I only keep English language movies. "
      ],
      "metadata": {
        "id": "ix161n3MOTwl"
      }
    },
    {
      "cell_type": "code",
      "metadata": {
        "id": "QZwNjNKwKjEo"
      },
      "source": [
        "#create dummy for English\n",
        "English_lang = []\n",
        "for i in range(len(movie3)):\n",
        "  English_lang.append(bool(re.match(r'.*English\\s+.*',movie3.language_wo[i])))"
      ],
      "execution_count": null,
      "outputs": []
    },
    {
      "cell_type": "code",
      "metadata": {
        "id": "y6oPJIw0MC43"
      },
      "source": [
        "movie3['english_lang'] = English_lang"
      ],
      "execution_count": null,
      "outputs": []
    },
    {
      "cell_type": "code",
      "metadata": {
        "colab": {
          "base_uri": "https://localhost:8080/",
          "height": 354
        },
        "id": "Gntxvmx4MZ-R",
        "outputId": "29eb3e82-46c2-4fcf-c3cf-d7fdd7810a56"
      },
      "source": [
        "movie3.head()"
      ],
      "execution_count": null,
      "outputs": [
        {
          "output_type": "execute_result",
          "data": {
            "text/plain": [
              "   Unnamed: 0  wiki_movieID  \\\n",
              "0           1      31186339   \n",
              "1           3       2231378   \n",
              "2           4        595909   \n",
              "3           6       1952976   \n",
              "4           7      24225279   \n",
              "\n",
              "                                             summary          movie_name  \\\n",
              "0  The nation of Panem consists of a wealthy Capi...    The Hunger Games   \n",
              "1  The Lemon Drop Kid , a New York City swindler,...  The Lemon Drop Kid   \n",
              "2  Seventh-day Adventist Church pastor Michael Ch...   A Cry in the Dark   \n",
              "3  {{plot}} The film opens in 1974, as a young gi...          Dark Water   \n",
              "4  The story begins with Hannah, a young Jewish t...                Sing   \n",
              "\n",
              "  release_date   box_of_rev  run_time                           languages  \\\n",
              "0   2012-03-12  686533290.0     142.0  {\"/m/02h40lc\": \"English Language\"}   \n",
              "1   1951-03-08    2300000.0      91.0  {\"/m/02h40lc\": \"English Language\"}   \n",
              "2   1988-11-03    6908797.0     121.0  {\"/m/02h40lc\": \"English Language\"}   \n",
              "3   2005-06-27   49483352.0     105.0  {\"/m/02h40lc\": \"English Language\"}   \n",
              "4         1989    2260616.0      98.0  {\"/m/02h40lc\": \"English Language\"}   \n",
              "\n",
              "                                           countries  \\\n",
              "0          {\"/m/09c7w0\": \"United States of America\"}   \n",
              "1          {\"/m/09c7w0\": \"United States of America\"}   \n",
              "2  {\"/m/09c7w0\": \"United States of America\", \"/m/...   \n",
              "3          {\"/m/09c7w0\": \"United States of America\"}   \n",
              "4          {\"/m/09c7w0\": \"United States of America\"}   \n",
              "\n",
              "                                              genres  \\\n",
              "0  {\"/m/03btsm8\": \"Action/Adventure\", \"/m/06n90\":...   \n",
              "1  {\"/m/06qm3\": \"Screwball comedy\", \"/m/01z4y\": \"...   \n",
              "2  {\"/m/0lsxr\": \"Crime Fiction\", \"/m/07s9rl0\": \"D...   \n",
              "3  {\"/m/01jfsb\": \"Thriller\", \"/m/07s9rl0\": \"Drama...   \n",
              "4       {\"/m/07s9rl0\": \"Drama\", \"/m/02b5_l\": \"Teen\"}   \n",
              "\n",
              "                     language_wo  english_lang  \n",
              "0  m 02h40lc    English Language          True  \n",
              "1  m 02h40lc    English Language          True  \n",
              "2  m 02h40lc    English Language          True  \n",
              "3  m 02h40lc    English Language          True  \n",
              "4  m 02h40lc    English Language          True  "
            ],
            "text/html": [
              "\n",
              "  <div id=\"df-f833687a-0b56-41ee-9c0d-254bcc63fd79\">\n",
              "    <div class=\"colab-df-container\">\n",
              "      <div>\n",
              "<style scoped>\n",
              "    .dataframe tbody tr th:only-of-type {\n",
              "        vertical-align: middle;\n",
              "    }\n",
              "\n",
              "    .dataframe tbody tr th {\n",
              "        vertical-align: top;\n",
              "    }\n",
              "\n",
              "    .dataframe thead th {\n",
              "        text-align: right;\n",
              "    }\n",
              "</style>\n",
              "<table border=\"1\" class=\"dataframe\">\n",
              "  <thead>\n",
              "    <tr style=\"text-align: right;\">\n",
              "      <th></th>\n",
              "      <th>Unnamed: 0</th>\n",
              "      <th>wiki_movieID</th>\n",
              "      <th>summary</th>\n",
              "      <th>movie_name</th>\n",
              "      <th>release_date</th>\n",
              "      <th>box_of_rev</th>\n",
              "      <th>run_time</th>\n",
              "      <th>languages</th>\n",
              "      <th>countries</th>\n",
              "      <th>genres</th>\n",
              "      <th>language_wo</th>\n",
              "      <th>english_lang</th>\n",
              "    </tr>\n",
              "  </thead>\n",
              "  <tbody>\n",
              "    <tr>\n",
              "      <th>0</th>\n",
              "      <td>1</td>\n",
              "      <td>31186339</td>\n",
              "      <td>The nation of Panem consists of a wealthy Capi...</td>\n",
              "      <td>The Hunger Games</td>\n",
              "      <td>2012-03-12</td>\n",
              "      <td>686533290.0</td>\n",
              "      <td>142.0</td>\n",
              "      <td>{\"/m/02h40lc\": \"English Language\"}</td>\n",
              "      <td>{\"/m/09c7w0\": \"United States of America\"}</td>\n",
              "      <td>{\"/m/03btsm8\": \"Action/Adventure\", \"/m/06n90\":...</td>\n",
              "      <td>m 02h40lc    English Language</td>\n",
              "      <td>True</td>\n",
              "    </tr>\n",
              "    <tr>\n",
              "      <th>1</th>\n",
              "      <td>3</td>\n",
              "      <td>2231378</td>\n",
              "      <td>The Lemon Drop Kid , a New York City swindler,...</td>\n",
              "      <td>The Lemon Drop Kid</td>\n",
              "      <td>1951-03-08</td>\n",
              "      <td>2300000.0</td>\n",
              "      <td>91.0</td>\n",
              "      <td>{\"/m/02h40lc\": \"English Language\"}</td>\n",
              "      <td>{\"/m/09c7w0\": \"United States of America\"}</td>\n",
              "      <td>{\"/m/06qm3\": \"Screwball comedy\", \"/m/01z4y\": \"...</td>\n",
              "      <td>m 02h40lc    English Language</td>\n",
              "      <td>True</td>\n",
              "    </tr>\n",
              "    <tr>\n",
              "      <th>2</th>\n",
              "      <td>4</td>\n",
              "      <td>595909</td>\n",
              "      <td>Seventh-day Adventist Church pastor Michael Ch...</td>\n",
              "      <td>A Cry in the Dark</td>\n",
              "      <td>1988-11-03</td>\n",
              "      <td>6908797.0</td>\n",
              "      <td>121.0</td>\n",
              "      <td>{\"/m/02h40lc\": \"English Language\"}</td>\n",
              "      <td>{\"/m/09c7w0\": \"United States of America\", \"/m/...</td>\n",
              "      <td>{\"/m/0lsxr\": \"Crime Fiction\", \"/m/07s9rl0\": \"D...</td>\n",
              "      <td>m 02h40lc    English Language</td>\n",
              "      <td>True</td>\n",
              "    </tr>\n",
              "    <tr>\n",
              "      <th>3</th>\n",
              "      <td>6</td>\n",
              "      <td>1952976</td>\n",
              "      <td>{{plot}} The film opens in 1974, as a young gi...</td>\n",
              "      <td>Dark Water</td>\n",
              "      <td>2005-06-27</td>\n",
              "      <td>49483352.0</td>\n",
              "      <td>105.0</td>\n",
              "      <td>{\"/m/02h40lc\": \"English Language\"}</td>\n",
              "      <td>{\"/m/09c7w0\": \"United States of America\"}</td>\n",
              "      <td>{\"/m/01jfsb\": \"Thriller\", \"/m/07s9rl0\": \"Drama...</td>\n",
              "      <td>m 02h40lc    English Language</td>\n",
              "      <td>True</td>\n",
              "    </tr>\n",
              "    <tr>\n",
              "      <th>4</th>\n",
              "      <td>7</td>\n",
              "      <td>24225279</td>\n",
              "      <td>The story begins with Hannah, a young Jewish t...</td>\n",
              "      <td>Sing</td>\n",
              "      <td>1989</td>\n",
              "      <td>2260616.0</td>\n",
              "      <td>98.0</td>\n",
              "      <td>{\"/m/02h40lc\": \"English Language\"}</td>\n",
              "      <td>{\"/m/09c7w0\": \"United States of America\"}</td>\n",
              "      <td>{\"/m/07s9rl0\": \"Drama\", \"/m/02b5_l\": \"Teen\"}</td>\n",
              "      <td>m 02h40lc    English Language</td>\n",
              "      <td>True</td>\n",
              "    </tr>\n",
              "  </tbody>\n",
              "</table>\n",
              "</div>\n",
              "      <button class=\"colab-df-convert\" onclick=\"convertToInteractive('df-f833687a-0b56-41ee-9c0d-254bcc63fd79')\"\n",
              "              title=\"Convert this dataframe to an interactive table.\"\n",
              "              style=\"display:none;\">\n",
              "        \n",
              "  <svg xmlns=\"http://www.w3.org/2000/svg\" height=\"24px\"viewBox=\"0 0 24 24\"\n",
              "       width=\"24px\">\n",
              "    <path d=\"M0 0h24v24H0V0z\" fill=\"none\"/>\n",
              "    <path d=\"M18.56 5.44l.94 2.06.94-2.06 2.06-.94-2.06-.94-.94-2.06-.94 2.06-2.06.94zm-11 1L8.5 8.5l.94-2.06 2.06-.94-2.06-.94L8.5 2.5l-.94 2.06-2.06.94zm10 10l.94 2.06.94-2.06 2.06-.94-2.06-.94-.94-2.06-.94 2.06-2.06.94z\"/><path d=\"M17.41 7.96l-1.37-1.37c-.4-.4-.92-.59-1.43-.59-.52 0-1.04.2-1.43.59L10.3 9.45l-7.72 7.72c-.78.78-.78 2.05 0 2.83L4 21.41c.39.39.9.59 1.41.59.51 0 1.02-.2 1.41-.59l7.78-7.78 2.81-2.81c.8-.78.8-2.07 0-2.86zM5.41 20L4 18.59l7.72-7.72 1.47 1.35L5.41 20z\"/>\n",
              "  </svg>\n",
              "      </button>\n",
              "      \n",
              "  <style>\n",
              "    .colab-df-container {\n",
              "      display:flex;\n",
              "      flex-wrap:wrap;\n",
              "      gap: 12px;\n",
              "    }\n",
              "\n",
              "    .colab-df-convert {\n",
              "      background-color: #E8F0FE;\n",
              "      border: none;\n",
              "      border-radius: 50%;\n",
              "      cursor: pointer;\n",
              "      display: none;\n",
              "      fill: #1967D2;\n",
              "      height: 32px;\n",
              "      padding: 0 0 0 0;\n",
              "      width: 32px;\n",
              "    }\n",
              "\n",
              "    .colab-df-convert:hover {\n",
              "      background-color: #E2EBFA;\n",
              "      box-shadow: 0px 1px 2px rgba(60, 64, 67, 0.3), 0px 1px 3px 1px rgba(60, 64, 67, 0.15);\n",
              "      fill: #174EA6;\n",
              "    }\n",
              "\n",
              "    [theme=dark] .colab-df-convert {\n",
              "      background-color: #3B4455;\n",
              "      fill: #D2E3FC;\n",
              "    }\n",
              "\n",
              "    [theme=dark] .colab-df-convert:hover {\n",
              "      background-color: #434B5C;\n",
              "      box-shadow: 0px 1px 3px 1px rgba(0, 0, 0, 0.15);\n",
              "      filter: drop-shadow(0px 1px 2px rgba(0, 0, 0, 0.3));\n",
              "      fill: #FFFFFF;\n",
              "    }\n",
              "  </style>\n",
              "\n",
              "      <script>\n",
              "        const buttonEl =\n",
              "          document.querySelector('#df-f833687a-0b56-41ee-9c0d-254bcc63fd79 button.colab-df-convert');\n",
              "        buttonEl.style.display =\n",
              "          google.colab.kernel.accessAllowed ? 'block' : 'none';\n",
              "\n",
              "        async function convertToInteractive(key) {\n",
              "          const element = document.querySelector('#df-f833687a-0b56-41ee-9c0d-254bcc63fd79');\n",
              "          const dataTable =\n",
              "            await google.colab.kernel.invokeFunction('convertToInteractive',\n",
              "                                                     [key], {});\n",
              "          if (!dataTable) return;\n",
              "\n",
              "          const docLinkHtml = 'Like what you see? Visit the ' +\n",
              "            '<a target=\"_blank\" href=https://colab.research.google.com/notebooks/data_table.ipynb>data table notebook</a>'\n",
              "            + ' to learn more about interactive tables.';\n",
              "          element.innerHTML = '';\n",
              "          dataTable['output_type'] = 'display_data';\n",
              "          await google.colab.output.renderOutput(dataTable, element);\n",
              "          const docLink = document.createElement('div');\n",
              "          docLink.innerHTML = docLinkHtml;\n",
              "          element.appendChild(docLink);\n",
              "        }\n",
              "      </script>\n",
              "    </div>\n",
              "  </div>\n",
              "  "
            ]
          },
          "metadata": {},
          "execution_count": 60
        }
      ]
    },
    {
      "cell_type": "markdown",
      "metadata": {
        "id": "tP0Wcl18RHND"
      },
      "source": [
        "*This was a rather bulcky approach. In the next section will try to use a different approach, i.e. capitalize on the fact that the string is structured like a python dictionary.* "
      ]
    },
    {
      "cell_type": "markdown",
      "metadata": {
        "id": "OmdGE3LqM4un"
      },
      "source": [
        "##### *Country*"
      ]
    },
    {
      "cell_type": "code",
      "metadata": {
        "id": "winnqk2SRVV-"
      },
      "source": [
        "countries_listed = []\n",
        "\n",
        "for i in range(len(movie3)):\n",
        "  form_dic = ast.literal_eval(movie3.countries[i])#convert to dictionary\n",
        "  form_list = list(form_dic.values())#extract values\n",
        "  countries_listed.append(form_list)#paste values respective cell\n",
        "  "
      ],
      "execution_count": null,
      "outputs": []
    },
    {
      "cell_type": "code",
      "metadata": {
        "id": "gwi0ViJgSMar"
      },
      "source": [
        "movie3.countries = countries_listed #substitute dictionaries with lists, lists are easier to search in"
      ],
      "execution_count": null,
      "outputs": []
    },
    {
      "cell_type": "code",
      "metadata": {
        "colab": {
          "base_uri": "https://localhost:8080/",
          "height": 354
        },
        "id": "6G0u7hcESW-C",
        "outputId": "23e3befa-cd03-4191-c346-f47e3b79df22"
      },
      "source": [
        "movie3.head()"
      ],
      "execution_count": null,
      "outputs": [
        {
          "output_type": "execute_result",
          "data": {
            "text/plain": [
              "   Unnamed: 0  wiki_movieID  \\\n",
              "0           1      31186339   \n",
              "1           3       2231378   \n",
              "2           4        595909   \n",
              "3           6       1952976   \n",
              "4           7      24225279   \n",
              "\n",
              "                                             summary          movie_name  \\\n",
              "0  The nation of Panem consists of a wealthy Capi...    The Hunger Games   \n",
              "1  The Lemon Drop Kid , a New York City swindler,...  The Lemon Drop Kid   \n",
              "2  Seventh-day Adventist Church pastor Michael Ch...   A Cry in the Dark   \n",
              "3  {{plot}} The film opens in 1974, as a young gi...          Dark Water   \n",
              "4  The story begins with Hannah, a young Jewish t...                Sing   \n",
              "\n",
              "  release_date   box_of_rev  run_time                           languages  \\\n",
              "0   2012-03-12  686533290.0     142.0  {\"/m/02h40lc\": \"English Language\"}   \n",
              "1   1951-03-08    2300000.0      91.0  {\"/m/02h40lc\": \"English Language\"}   \n",
              "2   1988-11-03    6908797.0     121.0  {\"/m/02h40lc\": \"English Language\"}   \n",
              "3   2005-06-27   49483352.0     105.0  {\"/m/02h40lc\": \"English Language\"}   \n",
              "4         1989    2260616.0      98.0  {\"/m/02h40lc\": \"English Language\"}   \n",
              "\n",
              "                                           countries  \\\n",
              "0                         [United States of America]   \n",
              "1                         [United States of America]   \n",
              "2  [United States of America, Australia, New Zeal...   \n",
              "3                         [United States of America]   \n",
              "4                         [United States of America]   \n",
              "\n",
              "                                              genres  \\\n",
              "0  {\"/m/03btsm8\": \"Action/Adventure\", \"/m/06n90\":...   \n",
              "1  {\"/m/06qm3\": \"Screwball comedy\", \"/m/01z4y\": \"...   \n",
              "2  {\"/m/0lsxr\": \"Crime Fiction\", \"/m/07s9rl0\": \"D...   \n",
              "3  {\"/m/01jfsb\": \"Thriller\", \"/m/07s9rl0\": \"Drama...   \n",
              "4       {\"/m/07s9rl0\": \"Drama\", \"/m/02b5_l\": \"Teen\"}   \n",
              "\n",
              "                     language_wo  english_lang  \n",
              "0  m 02h40lc    English Language          True  \n",
              "1  m 02h40lc    English Language          True  \n",
              "2  m 02h40lc    English Language          True  \n",
              "3  m 02h40lc    English Language          True  \n",
              "4  m 02h40lc    English Language          True  "
            ],
            "text/html": [
              "\n",
              "  <div id=\"df-1a5dc966-6c45-401e-9cb7-e6c30a5b800d\">\n",
              "    <div class=\"colab-df-container\">\n",
              "      <div>\n",
              "<style scoped>\n",
              "    .dataframe tbody tr th:only-of-type {\n",
              "        vertical-align: middle;\n",
              "    }\n",
              "\n",
              "    .dataframe tbody tr th {\n",
              "        vertical-align: top;\n",
              "    }\n",
              "\n",
              "    .dataframe thead th {\n",
              "        text-align: right;\n",
              "    }\n",
              "</style>\n",
              "<table border=\"1\" class=\"dataframe\">\n",
              "  <thead>\n",
              "    <tr style=\"text-align: right;\">\n",
              "      <th></th>\n",
              "      <th>Unnamed: 0</th>\n",
              "      <th>wiki_movieID</th>\n",
              "      <th>summary</th>\n",
              "      <th>movie_name</th>\n",
              "      <th>release_date</th>\n",
              "      <th>box_of_rev</th>\n",
              "      <th>run_time</th>\n",
              "      <th>languages</th>\n",
              "      <th>countries</th>\n",
              "      <th>genres</th>\n",
              "      <th>language_wo</th>\n",
              "      <th>english_lang</th>\n",
              "    </tr>\n",
              "  </thead>\n",
              "  <tbody>\n",
              "    <tr>\n",
              "      <th>0</th>\n",
              "      <td>1</td>\n",
              "      <td>31186339</td>\n",
              "      <td>The nation of Panem consists of a wealthy Capi...</td>\n",
              "      <td>The Hunger Games</td>\n",
              "      <td>2012-03-12</td>\n",
              "      <td>686533290.0</td>\n",
              "      <td>142.0</td>\n",
              "      <td>{\"/m/02h40lc\": \"English Language\"}</td>\n",
              "      <td>[United States of America]</td>\n",
              "      <td>{\"/m/03btsm8\": \"Action/Adventure\", \"/m/06n90\":...</td>\n",
              "      <td>m 02h40lc    English Language</td>\n",
              "      <td>True</td>\n",
              "    </tr>\n",
              "    <tr>\n",
              "      <th>1</th>\n",
              "      <td>3</td>\n",
              "      <td>2231378</td>\n",
              "      <td>The Lemon Drop Kid , a New York City swindler,...</td>\n",
              "      <td>The Lemon Drop Kid</td>\n",
              "      <td>1951-03-08</td>\n",
              "      <td>2300000.0</td>\n",
              "      <td>91.0</td>\n",
              "      <td>{\"/m/02h40lc\": \"English Language\"}</td>\n",
              "      <td>[United States of America]</td>\n",
              "      <td>{\"/m/06qm3\": \"Screwball comedy\", \"/m/01z4y\": \"...</td>\n",
              "      <td>m 02h40lc    English Language</td>\n",
              "      <td>True</td>\n",
              "    </tr>\n",
              "    <tr>\n",
              "      <th>2</th>\n",
              "      <td>4</td>\n",
              "      <td>595909</td>\n",
              "      <td>Seventh-day Adventist Church pastor Michael Ch...</td>\n",
              "      <td>A Cry in the Dark</td>\n",
              "      <td>1988-11-03</td>\n",
              "      <td>6908797.0</td>\n",
              "      <td>121.0</td>\n",
              "      <td>{\"/m/02h40lc\": \"English Language\"}</td>\n",
              "      <td>[United States of America, Australia, New Zeal...</td>\n",
              "      <td>{\"/m/0lsxr\": \"Crime Fiction\", \"/m/07s9rl0\": \"D...</td>\n",
              "      <td>m 02h40lc    English Language</td>\n",
              "      <td>True</td>\n",
              "    </tr>\n",
              "    <tr>\n",
              "      <th>3</th>\n",
              "      <td>6</td>\n",
              "      <td>1952976</td>\n",
              "      <td>{{plot}} The film opens in 1974, as a young gi...</td>\n",
              "      <td>Dark Water</td>\n",
              "      <td>2005-06-27</td>\n",
              "      <td>49483352.0</td>\n",
              "      <td>105.0</td>\n",
              "      <td>{\"/m/02h40lc\": \"English Language\"}</td>\n",
              "      <td>[United States of America]</td>\n",
              "      <td>{\"/m/01jfsb\": \"Thriller\", \"/m/07s9rl0\": \"Drama...</td>\n",
              "      <td>m 02h40lc    English Language</td>\n",
              "      <td>True</td>\n",
              "    </tr>\n",
              "    <tr>\n",
              "      <th>4</th>\n",
              "      <td>7</td>\n",
              "      <td>24225279</td>\n",
              "      <td>The story begins with Hannah, a young Jewish t...</td>\n",
              "      <td>Sing</td>\n",
              "      <td>1989</td>\n",
              "      <td>2260616.0</td>\n",
              "      <td>98.0</td>\n",
              "      <td>{\"/m/02h40lc\": \"English Language\"}</td>\n",
              "      <td>[United States of America]</td>\n",
              "      <td>{\"/m/07s9rl0\": \"Drama\", \"/m/02b5_l\": \"Teen\"}</td>\n",
              "      <td>m 02h40lc    English Language</td>\n",
              "      <td>True</td>\n",
              "    </tr>\n",
              "  </tbody>\n",
              "</table>\n",
              "</div>\n",
              "      <button class=\"colab-df-convert\" onclick=\"convertToInteractive('df-1a5dc966-6c45-401e-9cb7-e6c30a5b800d')\"\n",
              "              title=\"Convert this dataframe to an interactive table.\"\n",
              "              style=\"display:none;\">\n",
              "        \n",
              "  <svg xmlns=\"http://www.w3.org/2000/svg\" height=\"24px\"viewBox=\"0 0 24 24\"\n",
              "       width=\"24px\">\n",
              "    <path d=\"M0 0h24v24H0V0z\" fill=\"none\"/>\n",
              "    <path d=\"M18.56 5.44l.94 2.06.94-2.06 2.06-.94-2.06-.94-.94-2.06-.94 2.06-2.06.94zm-11 1L8.5 8.5l.94-2.06 2.06-.94-2.06-.94L8.5 2.5l-.94 2.06-2.06.94zm10 10l.94 2.06.94-2.06 2.06-.94-2.06-.94-.94-2.06-.94 2.06-2.06.94z\"/><path d=\"M17.41 7.96l-1.37-1.37c-.4-.4-.92-.59-1.43-.59-.52 0-1.04.2-1.43.59L10.3 9.45l-7.72 7.72c-.78.78-.78 2.05 0 2.83L4 21.41c.39.39.9.59 1.41.59.51 0 1.02-.2 1.41-.59l7.78-7.78 2.81-2.81c.8-.78.8-2.07 0-2.86zM5.41 20L4 18.59l7.72-7.72 1.47 1.35L5.41 20z\"/>\n",
              "  </svg>\n",
              "      </button>\n",
              "      \n",
              "  <style>\n",
              "    .colab-df-container {\n",
              "      display:flex;\n",
              "      flex-wrap:wrap;\n",
              "      gap: 12px;\n",
              "    }\n",
              "\n",
              "    .colab-df-convert {\n",
              "      background-color: #E8F0FE;\n",
              "      border: none;\n",
              "      border-radius: 50%;\n",
              "      cursor: pointer;\n",
              "      display: none;\n",
              "      fill: #1967D2;\n",
              "      height: 32px;\n",
              "      padding: 0 0 0 0;\n",
              "      width: 32px;\n",
              "    }\n",
              "\n",
              "    .colab-df-convert:hover {\n",
              "      background-color: #E2EBFA;\n",
              "      box-shadow: 0px 1px 2px rgba(60, 64, 67, 0.3), 0px 1px 3px 1px rgba(60, 64, 67, 0.15);\n",
              "      fill: #174EA6;\n",
              "    }\n",
              "\n",
              "    [theme=dark] .colab-df-convert {\n",
              "      background-color: #3B4455;\n",
              "      fill: #D2E3FC;\n",
              "    }\n",
              "\n",
              "    [theme=dark] .colab-df-convert:hover {\n",
              "      background-color: #434B5C;\n",
              "      box-shadow: 0px 1px 3px 1px rgba(0, 0, 0, 0.15);\n",
              "      filter: drop-shadow(0px 1px 2px rgba(0, 0, 0, 0.3));\n",
              "      fill: #FFFFFF;\n",
              "    }\n",
              "  </style>\n",
              "\n",
              "      <script>\n",
              "        const buttonEl =\n",
              "          document.querySelector('#df-1a5dc966-6c45-401e-9cb7-e6c30a5b800d button.colab-df-convert');\n",
              "        buttonEl.style.display =\n",
              "          google.colab.kernel.accessAllowed ? 'block' : 'none';\n",
              "\n",
              "        async function convertToInteractive(key) {\n",
              "          const element = document.querySelector('#df-1a5dc966-6c45-401e-9cb7-e6c30a5b800d');\n",
              "          const dataTable =\n",
              "            await google.colab.kernel.invokeFunction('convertToInteractive',\n",
              "                                                     [key], {});\n",
              "          if (!dataTable) return;\n",
              "\n",
              "          const docLinkHtml = 'Like what you see? Visit the ' +\n",
              "            '<a target=\"_blank\" href=https://colab.research.google.com/notebooks/data_table.ipynb>data table notebook</a>'\n",
              "            + ' to learn more about interactive tables.';\n",
              "          element.innerHTML = '';\n",
              "          dataTable['output_type'] = 'display_data';\n",
              "          await google.colab.output.renderOutput(dataTable, element);\n",
              "          const docLink = document.createElement('div');\n",
              "          docLink.innerHTML = docLinkHtml;\n",
              "          element.appendChild(docLink);\n",
              "        }\n",
              "      </script>\n",
              "    </div>\n",
              "  </div>\n",
              "  "
            ]
          },
          "metadata": {},
          "execution_count": 63
        }
      ]
    },
    {
      "cell_type": "markdown",
      "metadata": {
        "id": "67mLq0jAShYk"
      },
      "source": [
        "Now need to ideantify the top countries to see for shich of them I can create dummies. For that need to: \n",
        "* Flatten the list\n",
        "* Turn in into numpy array\n",
        "* Get unique values and their frequencies\n",
        "* Turn the stats into df and get the top"
      ]
    },
    {
      "cell_type": "code",
      "metadata": {
        "id": "P1zie-jNSgry",
        "colab": {
          "base_uri": "https://localhost:8080/",
          "height": 363
        },
        "outputId": "151d396e-fda5-44dc-85d1-9d3b6e40588f"
      },
      "source": [
        "flat_list = []\n",
        "for item in countries_listed:\n",
        "  for country in item:\n",
        "    flat_list.append(country)\n",
        "\n",
        "flat_list = np.array(flat_list)\n",
        "\n",
        "unique, counts = np.unique(flat_list, return_counts=True)\n",
        "\n",
        "\n",
        "countries_df = pd.DataFrame({\n",
        "    'countries': unique, \n",
        "    'counts': counts})\n",
        "\n",
        "countries_df = countries_df.sort_values('counts', ascending=False).reset_index(drop = True)\n",
        "countries_df['cumulative'] = countries_df.counts.cumsum()/countries_df.counts.sum() #get cumulative percentage\n",
        "\n",
        "countries_df.head(10) #more than half belongs to the us, so we only need to create USA dummy"
      ],
      "execution_count": null,
      "outputs": [
        {
          "output_type": "execute_result",
          "data": {
            "text/plain": [
              "                  countries  counts  cumulative\n",
              "0  United States of America    6249    0.628103\n",
              "1            United Kingdom     870    0.715549\n",
              "2                    France     446    0.760378\n",
              "3                   Germany     422    0.802794\n",
              "4                    Canada     300    0.832948\n",
              "5               South Korea     264    0.859483\n",
              "6                     Japan     188    0.878380\n",
              "7                 Australia     158    0.894261\n",
              "8                     Italy     135    0.907830\n",
              "9                     Spain      90    0.916876"
            ],
            "text/html": [
              "\n",
              "  <div id=\"df-8366057d-ba99-4579-98e6-5866c82127fe\">\n",
              "    <div class=\"colab-df-container\">\n",
              "      <div>\n",
              "<style scoped>\n",
              "    .dataframe tbody tr th:only-of-type {\n",
              "        vertical-align: middle;\n",
              "    }\n",
              "\n",
              "    .dataframe tbody tr th {\n",
              "        vertical-align: top;\n",
              "    }\n",
              "\n",
              "    .dataframe thead th {\n",
              "        text-align: right;\n",
              "    }\n",
              "</style>\n",
              "<table border=\"1\" class=\"dataframe\">\n",
              "  <thead>\n",
              "    <tr style=\"text-align: right;\">\n",
              "      <th></th>\n",
              "      <th>countries</th>\n",
              "      <th>counts</th>\n",
              "      <th>cumulative</th>\n",
              "    </tr>\n",
              "  </thead>\n",
              "  <tbody>\n",
              "    <tr>\n",
              "      <th>0</th>\n",
              "      <td>United States of America</td>\n",
              "      <td>6249</td>\n",
              "      <td>0.628103</td>\n",
              "    </tr>\n",
              "    <tr>\n",
              "      <th>1</th>\n",
              "      <td>United Kingdom</td>\n",
              "      <td>870</td>\n",
              "      <td>0.715549</td>\n",
              "    </tr>\n",
              "    <tr>\n",
              "      <th>2</th>\n",
              "      <td>France</td>\n",
              "      <td>446</td>\n",
              "      <td>0.760378</td>\n",
              "    </tr>\n",
              "    <tr>\n",
              "      <th>3</th>\n",
              "      <td>Germany</td>\n",
              "      <td>422</td>\n",
              "      <td>0.802794</td>\n",
              "    </tr>\n",
              "    <tr>\n",
              "      <th>4</th>\n",
              "      <td>Canada</td>\n",
              "      <td>300</td>\n",
              "      <td>0.832948</td>\n",
              "    </tr>\n",
              "    <tr>\n",
              "      <th>5</th>\n",
              "      <td>South Korea</td>\n",
              "      <td>264</td>\n",
              "      <td>0.859483</td>\n",
              "    </tr>\n",
              "    <tr>\n",
              "      <th>6</th>\n",
              "      <td>Japan</td>\n",
              "      <td>188</td>\n",
              "      <td>0.878380</td>\n",
              "    </tr>\n",
              "    <tr>\n",
              "      <th>7</th>\n",
              "      <td>Australia</td>\n",
              "      <td>158</td>\n",
              "      <td>0.894261</td>\n",
              "    </tr>\n",
              "    <tr>\n",
              "      <th>8</th>\n",
              "      <td>Italy</td>\n",
              "      <td>135</td>\n",
              "      <td>0.907830</td>\n",
              "    </tr>\n",
              "    <tr>\n",
              "      <th>9</th>\n",
              "      <td>Spain</td>\n",
              "      <td>90</td>\n",
              "      <td>0.916876</td>\n",
              "    </tr>\n",
              "  </tbody>\n",
              "</table>\n",
              "</div>\n",
              "      <button class=\"colab-df-convert\" onclick=\"convertToInteractive('df-8366057d-ba99-4579-98e6-5866c82127fe')\"\n",
              "              title=\"Convert this dataframe to an interactive table.\"\n",
              "              style=\"display:none;\">\n",
              "        \n",
              "  <svg xmlns=\"http://www.w3.org/2000/svg\" height=\"24px\"viewBox=\"0 0 24 24\"\n",
              "       width=\"24px\">\n",
              "    <path d=\"M0 0h24v24H0V0z\" fill=\"none\"/>\n",
              "    <path d=\"M18.56 5.44l.94 2.06.94-2.06 2.06-.94-2.06-.94-.94-2.06-.94 2.06-2.06.94zm-11 1L8.5 8.5l.94-2.06 2.06-.94-2.06-.94L8.5 2.5l-.94 2.06-2.06.94zm10 10l.94 2.06.94-2.06 2.06-.94-2.06-.94-.94-2.06-.94 2.06-2.06.94z\"/><path d=\"M17.41 7.96l-1.37-1.37c-.4-.4-.92-.59-1.43-.59-.52 0-1.04.2-1.43.59L10.3 9.45l-7.72 7.72c-.78.78-.78 2.05 0 2.83L4 21.41c.39.39.9.59 1.41.59.51 0 1.02-.2 1.41-.59l7.78-7.78 2.81-2.81c.8-.78.8-2.07 0-2.86zM5.41 20L4 18.59l7.72-7.72 1.47 1.35L5.41 20z\"/>\n",
              "  </svg>\n",
              "      </button>\n",
              "      \n",
              "  <style>\n",
              "    .colab-df-container {\n",
              "      display:flex;\n",
              "      flex-wrap:wrap;\n",
              "      gap: 12px;\n",
              "    }\n",
              "\n",
              "    .colab-df-convert {\n",
              "      background-color: #E8F0FE;\n",
              "      border: none;\n",
              "      border-radius: 50%;\n",
              "      cursor: pointer;\n",
              "      display: none;\n",
              "      fill: #1967D2;\n",
              "      height: 32px;\n",
              "      padding: 0 0 0 0;\n",
              "      width: 32px;\n",
              "    }\n",
              "\n",
              "    .colab-df-convert:hover {\n",
              "      background-color: #E2EBFA;\n",
              "      box-shadow: 0px 1px 2px rgba(60, 64, 67, 0.3), 0px 1px 3px 1px rgba(60, 64, 67, 0.15);\n",
              "      fill: #174EA6;\n",
              "    }\n",
              "\n",
              "    [theme=dark] .colab-df-convert {\n",
              "      background-color: #3B4455;\n",
              "      fill: #D2E3FC;\n",
              "    }\n",
              "\n",
              "    [theme=dark] .colab-df-convert:hover {\n",
              "      background-color: #434B5C;\n",
              "      box-shadow: 0px 1px 3px 1px rgba(0, 0, 0, 0.15);\n",
              "      filter: drop-shadow(0px 1px 2px rgba(0, 0, 0, 0.3));\n",
              "      fill: #FFFFFF;\n",
              "    }\n",
              "  </style>\n",
              "\n",
              "      <script>\n",
              "        const buttonEl =\n",
              "          document.querySelector('#df-8366057d-ba99-4579-98e6-5866c82127fe button.colab-df-convert');\n",
              "        buttonEl.style.display =\n",
              "          google.colab.kernel.accessAllowed ? 'block' : 'none';\n",
              "\n",
              "        async function convertToInteractive(key) {\n",
              "          const element = document.querySelector('#df-8366057d-ba99-4579-98e6-5866c82127fe');\n",
              "          const dataTable =\n",
              "            await google.colab.kernel.invokeFunction('convertToInteractive',\n",
              "                                                     [key], {});\n",
              "          if (!dataTable) return;\n",
              "\n",
              "          const docLinkHtml = 'Like what you see? Visit the ' +\n",
              "            '<a target=\"_blank\" href=https://colab.research.google.com/notebooks/data_table.ipynb>data table notebook</a>'\n",
              "            + ' to learn more about interactive tables.';\n",
              "          element.innerHTML = '';\n",
              "          dataTable['output_type'] = 'display_data';\n",
              "          await google.colab.output.renderOutput(dataTable, element);\n",
              "          const docLink = document.createElement('div');\n",
              "          docLink.innerHTML = docLinkHtml;\n",
              "          element.appendChild(docLink);\n",
              "        }\n",
              "      </script>\n",
              "    </div>\n",
              "  </div>\n",
              "  "
            ]
          },
          "metadata": {},
          "execution_count": 66
        }
      ]
    },
    {
      "cell_type": "markdown",
      "source": [
        "More than half of the movies are US., so I would only create the dummy to indicate that. "
      ],
      "metadata": {
        "id": "mQJT1dsDQ_r7"
      }
    },
    {
      "cell_type": "code",
      "metadata": {
        "id": "qxFcZo9RU3xZ",
        "colab": {
          "base_uri": "https://localhost:8080/",
          "height": 354
        },
        "outputId": "fa902e31-4f1d-448f-93c5-de174e18883b"
      },
      "source": [
        "country_USA = []\n",
        "for i in range(len(movie3)):\n",
        "  country_USA.append('United States of America' in movie3.countries[i])\n",
        "\n",
        "movie3['country_USA'] = country_USA \n",
        "\n",
        "movie3.head()"
      ],
      "execution_count": null,
      "outputs": [
        {
          "output_type": "execute_result",
          "data": {
            "text/plain": [
              "   Unnamed: 0  wiki_movieID  \\\n",
              "0           1      31186339   \n",
              "1           3       2231378   \n",
              "2           4        595909   \n",
              "3           6       1952976   \n",
              "4           7      24225279   \n",
              "\n",
              "                                             summary          movie_name  \\\n",
              "0  The nation of Panem consists of a wealthy Capi...    The Hunger Games   \n",
              "1  The Lemon Drop Kid , a New York City swindler,...  The Lemon Drop Kid   \n",
              "2  Seventh-day Adventist Church pastor Michael Ch...   A Cry in the Dark   \n",
              "3  {{plot}} The film opens in 1974, as a young gi...          Dark Water   \n",
              "4  The story begins with Hannah, a young Jewish t...                Sing   \n",
              "\n",
              "  release_date   box_of_rev  run_time                           languages  \\\n",
              "0   2012-03-12  686533290.0     142.0  {\"/m/02h40lc\": \"English Language\"}   \n",
              "1   1951-03-08    2300000.0      91.0  {\"/m/02h40lc\": \"English Language\"}   \n",
              "2   1988-11-03    6908797.0     121.0  {\"/m/02h40lc\": \"English Language\"}   \n",
              "3   2005-06-27   49483352.0     105.0  {\"/m/02h40lc\": \"English Language\"}   \n",
              "4         1989    2260616.0      98.0  {\"/m/02h40lc\": \"English Language\"}   \n",
              "\n",
              "                                           countries  \\\n",
              "0                         [United States of America]   \n",
              "1                         [United States of America]   \n",
              "2  [United States of America, Australia, New Zeal...   \n",
              "3                         [United States of America]   \n",
              "4                         [United States of America]   \n",
              "\n",
              "                                              genres  \\\n",
              "0  {\"/m/03btsm8\": \"Action/Adventure\", \"/m/06n90\":...   \n",
              "1  {\"/m/06qm3\": \"Screwball comedy\", \"/m/01z4y\": \"...   \n",
              "2  {\"/m/0lsxr\": \"Crime Fiction\", \"/m/07s9rl0\": \"D...   \n",
              "3  {\"/m/01jfsb\": \"Thriller\", \"/m/07s9rl0\": \"Drama...   \n",
              "4       {\"/m/07s9rl0\": \"Drama\", \"/m/02b5_l\": \"Teen\"}   \n",
              "\n",
              "                     language_wo  english_lang  country_USA  \n",
              "0  m 02h40lc    English Language          True         True  \n",
              "1  m 02h40lc    English Language          True         True  \n",
              "2  m 02h40lc    English Language          True         True  \n",
              "3  m 02h40lc    English Language          True         True  \n",
              "4  m 02h40lc    English Language          True         True  "
            ],
            "text/html": [
              "\n",
              "  <div id=\"df-fcc298f9-64ff-417f-9d88-eb1608c9b68f\">\n",
              "    <div class=\"colab-df-container\">\n",
              "      <div>\n",
              "<style scoped>\n",
              "    .dataframe tbody tr th:only-of-type {\n",
              "        vertical-align: middle;\n",
              "    }\n",
              "\n",
              "    .dataframe tbody tr th {\n",
              "        vertical-align: top;\n",
              "    }\n",
              "\n",
              "    .dataframe thead th {\n",
              "        text-align: right;\n",
              "    }\n",
              "</style>\n",
              "<table border=\"1\" class=\"dataframe\">\n",
              "  <thead>\n",
              "    <tr style=\"text-align: right;\">\n",
              "      <th></th>\n",
              "      <th>Unnamed: 0</th>\n",
              "      <th>wiki_movieID</th>\n",
              "      <th>summary</th>\n",
              "      <th>movie_name</th>\n",
              "      <th>release_date</th>\n",
              "      <th>box_of_rev</th>\n",
              "      <th>run_time</th>\n",
              "      <th>languages</th>\n",
              "      <th>countries</th>\n",
              "      <th>genres</th>\n",
              "      <th>language_wo</th>\n",
              "      <th>english_lang</th>\n",
              "      <th>country_USA</th>\n",
              "    </tr>\n",
              "  </thead>\n",
              "  <tbody>\n",
              "    <tr>\n",
              "      <th>0</th>\n",
              "      <td>1</td>\n",
              "      <td>31186339</td>\n",
              "      <td>The nation of Panem consists of a wealthy Capi...</td>\n",
              "      <td>The Hunger Games</td>\n",
              "      <td>2012-03-12</td>\n",
              "      <td>686533290.0</td>\n",
              "      <td>142.0</td>\n",
              "      <td>{\"/m/02h40lc\": \"English Language\"}</td>\n",
              "      <td>[United States of America]</td>\n",
              "      <td>{\"/m/03btsm8\": \"Action/Adventure\", \"/m/06n90\":...</td>\n",
              "      <td>m 02h40lc    English Language</td>\n",
              "      <td>True</td>\n",
              "      <td>True</td>\n",
              "    </tr>\n",
              "    <tr>\n",
              "      <th>1</th>\n",
              "      <td>3</td>\n",
              "      <td>2231378</td>\n",
              "      <td>The Lemon Drop Kid , a New York City swindler,...</td>\n",
              "      <td>The Lemon Drop Kid</td>\n",
              "      <td>1951-03-08</td>\n",
              "      <td>2300000.0</td>\n",
              "      <td>91.0</td>\n",
              "      <td>{\"/m/02h40lc\": \"English Language\"}</td>\n",
              "      <td>[United States of America]</td>\n",
              "      <td>{\"/m/06qm3\": \"Screwball comedy\", \"/m/01z4y\": \"...</td>\n",
              "      <td>m 02h40lc    English Language</td>\n",
              "      <td>True</td>\n",
              "      <td>True</td>\n",
              "    </tr>\n",
              "    <tr>\n",
              "      <th>2</th>\n",
              "      <td>4</td>\n",
              "      <td>595909</td>\n",
              "      <td>Seventh-day Adventist Church pastor Michael Ch...</td>\n",
              "      <td>A Cry in the Dark</td>\n",
              "      <td>1988-11-03</td>\n",
              "      <td>6908797.0</td>\n",
              "      <td>121.0</td>\n",
              "      <td>{\"/m/02h40lc\": \"English Language\"}</td>\n",
              "      <td>[United States of America, Australia, New Zeal...</td>\n",
              "      <td>{\"/m/0lsxr\": \"Crime Fiction\", \"/m/07s9rl0\": \"D...</td>\n",
              "      <td>m 02h40lc    English Language</td>\n",
              "      <td>True</td>\n",
              "      <td>True</td>\n",
              "    </tr>\n",
              "    <tr>\n",
              "      <th>3</th>\n",
              "      <td>6</td>\n",
              "      <td>1952976</td>\n",
              "      <td>{{plot}} The film opens in 1974, as a young gi...</td>\n",
              "      <td>Dark Water</td>\n",
              "      <td>2005-06-27</td>\n",
              "      <td>49483352.0</td>\n",
              "      <td>105.0</td>\n",
              "      <td>{\"/m/02h40lc\": \"English Language\"}</td>\n",
              "      <td>[United States of America]</td>\n",
              "      <td>{\"/m/01jfsb\": \"Thriller\", \"/m/07s9rl0\": \"Drama...</td>\n",
              "      <td>m 02h40lc    English Language</td>\n",
              "      <td>True</td>\n",
              "      <td>True</td>\n",
              "    </tr>\n",
              "    <tr>\n",
              "      <th>4</th>\n",
              "      <td>7</td>\n",
              "      <td>24225279</td>\n",
              "      <td>The story begins with Hannah, a young Jewish t...</td>\n",
              "      <td>Sing</td>\n",
              "      <td>1989</td>\n",
              "      <td>2260616.0</td>\n",
              "      <td>98.0</td>\n",
              "      <td>{\"/m/02h40lc\": \"English Language\"}</td>\n",
              "      <td>[United States of America]</td>\n",
              "      <td>{\"/m/07s9rl0\": \"Drama\", \"/m/02b5_l\": \"Teen\"}</td>\n",
              "      <td>m 02h40lc    English Language</td>\n",
              "      <td>True</td>\n",
              "      <td>True</td>\n",
              "    </tr>\n",
              "  </tbody>\n",
              "</table>\n",
              "</div>\n",
              "      <button class=\"colab-df-convert\" onclick=\"convertToInteractive('df-fcc298f9-64ff-417f-9d88-eb1608c9b68f')\"\n",
              "              title=\"Convert this dataframe to an interactive table.\"\n",
              "              style=\"display:none;\">\n",
              "        \n",
              "  <svg xmlns=\"http://www.w3.org/2000/svg\" height=\"24px\"viewBox=\"0 0 24 24\"\n",
              "       width=\"24px\">\n",
              "    <path d=\"M0 0h24v24H0V0z\" fill=\"none\"/>\n",
              "    <path d=\"M18.56 5.44l.94 2.06.94-2.06 2.06-.94-2.06-.94-.94-2.06-.94 2.06-2.06.94zm-11 1L8.5 8.5l.94-2.06 2.06-.94-2.06-.94L8.5 2.5l-.94 2.06-2.06.94zm10 10l.94 2.06.94-2.06 2.06-.94-2.06-.94-.94-2.06-.94 2.06-2.06.94z\"/><path d=\"M17.41 7.96l-1.37-1.37c-.4-.4-.92-.59-1.43-.59-.52 0-1.04.2-1.43.59L10.3 9.45l-7.72 7.72c-.78.78-.78 2.05 0 2.83L4 21.41c.39.39.9.59 1.41.59.51 0 1.02-.2 1.41-.59l7.78-7.78 2.81-2.81c.8-.78.8-2.07 0-2.86zM5.41 20L4 18.59l7.72-7.72 1.47 1.35L5.41 20z\"/>\n",
              "  </svg>\n",
              "      </button>\n",
              "      \n",
              "  <style>\n",
              "    .colab-df-container {\n",
              "      display:flex;\n",
              "      flex-wrap:wrap;\n",
              "      gap: 12px;\n",
              "    }\n",
              "\n",
              "    .colab-df-convert {\n",
              "      background-color: #E8F0FE;\n",
              "      border: none;\n",
              "      border-radius: 50%;\n",
              "      cursor: pointer;\n",
              "      display: none;\n",
              "      fill: #1967D2;\n",
              "      height: 32px;\n",
              "      padding: 0 0 0 0;\n",
              "      width: 32px;\n",
              "    }\n",
              "\n",
              "    .colab-df-convert:hover {\n",
              "      background-color: #E2EBFA;\n",
              "      box-shadow: 0px 1px 2px rgba(60, 64, 67, 0.3), 0px 1px 3px 1px rgba(60, 64, 67, 0.15);\n",
              "      fill: #174EA6;\n",
              "    }\n",
              "\n",
              "    [theme=dark] .colab-df-convert {\n",
              "      background-color: #3B4455;\n",
              "      fill: #D2E3FC;\n",
              "    }\n",
              "\n",
              "    [theme=dark] .colab-df-convert:hover {\n",
              "      background-color: #434B5C;\n",
              "      box-shadow: 0px 1px 3px 1px rgba(0, 0, 0, 0.15);\n",
              "      filter: drop-shadow(0px 1px 2px rgba(0, 0, 0, 0.3));\n",
              "      fill: #FFFFFF;\n",
              "    }\n",
              "  </style>\n",
              "\n",
              "      <script>\n",
              "        const buttonEl =\n",
              "          document.querySelector('#df-fcc298f9-64ff-417f-9d88-eb1608c9b68f button.colab-df-convert');\n",
              "        buttonEl.style.display =\n",
              "          google.colab.kernel.accessAllowed ? 'block' : 'none';\n",
              "\n",
              "        async function convertToInteractive(key) {\n",
              "          const element = document.querySelector('#df-fcc298f9-64ff-417f-9d88-eb1608c9b68f');\n",
              "          const dataTable =\n",
              "            await google.colab.kernel.invokeFunction('convertToInteractive',\n",
              "                                                     [key], {});\n",
              "          if (!dataTable) return;\n",
              "\n",
              "          const docLinkHtml = 'Like what you see? Visit the ' +\n",
              "            '<a target=\"_blank\" href=https://colab.research.google.com/notebooks/data_table.ipynb>data table notebook</a>'\n",
              "            + ' to learn more about interactive tables.';\n",
              "          element.innerHTML = '';\n",
              "          dataTable['output_type'] = 'display_data';\n",
              "          await google.colab.output.renderOutput(dataTable, element);\n",
              "          const docLink = document.createElement('div');\n",
              "          docLink.innerHTML = docLinkHtml;\n",
              "          element.appendChild(docLink);\n",
              "        }\n",
              "      </script>\n",
              "    </div>\n",
              "  </div>\n",
              "  "
            ]
          },
          "metadata": {},
          "execution_count": 67
        }
      ]
    },
    {
      "cell_type": "markdown",
      "metadata": {
        "id": "LBK8YmemVXRh"
      },
      "source": [
        "##### *Genre*"
      ]
    },
    {
      "cell_type": "markdown",
      "source": [
        "Same approach like in Country. "
      ],
      "metadata": {
        "id": "KogURkzERPrs"
      }
    },
    {
      "cell_type": "code",
      "metadata": {
        "id": "QVgZ7ppdVbMb",
        "colab": {
          "base_uri": "https://localhost:8080/",
          "height": 990
        },
        "outputId": "4e71ab6b-986f-43b8-de9c-2bb99e5fbef2"
      },
      "source": [
        "genres_listed = []\n",
        "\n",
        "for i in range(len(movie3)):\n",
        "  form_dic = ast.literal_eval(movie3.genres[i])\n",
        "  form_list = list(form_dic.values())#extract genre values\n",
        "  genres_listed.append(form_list)\n",
        "\n",
        "movie3.genres = genres_listed #substitute dictionaries with lists \n",
        "\n",
        "flat_list = []\n",
        "\n",
        "for item in genres_listed:\n",
        "  for g in item:\n",
        "    flat_list.append(g)\n",
        "\n",
        "flat_list = np.array(flat_list)\n",
        "\n",
        "unique, counts = np.unique(flat_list, return_counts=True)\n",
        "\n",
        "genres_df = pd.DataFrame({\n",
        "    'genres': unique,\n",
        "    'counts': counts\n",
        "})\n",
        "\n",
        "genres_df = genres_df.sort_values('counts', ascending=False).reset_index(drop = True)\n",
        "genres_df['cumulative'] = genres_df.counts.cumsum()/genres_df.counts.sum()\n",
        "genres_df.head(30)"
      ],
      "execution_count": null,
      "outputs": [
        {
          "output_type": "execute_result",
          "data": {
            "text/plain": [
              "                    genres  counts  cumulative\n",
              "0                    Drama    3901    0.100355\n",
              "1                   Comedy    2927    0.175653\n",
              "2                 Thriller    1857    0.223426\n",
              "3             Romance Film    1849    0.270992\n",
              "4                   Action    1640    0.313182\n",
              "5         Action/Adventure    1284    0.346213\n",
              "6            Crime Fiction    1179    0.376544\n",
              "7                Adventure    1091    0.404610\n",
              "8                    Indie     941    0.428818\n",
              "9          Romantic comedy     822    0.449964\n",
              "10             Family Film     803    0.470622\n",
              "11                  Horror     736    0.489555\n",
              "12          Romantic drama     708    0.507769\n",
              "13                 Fantasy     671    0.525031\n",
              "14                 Mystery     648    0.541701\n",
              "15         Science Fiction     622    0.557702\n",
              "16            Period piece     615    0.573523\n",
              "17         Film adaptation     565    0.588058\n",
              "18          Crime Thriller     547    0.602130\n",
              "19            World cinema     522    0.615559\n",
              "20            Comedy-drama     514    0.628782\n",
              "21                 Musical     453    0.640435\n",
              "22                    Teen     386    0.650365\n",
              "23  Psychological thriller     386    0.660295\n",
              "24                War film     366    0.669711\n",
              "25           Coming of age     338    0.678406\n",
              "26            Black comedy     338    0.687101\n",
              "27               Animation     310    0.695076\n",
              "28                    Cult     305    0.702922\n",
              "29                  Parody     297    0.710563"
            ],
            "text/html": [
              "\n",
              "  <div id=\"df-24db969f-08cd-4bca-b0a1-9ed1a70f0521\">\n",
              "    <div class=\"colab-df-container\">\n",
              "      <div>\n",
              "<style scoped>\n",
              "    .dataframe tbody tr th:only-of-type {\n",
              "        vertical-align: middle;\n",
              "    }\n",
              "\n",
              "    .dataframe tbody tr th {\n",
              "        vertical-align: top;\n",
              "    }\n",
              "\n",
              "    .dataframe thead th {\n",
              "        text-align: right;\n",
              "    }\n",
              "</style>\n",
              "<table border=\"1\" class=\"dataframe\">\n",
              "  <thead>\n",
              "    <tr style=\"text-align: right;\">\n",
              "      <th></th>\n",
              "      <th>genres</th>\n",
              "      <th>counts</th>\n",
              "      <th>cumulative</th>\n",
              "    </tr>\n",
              "  </thead>\n",
              "  <tbody>\n",
              "    <tr>\n",
              "      <th>0</th>\n",
              "      <td>Drama</td>\n",
              "      <td>3901</td>\n",
              "      <td>0.100355</td>\n",
              "    </tr>\n",
              "    <tr>\n",
              "      <th>1</th>\n",
              "      <td>Comedy</td>\n",
              "      <td>2927</td>\n",
              "      <td>0.175653</td>\n",
              "    </tr>\n",
              "    <tr>\n",
              "      <th>2</th>\n",
              "      <td>Thriller</td>\n",
              "      <td>1857</td>\n",
              "      <td>0.223426</td>\n",
              "    </tr>\n",
              "    <tr>\n",
              "      <th>3</th>\n",
              "      <td>Romance Film</td>\n",
              "      <td>1849</td>\n",
              "      <td>0.270992</td>\n",
              "    </tr>\n",
              "    <tr>\n",
              "      <th>4</th>\n",
              "      <td>Action</td>\n",
              "      <td>1640</td>\n",
              "      <td>0.313182</td>\n",
              "    </tr>\n",
              "    <tr>\n",
              "      <th>5</th>\n",
              "      <td>Action/Adventure</td>\n",
              "      <td>1284</td>\n",
              "      <td>0.346213</td>\n",
              "    </tr>\n",
              "    <tr>\n",
              "      <th>6</th>\n",
              "      <td>Crime Fiction</td>\n",
              "      <td>1179</td>\n",
              "      <td>0.376544</td>\n",
              "    </tr>\n",
              "    <tr>\n",
              "      <th>7</th>\n",
              "      <td>Adventure</td>\n",
              "      <td>1091</td>\n",
              "      <td>0.404610</td>\n",
              "    </tr>\n",
              "    <tr>\n",
              "      <th>8</th>\n",
              "      <td>Indie</td>\n",
              "      <td>941</td>\n",
              "      <td>0.428818</td>\n",
              "    </tr>\n",
              "    <tr>\n",
              "      <th>9</th>\n",
              "      <td>Romantic comedy</td>\n",
              "      <td>822</td>\n",
              "      <td>0.449964</td>\n",
              "    </tr>\n",
              "    <tr>\n",
              "      <th>10</th>\n",
              "      <td>Family Film</td>\n",
              "      <td>803</td>\n",
              "      <td>0.470622</td>\n",
              "    </tr>\n",
              "    <tr>\n",
              "      <th>11</th>\n",
              "      <td>Horror</td>\n",
              "      <td>736</td>\n",
              "      <td>0.489555</td>\n",
              "    </tr>\n",
              "    <tr>\n",
              "      <th>12</th>\n",
              "      <td>Romantic drama</td>\n",
              "      <td>708</td>\n",
              "      <td>0.507769</td>\n",
              "    </tr>\n",
              "    <tr>\n",
              "      <th>13</th>\n",
              "      <td>Fantasy</td>\n",
              "      <td>671</td>\n",
              "      <td>0.525031</td>\n",
              "    </tr>\n",
              "    <tr>\n",
              "      <th>14</th>\n",
              "      <td>Mystery</td>\n",
              "      <td>648</td>\n",
              "      <td>0.541701</td>\n",
              "    </tr>\n",
              "    <tr>\n",
              "      <th>15</th>\n",
              "      <td>Science Fiction</td>\n",
              "      <td>622</td>\n",
              "      <td>0.557702</td>\n",
              "    </tr>\n",
              "    <tr>\n",
              "      <th>16</th>\n",
              "      <td>Period piece</td>\n",
              "      <td>615</td>\n",
              "      <td>0.573523</td>\n",
              "    </tr>\n",
              "    <tr>\n",
              "      <th>17</th>\n",
              "      <td>Film adaptation</td>\n",
              "      <td>565</td>\n",
              "      <td>0.588058</td>\n",
              "    </tr>\n",
              "    <tr>\n",
              "      <th>18</th>\n",
              "      <td>Crime Thriller</td>\n",
              "      <td>547</td>\n",
              "      <td>0.602130</td>\n",
              "    </tr>\n",
              "    <tr>\n",
              "      <th>19</th>\n",
              "      <td>World cinema</td>\n",
              "      <td>522</td>\n",
              "      <td>0.615559</td>\n",
              "    </tr>\n",
              "    <tr>\n",
              "      <th>20</th>\n",
              "      <td>Comedy-drama</td>\n",
              "      <td>514</td>\n",
              "      <td>0.628782</td>\n",
              "    </tr>\n",
              "    <tr>\n",
              "      <th>21</th>\n",
              "      <td>Musical</td>\n",
              "      <td>453</td>\n",
              "      <td>0.640435</td>\n",
              "    </tr>\n",
              "    <tr>\n",
              "      <th>22</th>\n",
              "      <td>Teen</td>\n",
              "      <td>386</td>\n",
              "      <td>0.650365</td>\n",
              "    </tr>\n",
              "    <tr>\n",
              "      <th>23</th>\n",
              "      <td>Psychological thriller</td>\n",
              "      <td>386</td>\n",
              "      <td>0.660295</td>\n",
              "    </tr>\n",
              "    <tr>\n",
              "      <th>24</th>\n",
              "      <td>War film</td>\n",
              "      <td>366</td>\n",
              "      <td>0.669711</td>\n",
              "    </tr>\n",
              "    <tr>\n",
              "      <th>25</th>\n",
              "      <td>Coming of age</td>\n",
              "      <td>338</td>\n",
              "      <td>0.678406</td>\n",
              "    </tr>\n",
              "    <tr>\n",
              "      <th>26</th>\n",
              "      <td>Black comedy</td>\n",
              "      <td>338</td>\n",
              "      <td>0.687101</td>\n",
              "    </tr>\n",
              "    <tr>\n",
              "      <th>27</th>\n",
              "      <td>Animation</td>\n",
              "      <td>310</td>\n",
              "      <td>0.695076</td>\n",
              "    </tr>\n",
              "    <tr>\n",
              "      <th>28</th>\n",
              "      <td>Cult</td>\n",
              "      <td>305</td>\n",
              "      <td>0.702922</td>\n",
              "    </tr>\n",
              "    <tr>\n",
              "      <th>29</th>\n",
              "      <td>Parody</td>\n",
              "      <td>297</td>\n",
              "      <td>0.710563</td>\n",
              "    </tr>\n",
              "  </tbody>\n",
              "</table>\n",
              "</div>\n",
              "      <button class=\"colab-df-convert\" onclick=\"convertToInteractive('df-24db969f-08cd-4bca-b0a1-9ed1a70f0521')\"\n",
              "              title=\"Convert this dataframe to an interactive table.\"\n",
              "              style=\"display:none;\">\n",
              "        \n",
              "  <svg xmlns=\"http://www.w3.org/2000/svg\" height=\"24px\"viewBox=\"0 0 24 24\"\n",
              "       width=\"24px\">\n",
              "    <path d=\"M0 0h24v24H0V0z\" fill=\"none\"/>\n",
              "    <path d=\"M18.56 5.44l.94 2.06.94-2.06 2.06-.94-2.06-.94-.94-2.06-.94 2.06-2.06.94zm-11 1L8.5 8.5l.94-2.06 2.06-.94-2.06-.94L8.5 2.5l-.94 2.06-2.06.94zm10 10l.94 2.06.94-2.06 2.06-.94-2.06-.94-.94-2.06-.94 2.06-2.06.94z\"/><path d=\"M17.41 7.96l-1.37-1.37c-.4-.4-.92-.59-1.43-.59-.52 0-1.04.2-1.43.59L10.3 9.45l-7.72 7.72c-.78.78-.78 2.05 0 2.83L4 21.41c.39.39.9.59 1.41.59.51 0 1.02-.2 1.41-.59l7.78-7.78 2.81-2.81c.8-.78.8-2.07 0-2.86zM5.41 20L4 18.59l7.72-7.72 1.47 1.35L5.41 20z\"/>\n",
              "  </svg>\n",
              "      </button>\n",
              "      \n",
              "  <style>\n",
              "    .colab-df-container {\n",
              "      display:flex;\n",
              "      flex-wrap:wrap;\n",
              "      gap: 12px;\n",
              "    }\n",
              "\n",
              "    .colab-df-convert {\n",
              "      background-color: #E8F0FE;\n",
              "      border: none;\n",
              "      border-radius: 50%;\n",
              "      cursor: pointer;\n",
              "      display: none;\n",
              "      fill: #1967D2;\n",
              "      height: 32px;\n",
              "      padding: 0 0 0 0;\n",
              "      width: 32px;\n",
              "    }\n",
              "\n",
              "    .colab-df-convert:hover {\n",
              "      background-color: #E2EBFA;\n",
              "      box-shadow: 0px 1px 2px rgba(60, 64, 67, 0.3), 0px 1px 3px 1px rgba(60, 64, 67, 0.15);\n",
              "      fill: #174EA6;\n",
              "    }\n",
              "\n",
              "    [theme=dark] .colab-df-convert {\n",
              "      background-color: #3B4455;\n",
              "      fill: #D2E3FC;\n",
              "    }\n",
              "\n",
              "    [theme=dark] .colab-df-convert:hover {\n",
              "      background-color: #434B5C;\n",
              "      box-shadow: 0px 1px 3px 1px rgba(0, 0, 0, 0.15);\n",
              "      filter: drop-shadow(0px 1px 2px rgba(0, 0, 0, 0.3));\n",
              "      fill: #FFFFFF;\n",
              "    }\n",
              "  </style>\n",
              "\n",
              "      <script>\n",
              "        const buttonEl =\n",
              "          document.querySelector('#df-24db969f-08cd-4bca-b0a1-9ed1a70f0521 button.colab-df-convert');\n",
              "        buttonEl.style.display =\n",
              "          google.colab.kernel.accessAllowed ? 'block' : 'none';\n",
              "\n",
              "        async function convertToInteractive(key) {\n",
              "          const element = document.querySelector('#df-24db969f-08cd-4bca-b0a1-9ed1a70f0521');\n",
              "          const dataTable =\n",
              "            await google.colab.kernel.invokeFunction('convertToInteractive',\n",
              "                                                     [key], {});\n",
              "          if (!dataTable) return;\n",
              "\n",
              "          const docLinkHtml = 'Like what you see? Visit the ' +\n",
              "            '<a target=\"_blank\" href=https://colab.research.google.com/notebooks/data_table.ipynb>data table notebook</a>'\n",
              "            + ' to learn more about interactive tables.';\n",
              "          element.innerHTML = '';\n",
              "          dataTable['output_type'] = 'display_data';\n",
              "          await google.colab.output.renderOutput(dataTable, element);\n",
              "          const docLink = document.createElement('div');\n",
              "          docLink.innerHTML = docLinkHtml;\n",
              "          element.appendChild(docLink);\n",
              "        }\n",
              "      </script>\n",
              "    </div>\n",
              "  </div>\n",
              "  "
            ]
          },
          "metadata": {},
          "execution_count": 68
        }
      ]
    },
    {
      "cell_type": "markdown",
      "metadata": {
        "id": "58vG12GskzZy"
      },
      "source": [
        "To create dummies for Top 15 genres seems like a good, and even rather extensive start. "
      ]
    },
    {
      "cell_type": "code",
      "metadata": {
        "id": "-OLvrzpqk7Dg",
        "colab": {
          "base_uri": "https://localhost:8080/"
        },
        "outputId": "ff7792cf-3811-400a-ec95-dd87142bd3ae"
      },
      "source": [
        "genres_list = list(genres_df.genres[:15])\n",
        "genres_list"
      ],
      "execution_count": null,
      "outputs": [
        {
          "output_type": "execute_result",
          "data": {
            "text/plain": [
              "['Drama',\n",
              " 'Comedy',\n",
              " 'Thriller',\n",
              " 'Romance Film',\n",
              " 'Action',\n",
              " 'Action/Adventure',\n",
              " 'Crime Fiction',\n",
              " 'Adventure',\n",
              " 'Indie',\n",
              " 'Romantic comedy',\n",
              " 'Family Film',\n",
              " 'Horror',\n",
              " 'Romantic drama',\n",
              " 'Fantasy',\n",
              " 'Mystery']"
            ]
          },
          "metadata": {},
          "execution_count": 69
        }
      ]
    },
    {
      "cell_type": "code",
      "metadata": {
        "id": "AEl98gNHlUqE",
        "colab": {
          "base_uri": "https://localhost:8080/",
          "height": 786
        },
        "outputId": "4b5af3a4-8b56-46ed-ab6b-19c7c934510f"
      },
      "source": [
        "for genre in genres_list:\n",
        "  x = [] #create an empty list to fill with dummies\n",
        "  for i in range(len(movie3)):\n",
        "    x.append(genre in movie3.genres[i]) #filling the list with true/false dummies\n",
        "\n",
        "  movie3[genre] = x  #adding the genre dummy column\n",
        "\n",
        "movie3.head()  "
      ],
      "execution_count": null,
      "outputs": [
        {
          "output_type": "execute_result",
          "data": {
            "text/plain": [
              "   Unnamed: 0  wiki_movieID  \\\n",
              "0           1      31186339   \n",
              "1           3       2231378   \n",
              "2           4        595909   \n",
              "3           6       1952976   \n",
              "4           7      24225279   \n",
              "\n",
              "                                             summary          movie_name  \\\n",
              "0  The nation of Panem consists of a wealthy Capi...    The Hunger Games   \n",
              "1  The Lemon Drop Kid , a New York City swindler,...  The Lemon Drop Kid   \n",
              "2  Seventh-day Adventist Church pastor Michael Ch...   A Cry in the Dark   \n",
              "3  {{plot}} The film opens in 1974, as a young gi...          Dark Water   \n",
              "4  The story begins with Hannah, a young Jewish t...                Sing   \n",
              "\n",
              "  release_date   box_of_rev  run_time                           languages  \\\n",
              "0   2012-03-12  686533290.0     142.0  {\"/m/02h40lc\": \"English Language\"}   \n",
              "1   1951-03-08    2300000.0      91.0  {\"/m/02h40lc\": \"English Language\"}   \n",
              "2   1988-11-03    6908797.0     121.0  {\"/m/02h40lc\": \"English Language\"}   \n",
              "3   2005-06-27   49483352.0     105.0  {\"/m/02h40lc\": \"English Language\"}   \n",
              "4         1989    2260616.0      98.0  {\"/m/02h40lc\": \"English Language\"}   \n",
              "\n",
              "                                           countries  \\\n",
              "0                         [United States of America]   \n",
              "1                         [United States of America]   \n",
              "2  [United States of America, Australia, New Zeal...   \n",
              "3                         [United States of America]   \n",
              "4                         [United States of America]   \n",
              "\n",
              "                                              genres  ... Action/Adventure  \\\n",
              "0  [Action/Adventure, Science Fiction, Action, Dr...  ...             True   \n",
              "1                         [Screwball comedy, Comedy]  ...            False   \n",
              "2  [Crime Fiction, Drama, Docudrama, World cinema...  ...            False   \n",
              "3                          [Thriller, Drama, Horror]  ...            False   \n",
              "4                                      [Drama, Teen]  ...            False   \n",
              "\n",
              "   Crime Fiction  Adventure  Indie  Romantic comedy  Family Film  Horror  \\\n",
              "0          False      False  False            False        False   False   \n",
              "1          False      False  False            False        False   False   \n",
              "2           True      False  False            False        False   False   \n",
              "3          False      False  False            False        False    True   \n",
              "4          False      False  False            False        False   False   \n",
              "\n",
              "   Romantic drama  Fantasy  Mystery  \n",
              "0           False    False    False  \n",
              "1           False    False    False  \n",
              "2           False    False    False  \n",
              "3           False    False    False  \n",
              "4           False    False    False  \n",
              "\n",
              "[5 rows x 28 columns]"
            ],
            "text/html": [
              "\n",
              "  <div id=\"df-20b8b0ac-c9f9-4670-b847-1809e6430e38\">\n",
              "    <div class=\"colab-df-container\">\n",
              "      <div>\n",
              "<style scoped>\n",
              "    .dataframe tbody tr th:only-of-type {\n",
              "        vertical-align: middle;\n",
              "    }\n",
              "\n",
              "    .dataframe tbody tr th {\n",
              "        vertical-align: top;\n",
              "    }\n",
              "\n",
              "    .dataframe thead th {\n",
              "        text-align: right;\n",
              "    }\n",
              "</style>\n",
              "<table border=\"1\" class=\"dataframe\">\n",
              "  <thead>\n",
              "    <tr style=\"text-align: right;\">\n",
              "      <th></th>\n",
              "      <th>Unnamed: 0</th>\n",
              "      <th>wiki_movieID</th>\n",
              "      <th>summary</th>\n",
              "      <th>movie_name</th>\n",
              "      <th>release_date</th>\n",
              "      <th>box_of_rev</th>\n",
              "      <th>run_time</th>\n",
              "      <th>languages</th>\n",
              "      <th>countries</th>\n",
              "      <th>genres</th>\n",
              "      <th>...</th>\n",
              "      <th>Action/Adventure</th>\n",
              "      <th>Crime Fiction</th>\n",
              "      <th>Adventure</th>\n",
              "      <th>Indie</th>\n",
              "      <th>Romantic comedy</th>\n",
              "      <th>Family Film</th>\n",
              "      <th>Horror</th>\n",
              "      <th>Romantic drama</th>\n",
              "      <th>Fantasy</th>\n",
              "      <th>Mystery</th>\n",
              "    </tr>\n",
              "  </thead>\n",
              "  <tbody>\n",
              "    <tr>\n",
              "      <th>0</th>\n",
              "      <td>1</td>\n",
              "      <td>31186339</td>\n",
              "      <td>The nation of Panem consists of a wealthy Capi...</td>\n",
              "      <td>The Hunger Games</td>\n",
              "      <td>2012-03-12</td>\n",
              "      <td>686533290.0</td>\n",
              "      <td>142.0</td>\n",
              "      <td>{\"/m/02h40lc\": \"English Language\"}</td>\n",
              "      <td>[United States of America]</td>\n",
              "      <td>[Action/Adventure, Science Fiction, Action, Dr...</td>\n",
              "      <td>...</td>\n",
              "      <td>True</td>\n",
              "      <td>False</td>\n",
              "      <td>False</td>\n",
              "      <td>False</td>\n",
              "      <td>False</td>\n",
              "      <td>False</td>\n",
              "      <td>False</td>\n",
              "      <td>False</td>\n",
              "      <td>False</td>\n",
              "      <td>False</td>\n",
              "    </tr>\n",
              "    <tr>\n",
              "      <th>1</th>\n",
              "      <td>3</td>\n",
              "      <td>2231378</td>\n",
              "      <td>The Lemon Drop Kid , a New York City swindler,...</td>\n",
              "      <td>The Lemon Drop Kid</td>\n",
              "      <td>1951-03-08</td>\n",
              "      <td>2300000.0</td>\n",
              "      <td>91.0</td>\n",
              "      <td>{\"/m/02h40lc\": \"English Language\"}</td>\n",
              "      <td>[United States of America]</td>\n",
              "      <td>[Screwball comedy, Comedy]</td>\n",
              "      <td>...</td>\n",
              "      <td>False</td>\n",
              "      <td>False</td>\n",
              "      <td>False</td>\n",
              "      <td>False</td>\n",
              "      <td>False</td>\n",
              "      <td>False</td>\n",
              "      <td>False</td>\n",
              "      <td>False</td>\n",
              "      <td>False</td>\n",
              "      <td>False</td>\n",
              "    </tr>\n",
              "    <tr>\n",
              "      <th>2</th>\n",
              "      <td>4</td>\n",
              "      <td>595909</td>\n",
              "      <td>Seventh-day Adventist Church pastor Michael Ch...</td>\n",
              "      <td>A Cry in the Dark</td>\n",
              "      <td>1988-11-03</td>\n",
              "      <td>6908797.0</td>\n",
              "      <td>121.0</td>\n",
              "      <td>{\"/m/02h40lc\": \"English Language\"}</td>\n",
              "      <td>[United States of America, Australia, New Zeal...</td>\n",
              "      <td>[Crime Fiction, Drama, Docudrama, World cinema...</td>\n",
              "      <td>...</td>\n",
              "      <td>False</td>\n",
              "      <td>True</td>\n",
              "      <td>False</td>\n",
              "      <td>False</td>\n",
              "      <td>False</td>\n",
              "      <td>False</td>\n",
              "      <td>False</td>\n",
              "      <td>False</td>\n",
              "      <td>False</td>\n",
              "      <td>False</td>\n",
              "    </tr>\n",
              "    <tr>\n",
              "      <th>3</th>\n",
              "      <td>6</td>\n",
              "      <td>1952976</td>\n",
              "      <td>{{plot}} The film opens in 1974, as a young gi...</td>\n",
              "      <td>Dark Water</td>\n",
              "      <td>2005-06-27</td>\n",
              "      <td>49483352.0</td>\n",
              "      <td>105.0</td>\n",
              "      <td>{\"/m/02h40lc\": \"English Language\"}</td>\n",
              "      <td>[United States of America]</td>\n",
              "      <td>[Thriller, Drama, Horror]</td>\n",
              "      <td>...</td>\n",
              "      <td>False</td>\n",
              "      <td>False</td>\n",
              "      <td>False</td>\n",
              "      <td>False</td>\n",
              "      <td>False</td>\n",
              "      <td>False</td>\n",
              "      <td>True</td>\n",
              "      <td>False</td>\n",
              "      <td>False</td>\n",
              "      <td>False</td>\n",
              "    </tr>\n",
              "    <tr>\n",
              "      <th>4</th>\n",
              "      <td>7</td>\n",
              "      <td>24225279</td>\n",
              "      <td>The story begins with Hannah, a young Jewish t...</td>\n",
              "      <td>Sing</td>\n",
              "      <td>1989</td>\n",
              "      <td>2260616.0</td>\n",
              "      <td>98.0</td>\n",
              "      <td>{\"/m/02h40lc\": \"English Language\"}</td>\n",
              "      <td>[United States of America]</td>\n",
              "      <td>[Drama, Teen]</td>\n",
              "      <td>...</td>\n",
              "      <td>False</td>\n",
              "      <td>False</td>\n",
              "      <td>False</td>\n",
              "      <td>False</td>\n",
              "      <td>False</td>\n",
              "      <td>False</td>\n",
              "      <td>False</td>\n",
              "      <td>False</td>\n",
              "      <td>False</td>\n",
              "      <td>False</td>\n",
              "    </tr>\n",
              "  </tbody>\n",
              "</table>\n",
              "<p>5 rows × 28 columns</p>\n",
              "</div>\n",
              "      <button class=\"colab-df-convert\" onclick=\"convertToInteractive('df-20b8b0ac-c9f9-4670-b847-1809e6430e38')\"\n",
              "              title=\"Convert this dataframe to an interactive table.\"\n",
              "              style=\"display:none;\">\n",
              "        \n",
              "  <svg xmlns=\"http://www.w3.org/2000/svg\" height=\"24px\"viewBox=\"0 0 24 24\"\n",
              "       width=\"24px\">\n",
              "    <path d=\"M0 0h24v24H0V0z\" fill=\"none\"/>\n",
              "    <path d=\"M18.56 5.44l.94 2.06.94-2.06 2.06-.94-2.06-.94-.94-2.06-.94 2.06-2.06.94zm-11 1L8.5 8.5l.94-2.06 2.06-.94-2.06-.94L8.5 2.5l-.94 2.06-2.06.94zm10 10l.94 2.06.94-2.06 2.06-.94-2.06-.94-.94-2.06-.94 2.06-2.06.94z\"/><path d=\"M17.41 7.96l-1.37-1.37c-.4-.4-.92-.59-1.43-.59-.52 0-1.04.2-1.43.59L10.3 9.45l-7.72 7.72c-.78.78-.78 2.05 0 2.83L4 21.41c.39.39.9.59 1.41.59.51 0 1.02-.2 1.41-.59l7.78-7.78 2.81-2.81c.8-.78.8-2.07 0-2.86zM5.41 20L4 18.59l7.72-7.72 1.47 1.35L5.41 20z\"/>\n",
              "  </svg>\n",
              "      </button>\n",
              "      \n",
              "  <style>\n",
              "    .colab-df-container {\n",
              "      display:flex;\n",
              "      flex-wrap:wrap;\n",
              "      gap: 12px;\n",
              "    }\n",
              "\n",
              "    .colab-df-convert {\n",
              "      background-color: #E8F0FE;\n",
              "      border: none;\n",
              "      border-radius: 50%;\n",
              "      cursor: pointer;\n",
              "      display: none;\n",
              "      fill: #1967D2;\n",
              "      height: 32px;\n",
              "      padding: 0 0 0 0;\n",
              "      width: 32px;\n",
              "    }\n",
              "\n",
              "    .colab-df-convert:hover {\n",
              "      background-color: #E2EBFA;\n",
              "      box-shadow: 0px 1px 2px rgba(60, 64, 67, 0.3), 0px 1px 3px 1px rgba(60, 64, 67, 0.15);\n",
              "      fill: #174EA6;\n",
              "    }\n",
              "\n",
              "    [theme=dark] .colab-df-convert {\n",
              "      background-color: #3B4455;\n",
              "      fill: #D2E3FC;\n",
              "    }\n",
              "\n",
              "    [theme=dark] .colab-df-convert:hover {\n",
              "      background-color: #434B5C;\n",
              "      box-shadow: 0px 1px 3px 1px rgba(0, 0, 0, 0.15);\n",
              "      filter: drop-shadow(0px 1px 2px rgba(0, 0, 0, 0.3));\n",
              "      fill: #FFFFFF;\n",
              "    }\n",
              "  </style>\n",
              "\n",
              "      <script>\n",
              "        const buttonEl =\n",
              "          document.querySelector('#df-20b8b0ac-c9f9-4670-b847-1809e6430e38 button.colab-df-convert');\n",
              "        buttonEl.style.display =\n",
              "          google.colab.kernel.accessAllowed ? 'block' : 'none';\n",
              "\n",
              "        async function convertToInteractive(key) {\n",
              "          const element = document.querySelector('#df-20b8b0ac-c9f9-4670-b847-1809e6430e38');\n",
              "          const dataTable =\n",
              "            await google.colab.kernel.invokeFunction('convertToInteractive',\n",
              "                                                     [key], {});\n",
              "          if (!dataTable) return;\n",
              "\n",
              "          const docLinkHtml = 'Like what you see? Visit the ' +\n",
              "            '<a target=\"_blank\" href=https://colab.research.google.com/notebooks/data_table.ipynb>data table notebook</a>'\n",
              "            + ' to learn more about interactive tables.';\n",
              "          element.innerHTML = '';\n",
              "          dataTable['output_type'] = 'display_data';\n",
              "          await google.colab.output.renderOutput(dataTable, element);\n",
              "          const docLink = document.createElement('div');\n",
              "          docLink.innerHTML = docLinkHtml;\n",
              "          element.appendChild(docLink);\n",
              "        }\n",
              "      </script>\n",
              "    </div>\n",
              "  </div>\n",
              "  "
            ]
          },
          "metadata": {},
          "execution_count": 70
        }
      ]
    },
    {
      "cell_type": "markdown",
      "metadata": {
        "id": "4PJIBXpimLXE"
      },
      "source": [
        "##### *Release Date*"
      ]
    },
    {
      "cell_type": "markdown",
      "metadata": {
        "id": "uY4W3LEYmOOg"
      },
      "source": [
        "So that the format is consistent will keep the year only"
      ]
    },
    {
      "cell_type": "code",
      "metadata": {
        "colab": {
          "base_uri": "https://localhost:8080/"
        },
        "id": "qWB6A6zOmNvu",
        "outputId": "2fae8a2e-6606-45be-a205-8b69545fa3ce"
      },
      "source": [
        "type(movie3.release_date[0])"
      ],
      "execution_count": null,
      "outputs": [
        {
          "output_type": "execute_result",
          "data": {
            "text/plain": [
              "str"
            ]
          },
          "metadata": {},
          "execution_count": 71
        }
      ]
    },
    {
      "cell_type": "code",
      "metadata": {
        "id": "s6eK_tlBmaat"
      },
      "source": [
        "movie3['year'] = movie3.release_date.str.findall(r'\\d{4}') #extracting 4 digits in a row"
      ],
      "execution_count": null,
      "outputs": []
    },
    {
      "cell_type": "code",
      "metadata": {
        "colab": {
          "base_uri": "https://localhost:8080/"
        },
        "id": "Ag8KQ3YKm1_3",
        "outputId": "49f062ec-fdfd-41fd-b7a2-89b1f843f299"
      },
      "source": [
        "type(movie3.year[0])"
      ],
      "execution_count": null,
      "outputs": [
        {
          "output_type": "execute_result",
          "data": {
            "text/plain": [
              "list"
            ]
          },
          "metadata": {},
          "execution_count": 73
        }
      ]
    },
    {
      "cell_type": "code",
      "metadata": {
        "id": "-vNSQ8jem9q0"
      },
      "source": [
        "y = []\n",
        "for i in range(len(movie3)):\n",
        "  y.append(''.join(movie3.year[i]))\n",
        "\n",
        "movie3.year = y  \n",
        "movie3.year = movie3.year.astype(int)"
      ],
      "execution_count": null,
      "outputs": []
    },
    {
      "cell_type": "markdown",
      "metadata": {
        "id": "1JWfBDNwpPGS"
      },
      "source": [
        "##### *Aligning formats*"
      ]
    },
    {
      "cell_type": "code",
      "metadata": {
        "colab": {
          "base_uri": "https://localhost:8080/"
        },
        "id": "35E5Aigfow0r",
        "outputId": "40e4b275-11f2-4da2-df93-6e84fec62f5d"
      },
      "source": [
        "movie3.info()"
      ],
      "execution_count": null,
      "outputs": [
        {
          "output_type": "stream",
          "name": "stdout",
          "text": [
            "<class 'pandas.core.frame.DataFrame'>\n",
            "RangeIndex: 7463 entries, 0 to 7462\n",
            "Data columns (total 29 columns):\n",
            " #   Column            Non-Null Count  Dtype  \n",
            "---  ------            --------------  -----  \n",
            " 0   Unnamed: 0        7463 non-null   int64  \n",
            " 1   wiki_movieID      7463 non-null   int64  \n",
            " 2   summary           7463 non-null   object \n",
            " 3   movie_name        7463 non-null   object \n",
            " 4   release_date      7463 non-null   object \n",
            " 5   box_of_rev        7463 non-null   float64\n",
            " 6   run_time          7463 non-null   float64\n",
            " 7   languages         7463 non-null   object \n",
            " 8   countries         7463 non-null   object \n",
            " 9   genres            7463 non-null   object \n",
            " 10  language_wo       7463 non-null   object \n",
            " 11  english_lang      7463 non-null   bool   \n",
            " 12  country_USA       7463 non-null   bool   \n",
            " 13  Drama             7463 non-null   bool   \n",
            " 14  Comedy            7463 non-null   bool   \n",
            " 15  Thriller          7463 non-null   bool   \n",
            " 16  Romance Film      7463 non-null   bool   \n",
            " 17  Action            7463 non-null   bool   \n",
            " 18  Action/Adventure  7463 non-null   bool   \n",
            " 19  Crime Fiction     7463 non-null   bool   \n",
            " 20  Adventure         7463 non-null   bool   \n",
            " 21  Indie             7463 non-null   bool   \n",
            " 22  Romantic comedy   7463 non-null   bool   \n",
            " 23  Family Film       7463 non-null   bool   \n",
            " 24  Horror            7463 non-null   bool   \n",
            " 25  Romantic drama    7463 non-null   bool   \n",
            " 26  Fantasy           7463 non-null   bool   \n",
            " 27  Mystery           7463 non-null   bool   \n",
            " 28  year              7463 non-null   int64  \n",
            "dtypes: bool(17), float64(2), int64(3), object(7)\n",
            "memory usage: 823.7+ KB\n"
          ]
        }
      ]
    },
    {
      "cell_type": "code",
      "metadata": {
        "id": "ZJrDaxQHpa7E"
      },
      "source": [
        "movie4 = movie3.drop(columns=['Unnamed: 0', 'language_wo']).copy()"
      ],
      "execution_count": null,
      "outputs": []
    },
    {
      "cell_type": "code",
      "metadata": {
        "id": "UAX-3umNqkJl"
      },
      "source": [
        "bools = ['Drama', 'Comedy', 'Thriller', 'Romance Film', 'Action', 'Action/Adventure', 'Crime Fiction', 'Adventure', 'Indie',\n",
        "       'Romantic comedy', 'Family Film', 'Horror', 'Romantic drama', 'Fantasy',\n",
        "       'Mystery']"
      ],
      "execution_count": null,
      "outputs": []
    },
    {
      "cell_type": "code",
      "metadata": {
        "id": "3R_WMa6jpz9e"
      },
      "source": [
        "movie4[['english_lang', 'country_USA', 'Drama', 'Comedy', 'Thriller', \n",
        "        'Romance Film', 'Action', 'Action/Adventure', 'Crime Fiction', \n",
        "        'Adventure', 'Indie', 'Romantic comedy', 'Family Film', 'Horror', \n",
        "        'Romantic drama', 'Fantasy', 'Mystery']] = movie4[['english_lang', \n",
        "                                                           'country_USA','Drama', 'Comedy', 'Thriller', 'Romance Film', 'Action', 'Action/Adventure', \n",
        "                                                           'Crime Fiction', 'Adventure', 'Indie', 'Romantic comedy', 'Family Film', 'Horror', 'Romantic drama', 'Fantasy', 'Mystery']].astype(int)"
      ],
      "execution_count": null,
      "outputs": []
    },
    {
      "cell_type": "code",
      "metadata": {
        "colab": {
          "base_uri": "https://localhost:8080/"
        },
        "id": "Mgd1Zpimp5Bo",
        "outputId": "cdd8c4bd-6b88-4343-8456-2be7e8d17769"
      },
      "source": [
        "movie4.info()"
      ],
      "execution_count": null,
      "outputs": [
        {
          "output_type": "stream",
          "name": "stdout",
          "text": [
            "<class 'pandas.core.frame.DataFrame'>\n",
            "RangeIndex: 7463 entries, 0 to 7462\n",
            "Data columns (total 27 columns):\n",
            " #   Column            Non-Null Count  Dtype  \n",
            "---  ------            --------------  -----  \n",
            " 0   wiki_movieID      7463 non-null   int64  \n",
            " 1   summary           7463 non-null   object \n",
            " 2   movie_name        7463 non-null   object \n",
            " 3   release_date      7463 non-null   object \n",
            " 4   box_of_rev        7463 non-null   float64\n",
            " 5   run_time          7463 non-null   float64\n",
            " 6   languages         7463 non-null   object \n",
            " 7   countries         7463 non-null   object \n",
            " 8   genres            7463 non-null   object \n",
            " 9   english_lang      7463 non-null   int64  \n",
            " 10  country_USA       7463 non-null   int64  \n",
            " 11  Drama             7463 non-null   int64  \n",
            " 12  Comedy            7463 non-null   int64  \n",
            " 13  Thriller          7463 non-null   int64  \n",
            " 14  Romance Film      7463 non-null   int64  \n",
            " 15  Action            7463 non-null   int64  \n",
            " 16  Action/Adventure  7463 non-null   int64  \n",
            " 17  Crime Fiction     7463 non-null   int64  \n",
            " 18  Adventure         7463 non-null   int64  \n",
            " 19  Indie             7463 non-null   int64  \n",
            " 20  Romantic comedy   7463 non-null   int64  \n",
            " 21  Family Film       7463 non-null   int64  \n",
            " 22  Horror            7463 non-null   int64  \n",
            " 23  Romantic drama    7463 non-null   int64  \n",
            " 24  Fantasy           7463 non-null   int64  \n",
            " 25  Mystery           7463 non-null   int64  \n",
            " 26  year              7463 non-null   int64  \n",
            "dtypes: float64(2), int64(19), object(6)\n",
            "memory usage: 1.5+ MB\n"
          ]
        }
      ]
    },
    {
      "cell_type": "markdown",
      "source": [
        "##### *Saving*"
      ],
      "metadata": {
        "id": "Lc51Uea0km9X"
      }
    },
    {
      "cell_type": "code",
      "metadata": {
        "id": "Z8X8YdttrZol"
      },
      "source": [
        "#saving\n",
        "movie4.to_csv('movies2012_semi_prep.csv')\n",
        "\n",
        "!cp movies2012_semi_prep.csv \"/content/drive/MyDrive/movies2012data\""
      ],
      "execution_count": null,
      "outputs": []
    },
    {
      "cell_type": "markdown",
      "source": [
        "##### *Exploring Release year*"
      ],
      "metadata": {
        "id": "kQS7s8bCrV-b"
      }
    },
    {
      "cell_type": "code",
      "source": [
        "movie = pd.read_csv('/content/drive/MyDrive/movies2012data/movies2012_semi_prep.csv', index_col = False)"
      ],
      "metadata": {
        "id": "0_FJw7BvrWTb"
      },
      "execution_count": null,
      "outputs": []
    },
    {
      "cell_type": "code",
      "source": [
        "movie.drop(columns=['Unnamed: 0'], inplace = True)"
      ],
      "metadata": {
        "id": "3oxky_zcr5UE"
      },
      "execution_count": null,
      "outputs": []
    },
    {
      "cell_type": "code",
      "source": [
        "print('Latest movie year: ' + str(movie.year.max()))\n",
        "print('Earliers movie year: ' + str(movie.year.min()))"
      ],
      "metadata": {
        "colab": {
          "base_uri": "https://localhost:8080/"
        },
        "id": "pqBjKBrTrcG8",
        "outputId": "54b16766-ab57-426b-9621-f2550bde2f80"
      },
      "execution_count": null,
      "outputs": [
        {
          "output_type": "stream",
          "name": "stdout",
          "text": [
            "Latest movie year: 2012\n",
            "Earliers movie year: 1010\n"
          ]
        }
      ]
    },
    {
      "cell_type": "code",
      "source": [
        "year_count_df = pd.DataFrame(movie.groupby('year').size()).reset_index ()\n",
        "year_count_df.sort_values(by = [0]).head()"
      ],
      "metadata": {
        "id": "bVak8W6ksuMN",
        "colab": {
          "base_uri": "https://localhost:8080/",
          "height": 206
        },
        "outputId": "8c36aa98-e76b-44ff-8993-13a31de83f9e"
      },
      "execution_count": null,
      "outputs": [
        {
          "output_type": "execute_result",
          "data": {
            "text/plain": [
              "   year  0\n",
              "0  1010  1\n",
              "1  1915  1\n",
              "2  1920  1\n",
              "4  1923  1\n",
              "7  1926  1"
            ],
            "text/html": [
              "\n",
              "  <div id=\"df-a496b48a-0093-44d7-aed6-ec00753bacc0\">\n",
              "    <div class=\"colab-df-container\">\n",
              "      <div>\n",
              "<style scoped>\n",
              "    .dataframe tbody tr th:only-of-type {\n",
              "        vertical-align: middle;\n",
              "    }\n",
              "\n",
              "    .dataframe tbody tr th {\n",
              "        vertical-align: top;\n",
              "    }\n",
              "\n",
              "    .dataframe thead th {\n",
              "        text-align: right;\n",
              "    }\n",
              "</style>\n",
              "<table border=\"1\" class=\"dataframe\">\n",
              "  <thead>\n",
              "    <tr style=\"text-align: right;\">\n",
              "      <th></th>\n",
              "      <th>year</th>\n",
              "      <th>0</th>\n",
              "    </tr>\n",
              "  </thead>\n",
              "  <tbody>\n",
              "    <tr>\n",
              "      <th>0</th>\n",
              "      <td>1010</td>\n",
              "      <td>1</td>\n",
              "    </tr>\n",
              "    <tr>\n",
              "      <th>1</th>\n",
              "      <td>1915</td>\n",
              "      <td>1</td>\n",
              "    </tr>\n",
              "    <tr>\n",
              "      <th>2</th>\n",
              "      <td>1920</td>\n",
              "      <td>1</td>\n",
              "    </tr>\n",
              "    <tr>\n",
              "      <th>4</th>\n",
              "      <td>1923</td>\n",
              "      <td>1</td>\n",
              "    </tr>\n",
              "    <tr>\n",
              "      <th>7</th>\n",
              "      <td>1926</td>\n",
              "      <td>1</td>\n",
              "    </tr>\n",
              "  </tbody>\n",
              "</table>\n",
              "</div>\n",
              "      <button class=\"colab-df-convert\" onclick=\"convertToInteractive('df-a496b48a-0093-44d7-aed6-ec00753bacc0')\"\n",
              "              title=\"Convert this dataframe to an interactive table.\"\n",
              "              style=\"display:none;\">\n",
              "        \n",
              "  <svg xmlns=\"http://www.w3.org/2000/svg\" height=\"24px\"viewBox=\"0 0 24 24\"\n",
              "       width=\"24px\">\n",
              "    <path d=\"M0 0h24v24H0V0z\" fill=\"none\"/>\n",
              "    <path d=\"M18.56 5.44l.94 2.06.94-2.06 2.06-.94-2.06-.94-.94-2.06-.94 2.06-2.06.94zm-11 1L8.5 8.5l.94-2.06 2.06-.94-2.06-.94L8.5 2.5l-.94 2.06-2.06.94zm10 10l.94 2.06.94-2.06 2.06-.94-2.06-.94-.94-2.06-.94 2.06-2.06.94z\"/><path d=\"M17.41 7.96l-1.37-1.37c-.4-.4-.92-.59-1.43-.59-.52 0-1.04.2-1.43.59L10.3 9.45l-7.72 7.72c-.78.78-.78 2.05 0 2.83L4 21.41c.39.39.9.59 1.41.59.51 0 1.02-.2 1.41-.59l7.78-7.78 2.81-2.81c.8-.78.8-2.07 0-2.86zM5.41 20L4 18.59l7.72-7.72 1.47 1.35L5.41 20z\"/>\n",
              "  </svg>\n",
              "      </button>\n",
              "      \n",
              "  <style>\n",
              "    .colab-df-container {\n",
              "      display:flex;\n",
              "      flex-wrap:wrap;\n",
              "      gap: 12px;\n",
              "    }\n",
              "\n",
              "    .colab-df-convert {\n",
              "      background-color: #E8F0FE;\n",
              "      border: none;\n",
              "      border-radius: 50%;\n",
              "      cursor: pointer;\n",
              "      display: none;\n",
              "      fill: #1967D2;\n",
              "      height: 32px;\n",
              "      padding: 0 0 0 0;\n",
              "      width: 32px;\n",
              "    }\n",
              "\n",
              "    .colab-df-convert:hover {\n",
              "      background-color: #E2EBFA;\n",
              "      box-shadow: 0px 1px 2px rgba(60, 64, 67, 0.3), 0px 1px 3px 1px rgba(60, 64, 67, 0.15);\n",
              "      fill: #174EA6;\n",
              "    }\n",
              "\n",
              "    [theme=dark] .colab-df-convert {\n",
              "      background-color: #3B4455;\n",
              "      fill: #D2E3FC;\n",
              "    }\n",
              "\n",
              "    [theme=dark] .colab-df-convert:hover {\n",
              "      background-color: #434B5C;\n",
              "      box-shadow: 0px 1px 3px 1px rgba(0, 0, 0, 0.15);\n",
              "      filter: drop-shadow(0px 1px 2px rgba(0, 0, 0, 0.3));\n",
              "      fill: #FFFFFF;\n",
              "    }\n",
              "  </style>\n",
              "\n",
              "      <script>\n",
              "        const buttonEl =\n",
              "          document.querySelector('#df-a496b48a-0093-44d7-aed6-ec00753bacc0 button.colab-df-convert');\n",
              "        buttonEl.style.display =\n",
              "          google.colab.kernel.accessAllowed ? 'block' : 'none';\n",
              "\n",
              "        async function convertToInteractive(key) {\n",
              "          const element = document.querySelector('#df-a496b48a-0093-44d7-aed6-ec00753bacc0');\n",
              "          const dataTable =\n",
              "            await google.colab.kernel.invokeFunction('convertToInteractive',\n",
              "                                                     [key], {});\n",
              "          if (!dataTable) return;\n",
              "\n",
              "          const docLinkHtml = 'Like what you see? Visit the ' +\n",
              "            '<a target=\"_blank\" href=https://colab.research.google.com/notebooks/data_table.ipynb>data table notebook</a>'\n",
              "            + ' to learn more about interactive tables.';\n",
              "          element.innerHTML = '';\n",
              "          dataTable['output_type'] = 'display_data';\n",
              "          await google.colab.output.renderOutput(dataTable, element);\n",
              "          const docLink = document.createElement('div');\n",
              "          docLink.innerHTML = docLinkHtml;\n",
              "          element.appendChild(docLink);\n",
              "        }\n",
              "      </script>\n",
              "    </div>\n",
              "  </div>\n",
              "  "
            ]
          },
          "metadata": {},
          "execution_count": 90
        }
      ]
    },
    {
      "cell_type": "code",
      "source": [
        "plt.plot(year_count_df.year[30:], year_count_df[0][30:])\n",
        "plt.xticks(np.arange(1950, 2015, 5), rotation = 45)\n",
        "plt\n",
        "plt.show()"
      ],
      "metadata": {
        "colab": {
          "base_uri": "https://localhost:8080/",
          "height": 280
        },
        "id": "Re5CxhBLsh_h",
        "outputId": "4d22e5a4-8a30-4096-bd85-be3de3bce0b2"
      },
      "execution_count": null,
      "outputs": [
        {
          "output_type": "display_data",
          "data": {
            "text/plain": [
              "<Figure size 432x288 with 1 Axes>"
            ],
            "image/png": "[encoded data removed]"
          },
          "metadata": {
            "needs_background": "light"
          }
        }
      ]
    },
    {
      "cell_type": "markdown",
      "source": [
        "There are some movies from very early days... The top one is definitely a mistake though.\n",
        "These early movies could be quite different in plot and probably will only add noise to the data. To avoid this noise, it's better to look at the movies that were made when the industry already reached its maturity and got really into masses. Hence, I would only consider more recent movies, when it gets to  the movies starting from 1985."
      ],
      "metadata": {
        "id": "D8tV1UvisLD4"
      }
    },
    {
      "cell_type": "code",
      "source": [
        "recent_df = year_count_df[year_count_df['year']>=1985]\n",
        "recent_df"
      ],
      "metadata": {
        "colab": {
          "base_uri": "https://localhost:8080/",
          "height": 928
        },
        "id": "W0LhJVFAtnGi",
        "outputId": "8d177f59-3703-46c6-adba-c24671520973"
      },
      "execution_count": null,
      "outputs": [
        {
          "output_type": "execute_result",
          "data": {
            "text/plain": [
              "    year    0\n",
              "65  1985  110\n",
              "66  1986  119\n",
              "67  1987  148\n",
              "68  1988  169\n",
              "69  1989  149\n",
              "70  1990  145\n",
              "71  1991  129\n",
              "72  1992  152\n",
              "73  1993  163\n",
              "74  1994  171\n",
              "75  1995  184\n",
              "76  1996  182\n",
              "77  1997  173\n",
              "78  1998  191\n",
              "79  1999  178\n",
              "80  2000  180\n",
              "81  2001  202\n",
              "82  2002  236\n",
              "83  2003  208\n",
              "84  2004  235\n",
              "85  2005  266\n",
              "86  2006  328\n",
              "87  2007  343\n",
              "88  2008  346\n",
              "89  2009  328\n",
              "90  2010  295\n",
              "91  2011  269\n",
              "92  2012  120"
            ],
            "text/html": [
              "\n",
              "  <div id=\"df-551b792e-a0a6-41fc-b337-3be54192704e\">\n",
              "    <div class=\"colab-df-container\">\n",
              "      <div>\n",
              "<style scoped>\n",
              "    .dataframe tbody tr th:only-of-type {\n",
              "        vertical-align: middle;\n",
              "    }\n",
              "\n",
              "    .dataframe tbody tr th {\n",
              "        vertical-align: top;\n",
              "    }\n",
              "\n",
              "    .dataframe thead th {\n",
              "        text-align: right;\n",
              "    }\n",
              "</style>\n",
              "<table border=\"1\" class=\"dataframe\">\n",
              "  <thead>\n",
              "    <tr style=\"text-align: right;\">\n",
              "      <th></th>\n",
              "      <th>year</th>\n",
              "      <th>0</th>\n",
              "    </tr>\n",
              "  </thead>\n",
              "  <tbody>\n",
              "    <tr>\n",
              "      <th>65</th>\n",
              "      <td>1985</td>\n",
              "      <td>110</td>\n",
              "    </tr>\n",
              "    <tr>\n",
              "      <th>66</th>\n",
              "      <td>1986</td>\n",
              "      <td>119</td>\n",
              "    </tr>\n",
              "    <tr>\n",
              "      <th>67</th>\n",
              "      <td>1987</td>\n",
              "      <td>148</td>\n",
              "    </tr>\n",
              "    <tr>\n",
              "      <th>68</th>\n",
              "      <td>1988</td>\n",
              "      <td>169</td>\n",
              "    </tr>\n",
              "    <tr>\n",
              "      <th>69</th>\n",
              "      <td>1989</td>\n",
              "      <td>149</td>\n",
              "    </tr>\n",
              "    <tr>\n",
              "      <th>70</th>\n",
              "      <td>1990</td>\n",
              "      <td>145</td>\n",
              "    </tr>\n",
              "    <tr>\n",
              "      <th>71</th>\n",
              "      <td>1991</td>\n",
              "      <td>129</td>\n",
              "    </tr>\n",
              "    <tr>\n",
              "      <th>72</th>\n",
              "      <td>1992</td>\n",
              "      <td>152</td>\n",
              "    </tr>\n",
              "    <tr>\n",
              "      <th>73</th>\n",
              "      <td>1993</td>\n",
              "      <td>163</td>\n",
              "    </tr>\n",
              "    <tr>\n",
              "      <th>74</th>\n",
              "      <td>1994</td>\n",
              "      <td>171</td>\n",
              "    </tr>\n",
              "    <tr>\n",
              "      <th>75</th>\n",
              "      <td>1995</td>\n",
              "      <td>184</td>\n",
              "    </tr>\n",
              "    <tr>\n",
              "      <th>76</th>\n",
              "      <td>1996</td>\n",
              "      <td>182</td>\n",
              "    </tr>\n",
              "    <tr>\n",
              "      <th>77</th>\n",
              "      <td>1997</td>\n",
              "      <td>173</td>\n",
              "    </tr>\n",
              "    <tr>\n",
              "      <th>78</th>\n",
              "      <td>1998</td>\n",
              "      <td>191</td>\n",
              "    </tr>\n",
              "    <tr>\n",
              "      <th>79</th>\n",
              "      <td>1999</td>\n",
              "      <td>178</td>\n",
              "    </tr>\n",
              "    <tr>\n",
              "      <th>80</th>\n",
              "      <td>2000</td>\n",
              "      <td>180</td>\n",
              "    </tr>\n",
              "    <tr>\n",
              "      <th>81</th>\n",
              "      <td>2001</td>\n",
              "      <td>202</td>\n",
              "    </tr>\n",
              "    <tr>\n",
              "      <th>82</th>\n",
              "      <td>2002</td>\n",
              "      <td>236</td>\n",
              "    </tr>\n",
              "    <tr>\n",
              "      <th>83</th>\n",
              "      <td>2003</td>\n",
              "      <td>208</td>\n",
              "    </tr>\n",
              "    <tr>\n",
              "      <th>84</th>\n",
              "      <td>2004</td>\n",
              "      <td>235</td>\n",
              "    </tr>\n",
              "    <tr>\n",
              "      <th>85</th>\n",
              "      <td>2005</td>\n",
              "      <td>266</td>\n",
              "    </tr>\n",
              "    <tr>\n",
              "      <th>86</th>\n",
              "      <td>2006</td>\n",
              "      <td>328</td>\n",
              "    </tr>\n",
              "    <tr>\n",
              "      <th>87</th>\n",
              "      <td>2007</td>\n",
              "      <td>343</td>\n",
              "    </tr>\n",
              "    <tr>\n",
              "      <th>88</th>\n",
              "      <td>2008</td>\n",
              "      <td>346</td>\n",
              "    </tr>\n",
              "    <tr>\n",
              "      <th>89</th>\n",
              "      <td>2009</td>\n",
              "      <td>328</td>\n",
              "    </tr>\n",
              "    <tr>\n",
              "      <th>90</th>\n",
              "      <td>2010</td>\n",
              "      <td>295</td>\n",
              "    </tr>\n",
              "    <tr>\n",
              "      <th>91</th>\n",
              "      <td>2011</td>\n",
              "      <td>269</td>\n",
              "    </tr>\n",
              "    <tr>\n",
              "      <th>92</th>\n",
              "      <td>2012</td>\n",
              "      <td>120</td>\n",
              "    </tr>\n",
              "  </tbody>\n",
              "</table>\n",
              "</div>\n",
              "      <button class=\"colab-df-convert\" onclick=\"convertToInteractive('df-551b792e-a0a6-41fc-b337-3be54192704e')\"\n",
              "              title=\"Convert this dataframe to an interactive table.\"\n",
              "              style=\"display:none;\">\n",
              "        \n",
              "  <svg xmlns=\"http://www.w3.org/2000/svg\" height=\"24px\"viewBox=\"0 0 24 24\"\n",
              "       width=\"24px\">\n",
              "    <path d=\"M0 0h24v24H0V0z\" fill=\"none\"/>\n",
              "    <path d=\"M18.56 5.44l.94 2.06.94-2.06 2.06-.94-2.06-.94-.94-2.06-.94 2.06-2.06.94zm-11 1L8.5 8.5l.94-2.06 2.06-.94-2.06-.94L8.5 2.5l-.94 2.06-2.06.94zm10 10l.94 2.06.94-2.06 2.06-.94-2.06-.94-.94-2.06-.94 2.06-2.06.94z\"/><path d=\"M17.41 7.96l-1.37-1.37c-.4-.4-.92-.59-1.43-.59-.52 0-1.04.2-1.43.59L10.3 9.45l-7.72 7.72c-.78.78-.78 2.05 0 2.83L4 21.41c.39.39.9.59 1.41.59.51 0 1.02-.2 1.41-.59l7.78-7.78 2.81-2.81c.8-.78.8-2.07 0-2.86zM5.41 20L4 18.59l7.72-7.72 1.47 1.35L5.41 20z\"/>\n",
              "  </svg>\n",
              "      </button>\n",
              "      \n",
              "  <style>\n",
              "    .colab-df-container {\n",
              "      display:flex;\n",
              "      flex-wrap:wrap;\n",
              "      gap: 12px;\n",
              "    }\n",
              "\n",
              "    .colab-df-convert {\n",
              "      background-color: #E8F0FE;\n",
              "      border: none;\n",
              "      border-radius: 50%;\n",
              "      cursor: pointer;\n",
              "      display: none;\n",
              "      fill: #1967D2;\n",
              "      height: 32px;\n",
              "      padding: 0 0 0 0;\n",
              "      width: 32px;\n",
              "    }\n",
              "\n",
              "    .colab-df-convert:hover {\n",
              "      background-color: #E2EBFA;\n",
              "      box-shadow: 0px 1px 2px rgba(60, 64, 67, 0.3), 0px 1px 3px 1px rgba(60, 64, 67, 0.15);\n",
              "      fill: #174EA6;\n",
              "    }\n",
              "\n",
              "    [theme=dark] .colab-df-convert {\n",
              "      background-color: #3B4455;\n",
              "      fill: #D2E3FC;\n",
              "    }\n",
              "\n",
              "    [theme=dark] .colab-df-convert:hover {\n",
              "      background-color: #434B5C;\n",
              "      box-shadow: 0px 1px 3px 1px rgba(0, 0, 0, 0.15);\n",
              "      filter: drop-shadow(0px 1px 2px rgba(0, 0, 0, 0.3));\n",
              "      fill: #FFFFFF;\n",
              "    }\n",
              "  </style>\n",
              "\n",
              "      <script>\n",
              "        const buttonEl =\n",
              "          document.querySelector('#df-551b792e-a0a6-41fc-b337-3be54192704e button.colab-df-convert');\n",
              "        buttonEl.style.display =\n",
              "          google.colab.kernel.accessAllowed ? 'block' : 'none';\n",
              "\n",
              "        async function convertToInteractive(key) {\n",
              "          const element = document.querySelector('#df-551b792e-a0a6-41fc-b337-3be54192704e');\n",
              "          const dataTable =\n",
              "            await google.colab.kernel.invokeFunction('convertToInteractive',\n",
              "                                                     [key], {});\n",
              "          if (!dataTable) return;\n",
              "\n",
              "          const docLinkHtml = 'Like what you see? Visit the ' +\n",
              "            '<a target=\"_blank\" href=https://colab.research.google.com/notebooks/data_table.ipynb>data table notebook</a>'\n",
              "            + ' to learn more about interactive tables.';\n",
              "          element.innerHTML = '';\n",
              "          dataTable['output_type'] = 'display_data';\n",
              "          await google.colab.output.renderOutput(dataTable, element);\n",
              "          const docLink = document.createElement('div');\n",
              "          docLink.innerHTML = docLinkHtml;\n",
              "          element.appendChild(docLink);\n",
              "        }\n",
              "      </script>\n",
              "    </div>\n",
              "  </div>\n",
              "  "
            ]
          },
          "metadata": {},
          "execution_count": 98
        }
      ]
    },
    {
      "cell_type": "code",
      "source": [
        "print('Recent movies N = ' + str(recent_df[0].sum()))"
      ],
      "metadata": {
        "colab": {
          "base_uri": "https://localhost:8080/"
        },
        "id": "sOWX2YYFwrbK",
        "outputId": "95b1ebfa-c477-47b8-ba23-e3944c13a1b5"
      },
      "execution_count": null,
      "outputs": [
        {
          "output_type": "stream",
          "name": "stdout",
          "text": [
            "Recent movies N = 5719\n"
          ]
        }
      ]
    },
    {
      "cell_type": "markdown",
      "source": [
        "##### *Exploring sample sizes for the top 3 genre: Drama, Comady, Thriller*"
      ],
      "metadata": {
        "id": "mp9DQu7CyEF0"
      }
    },
    {
      "cell_type": "markdown",
      "source": [
        "Checking the sample sizes per key genre could be useful if i want to take a topic modeling approach. Like in Berger & Packard (2018) paper: to get the originality measure, the topic distribution for a specific movie would be compared to an overall topic distribution for the genre it belongs to. This would only make sense, if I would have enough ovies of this genre."
      ],
      "metadata": {
        "id": "dryicyRXuhIe"
      }
    },
    {
      "cell_type": "code",
      "source": [
        "print('Total Drama: ' + str(movie.Drama.sum()))\n",
        "print('Total Comedy: ' + str(movie.Comedy.sum()))\n",
        "print('Total Thriller: ' + str(movie.Thriller.sum()))"
      ],
      "metadata": {
        "colab": {
          "base_uri": "https://localhost:8080/"
        },
        "id": "td0ZquX-yAyN",
        "outputId": "0bce5433-b48a-4574-a658-0c631e735db1"
      },
      "execution_count": null,
      "outputs": [
        {
          "output_type": "stream",
          "name": "stdout",
          "text": [
            "Total Drama: 3901\n",
            "Total Comedy: 2927\n",
            "Total Thriller: 1857\n"
          ]
        }
      ]
    },
    {
      "cell_type": "code",
      "source": [
        "movie_recent = movie[movie.year >=1985]\n",
        "print('From recent sample:')\n",
        "print('Total Drama: ' + str(movie_recent.Drama.sum()))\n",
        "print('Total Comedy: ' + str(movie_recent.Comedy.sum()))\n",
        "print('Total Thriller: ' + str(movie_recent.Thriller.sum()))"
      ],
      "metadata": {
        "colab": {
          "base_uri": "https://localhost:8080/"
        },
        "id": "mTkSvpsRyw6G",
        "outputId": "7547c951-a41f-4a81-e88a-1cdd9afa8ede"
      },
      "execution_count": null,
      "outputs": [
        {
          "output_type": "stream",
          "name": "stdout",
          "text": [
            "From recent sample:\n",
            "Total Drama: 2989\n",
            "Total Comedy: 2388\n",
            "Total Thriller: 1578\n"
          ]
        }
      ]
    },
    {
      "cell_type": "code",
      "source": [
        "movie_training_sample = movie_recent[movie_recent.year < 2009]\n",
        "print('From training sample:')\n",
        "print('Total Drama: ' + str(movie_training_sample.Drama.sum()))\n",
        "print('Total Comedy: ' + str(movie_training_sample.Comedy.sum()))\n",
        "print('Total Thriller: ' + str(movie_training_sample.Thriller.sum()))"
      ],
      "metadata": {
        "colab": {
          "base_uri": "https://localhost:8080/"
        },
        "id": "rg7hEpk5zCOf",
        "outputId": "6d9fd0ff-ba6e-405c-817d-a0c165e7b3f1"
      },
      "execution_count": null,
      "outputs": [
        {
          "output_type": "stream",
          "name": "stdout",
          "text": [
            "From training sample:\n",
            "Total Drama: 2441\n",
            "Total Comedy: 2040\n",
            "Total Thriller: 1290\n"
          ]
        }
      ]
    },
    {
      "cell_type": "code",
      "source": [
        "movie_predict_sample = movie_recent[(movie_recent.year >= 2009)&(movie_recent.year <= 2011)]\n",
        "print('From prediction sample:')\n",
        "print('Total Drama: ' + str(movie_predict_sample.Drama.sum()))\n",
        "print('Total Comedy: ' + str(movie_predict_sample.Comedy.sum()))\n",
        "print('Total Thriller: ' + str(movie_predict_sample.Thriller.sum()))"
      ],
      "metadata": {
        "colab": {
          "base_uri": "https://localhost:8080/"
        },
        "id": "OHUnUKYGzPvK",
        "outputId": "768fd3e6-c468-4828-9274-9a0860f500e7"
      },
      "execution_count": null,
      "outputs": [
        {
          "output_type": "stream",
          "name": "stdout",
          "text": [
            "From prediction sample:\n",
            "Total Drama: 500\n",
            "Total Comedy: 311\n",
            "Total Thriller: 257\n"
          ]
        }
      ]
    },
    {
      "cell_type": "markdown",
      "metadata": {
        "id": "FFYUOPtt_nKK"
      },
      "source": [
        "### **Working with the Text**"
      ]
    },
    {
      "cell_type": "markdown",
      "source": [
        "In this section clean the text before putting it into tfidf. \n",
        "In the following I:\n",
        "1. replace the 4-digit number with the word \"year\". If the year comes up in a plot it probably signals some hostoric event. I would like to preserve this signal, but drop the actual numbers, because they will not fly nicely when turning to tfidf matrix. \n",
        "2. Substitude meaning ful signs with words ($ and %). In the summaries these could be written both as words and as signs (depending on what the author decides), I would like to have them all in word format. \n",
        "3. Clean out puctuation. \n",
        "4. Remove named entities. Yes, named entities could carry some thematic meaning, but they could also do more harm than good. Reasoning: not everything that happens in New York or to a character named Mary has the same plot.\n",
        "5. Conver to lower case.\n",
        "6. Drop stop words.\n",
        "7. Lemmatize. \n",
        "\n",
        "After cleaning I explore a bit (top words and most popular parts of speech). That could give me some indication of what (if anything) I may have messed up during the cleaning. "
      ],
      "metadata": {
        "id": "qVWpRr0Aw68u"
      }
    },
    {
      "cell_type": "code",
      "metadata": {
        "id": "9NA6NNmn_6so"
      },
      "source": [
        "movie = pd.read_csv('/content/drive/MyDrive/movies2012data/movies2012_semi_prep.csv')"
      ],
      "execution_count": null,
      "outputs": []
    },
    {
      "cell_type": "code",
      "metadata": {
        "id": "FPMqXjH7AIh4"
      },
      "source": [
        "movie_sub = movie.drop(columns=['Unnamed: 0','release_date', 'run_time', 'languages', 'countries', 'genres',\n",
        "       'english_lang', 'country_USA', 'Drama', 'Comedy', 'Thriller',\n",
        "       'Romance Film', 'Action', 'Action/Adventure', 'Crime Fiction',\n",
        "       'Adventure', 'Indie', 'Romantic comedy', 'Family Film', 'Horror',\n",
        "       'Romantic drama', 'Fantasy', 'Mystery', 'year']).copy()"
      ],
      "execution_count": null,
      "outputs": []
    },
    {
      "cell_type": "code",
      "metadata": {
        "colab": {
          "base_uri": "https://localhost:8080/",
          "height": 520
        },
        "id": "TIYsPXZ0I2Xn",
        "outputId": "a8421010-7573-4b3a-f43d-815e187e059f"
      },
      "source": [
        "movie_sub.head(15)"
      ],
      "execution_count": null,
      "outputs": [
        {
          "output_type": "execute_result",
          "data": {
            "text/plain": [
              "    wiki_movieID                                            summary  \\\n",
              "0       31186339  The nation of Panem consists of a wealthy Capi...   \n",
              "1        2231378  The Lemon Drop Kid , a New York City swindler,...   \n",
              "2         595909  Seventh-day Adventist Church pastor Michael Ch...   \n",
              "3        1952976  {{plot}} The film opens in 1974, as a young gi...   \n",
              "4       24225279  The story begins with Hannah, a young Jewish t...   \n",
              "5       18188932  Milan and Goran are two criminals who smuggle ...   \n",
              "6        1480747  {{plot}} Following the sudden death of Kid's f...   \n",
              "7         447194  Samson, a Hebrew placed under Nazirite vows fr...   \n",
              "8       12978934  Beth Cappadora  and her husband Pat  experienc...   \n",
              "9        8471210  In 1942, a 10 year old boy named Timmy plays w...   \n",
              "10       1925869  Set in the Northwestern United States in 1875,...   \n",
              "11       5414895  Director John Woo said in an interview with Da...   \n",
              "12      17124781  In the desert wilderness of 1930s Manchuria, T...   \n",
              "13       5425205  Anna Khitrova , a British-Russian midwife at a...   \n",
              "14       6167400  The film is similar in some ways to Seth Micha...   \n",
              "\n",
              "                      movie_name   box_of_rev  \n",
              "0               The Hunger Games  686533290.0  \n",
              "1             The Lemon Drop Kid    2300000.0  \n",
              "2              A Cry in the Dark    6908797.0  \n",
              "3                     Dark Water   49483352.0  \n",
              "4                           Sing    2260616.0  \n",
              "5                    Up and Down    2705163.0  \n",
              "6                  House Party 2   19438638.0  \n",
              "7             Samson and Delilah   11000000.0  \n",
              "8      The Deep End of the Ocean   28121100.0  \n",
              "9                         Pieces    2032311.0  \n",
              "10            River of No Return    5250375.0  \n",
              "11                     Red Cliff  248400000.0  \n",
              "12  The Good, the Bad, the Weird   44261209.0  \n",
              "13              Eastern Promises   17266000.0  \n",
              "14                         Twist      47370.0  "
            ],
            "text/html": [
              "\n",
              "  <div id=\"df-59534c4d-cd8d-47af-a9cb-b840e7886520\">\n",
              "    <div class=\"colab-df-container\">\n",
              "      <div>\n",
              "<style scoped>\n",
              "    .dataframe tbody tr th:only-of-type {\n",
              "        vertical-align: middle;\n",
              "    }\n",
              "\n",
              "    .dataframe tbody tr th {\n",
              "        vertical-align: top;\n",
              "    }\n",
              "\n",
              "    .dataframe thead th {\n",
              "        text-align: right;\n",
              "    }\n",
              "</style>\n",
              "<table border=\"1\" class=\"dataframe\">\n",
              "  <thead>\n",
              "    <tr style=\"text-align: right;\">\n",
              "      <th></th>\n",
              "      <th>wiki_movieID</th>\n",
              "      <th>summary</th>\n",
              "      <th>movie_name</th>\n",
              "      <th>box_of_rev</th>\n",
              "    </tr>\n",
              "  </thead>\n",
              "  <tbody>\n",
              "    <tr>\n",
              "      <th>0</th>\n",
              "      <td>31186339</td>\n",
              "      <td>The nation of Panem consists of a wealthy Capi...</td>\n",
              "      <td>The Hunger Games</td>\n",
              "      <td>686533290.0</td>\n",
              "    </tr>\n",
              "    <tr>\n",
              "      <th>1</th>\n",
              "      <td>2231378</td>\n",
              "      <td>The Lemon Drop Kid , a New York City swindler,...</td>\n",
              "      <td>The Lemon Drop Kid</td>\n",
              "      <td>2300000.0</td>\n",
              "    </tr>\n",
              "    <tr>\n",
              "      <th>2</th>\n",
              "      <td>595909</td>\n",
              "      <td>Seventh-day Adventist Church pastor Michael Ch...</td>\n",
              "      <td>A Cry in the Dark</td>\n",
              "      <td>6908797.0</td>\n",
              "    </tr>\n",
              "    <tr>\n",
              "      <th>3</th>\n",
              "      <td>1952976</td>\n",
              "      <td>{{plot}} The film opens in 1974, as a young gi...</td>\n",
              "      <td>Dark Water</td>\n",
              "      <td>49483352.0</td>\n",
              "    </tr>\n",
              "    <tr>\n",
              "      <th>4</th>\n",
              "      <td>24225279</td>\n",
              "      <td>The story begins with Hannah, a young Jewish t...</td>\n",
              "      <td>Sing</td>\n",
              "      <td>2260616.0</td>\n",
              "    </tr>\n",
              "    <tr>\n",
              "      <th>5</th>\n",
              "      <td>18188932</td>\n",
              "      <td>Milan and Goran are two criminals who smuggle ...</td>\n",
              "      <td>Up and Down</td>\n",
              "      <td>2705163.0</td>\n",
              "    </tr>\n",
              "    <tr>\n",
              "      <th>6</th>\n",
              "      <td>1480747</td>\n",
              "      <td>{{plot}} Following the sudden death of Kid's f...</td>\n",
              "      <td>House Party 2</td>\n",
              "      <td>19438638.0</td>\n",
              "    </tr>\n",
              "    <tr>\n",
              "      <th>7</th>\n",
              "      <td>447194</td>\n",
              "      <td>Samson, a Hebrew placed under Nazirite vows fr...</td>\n",
              "      <td>Samson and Delilah</td>\n",
              "      <td>11000000.0</td>\n",
              "    </tr>\n",
              "    <tr>\n",
              "      <th>8</th>\n",
              "      <td>12978934</td>\n",
              "      <td>Beth Cappadora  and her husband Pat  experienc...</td>\n",
              "      <td>The Deep End of the Ocean</td>\n",
              "      <td>28121100.0</td>\n",
              "    </tr>\n",
              "    <tr>\n",
              "      <th>9</th>\n",
              "      <td>8471210</td>\n",
              "      <td>In 1942, a 10 year old boy named Timmy plays w...</td>\n",
              "      <td>Pieces</td>\n",
              "      <td>2032311.0</td>\n",
              "    </tr>\n",
              "    <tr>\n",
              "      <th>10</th>\n",
              "      <td>1925869</td>\n",
              "      <td>Set in the Northwestern United States in 1875,...</td>\n",
              "      <td>River of No Return</td>\n",
              "      <td>5250375.0</td>\n",
              "    </tr>\n",
              "    <tr>\n",
              "      <th>11</th>\n",
              "      <td>5414895</td>\n",
              "      <td>Director John Woo said in an interview with Da...</td>\n",
              "      <td>Red Cliff</td>\n",
              "      <td>248400000.0</td>\n",
              "    </tr>\n",
              "    <tr>\n",
              "      <th>12</th>\n",
              "      <td>17124781</td>\n",
              "      <td>In the desert wilderness of 1930s Manchuria, T...</td>\n",
              "      <td>The Good, the Bad, the Weird</td>\n",
              "      <td>44261209.0</td>\n",
              "    </tr>\n",
              "    <tr>\n",
              "      <th>13</th>\n",
              "      <td>5425205</td>\n",
              "      <td>Anna Khitrova , a British-Russian midwife at a...</td>\n",
              "      <td>Eastern Promises</td>\n",
              "      <td>17266000.0</td>\n",
              "    </tr>\n",
              "    <tr>\n",
              "      <th>14</th>\n",
              "      <td>6167400</td>\n",
              "      <td>The film is similar in some ways to Seth Micha...</td>\n",
              "      <td>Twist</td>\n",
              "      <td>47370.0</td>\n",
              "    </tr>\n",
              "  </tbody>\n",
              "</table>\n",
              "</div>\n",
              "      <button class=\"colab-df-convert\" onclick=\"convertToInteractive('df-59534c4d-cd8d-47af-a9cb-b840e7886520')\"\n",
              "              title=\"Convert this dataframe to an interactive table.\"\n",
              "              style=\"display:none;\">\n",
              "        \n",
              "  <svg xmlns=\"http://www.w3.org/2000/svg\" height=\"24px\"viewBox=\"0 0 24 24\"\n",
              "       width=\"24px\">\n",
              "    <path d=\"M0 0h24v24H0V0z\" fill=\"none\"/>\n",
              "    <path d=\"M18.56 5.44l.94 2.06.94-2.06 2.06-.94-2.06-.94-.94-2.06-.94 2.06-2.06.94zm-11 1L8.5 8.5l.94-2.06 2.06-.94-2.06-.94L8.5 2.5l-.94 2.06-2.06.94zm10 10l.94 2.06.94-2.06 2.06-.94-2.06-.94-.94-2.06-.94 2.06-2.06.94z\"/><path d=\"M17.41 7.96l-1.37-1.37c-.4-.4-.92-.59-1.43-.59-.52 0-1.04.2-1.43.59L10.3 9.45l-7.72 7.72c-.78.78-.78 2.05 0 2.83L4 21.41c.39.39.9.59 1.41.59.51 0 1.02-.2 1.41-.59l7.78-7.78 2.81-2.81c.8-.78.8-2.07 0-2.86zM5.41 20L4 18.59l7.72-7.72 1.47 1.35L5.41 20z\"/>\n",
              "  </svg>\n",
              "      </button>\n",
              "      \n",
              "  <style>\n",
              "    .colab-df-container {\n",
              "      display:flex;\n",
              "      flex-wrap:wrap;\n",
              "      gap: 12px;\n",
              "    }\n",
              "\n",
              "    .colab-df-convert {\n",
              "      background-color: #E8F0FE;\n",
              "      border: none;\n",
              "      border-radius: 50%;\n",
              "      cursor: pointer;\n",
              "      display: none;\n",
              "      fill: #1967D2;\n",
              "      height: 32px;\n",
              "      padding: 0 0 0 0;\n",
              "      width: 32px;\n",
              "    }\n",
              "\n",
              "    .colab-df-convert:hover {\n",
              "      background-color: #E2EBFA;\n",
              "      box-shadow: 0px 1px 2px rgba(60, 64, 67, 0.3), 0px 1px 3px 1px rgba(60, 64, 67, 0.15);\n",
              "      fill: #174EA6;\n",
              "    }\n",
              "\n",
              "    [theme=dark] .colab-df-convert {\n",
              "      background-color: #3B4455;\n",
              "      fill: #D2E3FC;\n",
              "    }\n",
              "\n",
              "    [theme=dark] .colab-df-convert:hover {\n",
              "      background-color: #434B5C;\n",
              "      box-shadow: 0px 1px 3px 1px rgba(0, 0, 0, 0.15);\n",
              "      filter: drop-shadow(0px 1px 2px rgba(0, 0, 0, 0.3));\n",
              "      fill: #FFFFFF;\n",
              "    }\n",
              "  </style>\n",
              "\n",
              "      <script>\n",
              "        const buttonEl =\n",
              "          document.querySelector('#df-59534c4d-cd8d-47af-a9cb-b840e7886520 button.colab-df-convert');\n",
              "        buttonEl.style.display =\n",
              "          google.colab.kernel.accessAllowed ? 'block' : 'none';\n",
              "\n",
              "        async function convertToInteractive(key) {\n",
              "          const element = document.querySelector('#df-59534c4d-cd8d-47af-a9cb-b840e7886520');\n",
              "          const dataTable =\n",
              "            await google.colab.kernel.invokeFunction('convertToInteractive',\n",
              "                                                     [key], {});\n",
              "          if (!dataTable) return;\n",
              "\n",
              "          const docLinkHtml = 'Like what you see? Visit the ' +\n",
              "            '<a target=\"_blank\" href=https://colab.research.google.com/notebooks/data_table.ipynb>data table notebook</a>'\n",
              "            + ' to learn more about interactive tables.';\n",
              "          element.innerHTML = '';\n",
              "          dataTable['output_type'] = 'display_data';\n",
              "          await google.colab.output.renderOutput(dataTable, element);\n",
              "          const docLink = document.createElement('div');\n",
              "          docLink.innerHTML = docLinkHtml;\n",
              "          element.appendChild(docLink);\n",
              "        }\n",
              "      </script>\n",
              "    </div>\n",
              "  </div>\n",
              "  "
            ]
          },
          "metadata": {},
          "execution_count": 103
        }
      ]
    },
    {
      "cell_type": "markdown",
      "metadata": {
        "id": "Q7ItZrwPJRcg"
      },
      "source": [
        "**1. Replace year number with a year**"
      ]
    },
    {
      "cell_type": "code",
      "metadata": {
        "id": "sVfJc6W_JMkn"
      },
      "source": [
        "movie_sub.summary = movie_sub.summary.str.replace('\\d{4}', 'year')"
      ],
      "execution_count": null,
      "outputs": []
    },
    {
      "cell_type": "code",
      "metadata": {
        "colab": {
          "base_uri": "https://localhost:8080/",
          "height": 520
        },
        "id": "wIJ3Y6MrJiM9",
        "outputId": "860f06fa-c462-420a-afca-7e962b27ef12"
      },
      "source": [
        "movie_sub.head(15)"
      ],
      "execution_count": null,
      "outputs": [
        {
          "output_type": "execute_result",
          "data": {
            "text/html": [
              "<div>\n",
              "<style scoped>\n",
              "    .dataframe tbody tr th:only-of-type {\n",
              "        vertical-align: middle;\n",
              "    }\n",
              "\n",
              "    .dataframe tbody tr th {\n",
              "        vertical-align: top;\n",
              "    }\n",
              "\n",
              "    .dataframe thead th {\n",
              "        text-align: right;\n",
              "    }\n",
              "</style>\n",
              "<table border=\"1\" class=\"dataframe\">\n",
              "  <thead>\n",
              "    <tr style=\"text-align: right;\">\n",
              "      <th></th>\n",
              "      <th>wiki_movieID</th>\n",
              "      <th>summary</th>\n",
              "      <th>movie_name</th>\n",
              "      <th>box_of_rev</th>\n",
              "    </tr>\n",
              "  </thead>\n",
              "  <tbody>\n",
              "    <tr>\n",
              "      <th>0</th>\n",
              "      <td>31186339</td>\n",
              "      <td>The nation of Panem consists of a wealthy Capi...</td>\n",
              "      <td>The Hunger Games</td>\n",
              "      <td>686533290.0</td>\n",
              "    </tr>\n",
              "    <tr>\n",
              "      <th>1</th>\n",
              "      <td>2231378</td>\n",
              "      <td>The Lemon Drop Kid , a New York City swindler,...</td>\n",
              "      <td>The Lemon Drop Kid</td>\n",
              "      <td>2300000.0</td>\n",
              "    </tr>\n",
              "    <tr>\n",
              "      <th>2</th>\n",
              "      <td>595909</td>\n",
              "      <td>Seventh-day Adventist Church pastor Michael Ch...</td>\n",
              "      <td>A Cry in the Dark</td>\n",
              "      <td>6908797.0</td>\n",
              "    </tr>\n",
              "    <tr>\n",
              "      <th>3</th>\n",
              "      <td>1952976</td>\n",
              "      <td>{{plot}} The film opens in year, as a young gi...</td>\n",
              "      <td>Dark Water</td>\n",
              "      <td>49483352.0</td>\n",
              "    </tr>\n",
              "    <tr>\n",
              "      <th>4</th>\n",
              "      <td>24225279</td>\n",
              "      <td>The story begins with Hannah, a young Jewish t...</td>\n",
              "      <td>Sing</td>\n",
              "      <td>2260616.0</td>\n",
              "    </tr>\n",
              "    <tr>\n",
              "      <th>5</th>\n",
              "      <td>18188932</td>\n",
              "      <td>Milan and Goran are two criminals who smuggle ...</td>\n",
              "      <td>Up and Down</td>\n",
              "      <td>2705163.0</td>\n",
              "    </tr>\n",
              "    <tr>\n",
              "      <th>6</th>\n",
              "      <td>1480747</td>\n",
              "      <td>{{plot}} Following the sudden death of Kid's f...</td>\n",
              "      <td>House Party 2</td>\n",
              "      <td>19438638.0</td>\n",
              "    </tr>\n",
              "    <tr>\n",
              "      <th>7</th>\n",
              "      <td>447194</td>\n",
              "      <td>Samson, a Hebrew placed under Nazirite vows fr...</td>\n",
              "      <td>Samson and Delilah</td>\n",
              "      <td>11000000.0</td>\n",
              "    </tr>\n",
              "    <tr>\n",
              "      <th>8</th>\n",
              "      <td>12978934</td>\n",
              "      <td>Beth Cappadora  and her husband Pat  experienc...</td>\n",
              "      <td>The Deep End of the Ocean</td>\n",
              "      <td>28121100.0</td>\n",
              "    </tr>\n",
              "    <tr>\n",
              "      <th>9</th>\n",
              "      <td>8471210</td>\n",
              "      <td>In year, a 10 year old boy named Timmy plays w...</td>\n",
              "      <td>Pieces</td>\n",
              "      <td>2032311.0</td>\n",
              "    </tr>\n",
              "    <tr>\n",
              "      <th>10</th>\n",
              "      <td>1925869</td>\n",
              "      <td>Set in the Northwestern United States in year,...</td>\n",
              "      <td>River of No Return</td>\n",
              "      <td>5250375.0</td>\n",
              "    </tr>\n",
              "    <tr>\n",
              "      <th>11</th>\n",
              "      <td>5414895</td>\n",
              "      <td>Director John Woo said in an interview with Da...</td>\n",
              "      <td>Red Cliff</td>\n",
              "      <td>248400000.0</td>\n",
              "    </tr>\n",
              "    <tr>\n",
              "      <th>12</th>\n",
              "      <td>17124781</td>\n",
              "      <td>In the desert wilderness of years Manchuria, T...</td>\n",
              "      <td>The Good, the Bad, the Weird</td>\n",
              "      <td>44261209.0</td>\n",
              "    </tr>\n",
              "    <tr>\n",
              "      <th>13</th>\n",
              "      <td>5425205</td>\n",
              "      <td>Anna Khitrova , a British-Russian midwife at a...</td>\n",
              "      <td>Eastern Promises</td>\n",
              "      <td>17266000.0</td>\n",
              "    </tr>\n",
              "    <tr>\n",
              "      <th>14</th>\n",
              "      <td>6167400</td>\n",
              "      <td>The film is similar in some ways to Seth Micha...</td>\n",
              "      <td>Twist</td>\n",
              "      <td>47370.0</td>\n",
              "    </tr>\n",
              "  </tbody>\n",
              "</table>\n",
              "</div>"
            ],
            "text/plain": [
              "    wiki_movieID  ...   box_of_rev\n",
              "0       31186339  ...  686533290.0\n",
              "1        2231378  ...    2300000.0\n",
              "2         595909  ...    6908797.0\n",
              "3        1952976  ...   49483352.0\n",
              "4       24225279  ...    2260616.0\n",
              "5       18188932  ...    2705163.0\n",
              "6        1480747  ...   19438638.0\n",
              "7         447194  ...   11000000.0\n",
              "8       12978934  ...   28121100.0\n",
              "9        8471210  ...    2032311.0\n",
              "10       1925869  ...    5250375.0\n",
              "11       5414895  ...  248400000.0\n",
              "12      17124781  ...   44261209.0\n",
              "13       5425205  ...   17266000.0\n",
              "14       6167400  ...      47370.0\n",
              "\n",
              "[15 rows x 4 columns]"
            ]
          },
          "metadata": {},
          "execution_count": 156
        }
      ]
    },
    {
      "cell_type": "markdown",
      "metadata": {
        "id": "h7s6jSilMBzw"
      },
      "source": [
        "**2. Substitute meaningful signs with words**"
      ]
    },
    {
      "cell_type": "code",
      "metadata": {
        "id": "_wPOC_B4K45_"
      },
      "source": [
        "movie_sub.summary = movie_sub.summary.str.replace('\\$', 'dollar ')"
      ],
      "execution_count": null,
      "outputs": []
    },
    {
      "cell_type": "code",
      "metadata": {
        "id": "I7YkVd8ULzU_"
      },
      "source": [
        "movie_sub.summary = movie_sub.summary.str.replace('%', ' percent')"
      ],
      "execution_count": null,
      "outputs": []
    },
    {
      "cell_type": "markdown",
      "metadata": {
        "id": "Sgxn5A5NMWvP"
      },
      "source": [
        "**3. Punctuation and digits**"
      ]
    },
    {
      "cell_type": "code",
      "metadata": {
        "id": "Pj5YVtDBMFgL"
      },
      "source": [
        "repl_w_space = '[-/]' #replacing - and / with space\n",
        "relp_wo_space = '(\\.)|(\\;)|(\\:)|(\\!)|(\\')|(\\?)|(\\,)|(\\\")|(\\|)|(\\()|(\\))|(\\[)|(\\])|(\\>)|(\\<)|(\\{)|(\\})|(—)|(“)|(”)|(&)|(’)|(\\*)' #replacing all other characters with nothing"
      ],
      "execution_count": null,
      "outputs": []
    },
    {
      "cell_type": "code",
      "metadata": {
        "id": "pkWF_eFNMh5M"
      },
      "source": [
        "movie_sub.summary = movie_sub.summary.str.replace(repl_w_space, ' ')\n",
        "movie_sub.summary = movie_sub.summary.str.replace(relp_wo_space, '')"
      ],
      "execution_count": null,
      "outputs": []
    },
    {
      "cell_type": "code",
      "metadata": {
        "id": "2Tq2xP_jPK5v"
      },
      "source": [
        "movie_sub.summary = movie_sub.summary.str.replace('\\d+', '')"
      ],
      "execution_count": null,
      "outputs": []
    },
    {
      "cell_type": "code",
      "metadata": {
        "colab": {
          "base_uri": "https://localhost:8080/",
          "height": 206
        },
        "id": "VKl9Kt_q0ugk",
        "outputId": "b8e5631e-3f77-47fe-ae4f-34da830afb1d"
      },
      "source": [
        "movie_sub.head()"
      ],
      "execution_count": null,
      "outputs": [
        {
          "output_type": "execute_result",
          "data": {
            "text/html": [
              "<div>\n",
              "<style scoped>\n",
              "    .dataframe tbody tr th:only-of-type {\n",
              "        vertical-align: middle;\n",
              "    }\n",
              "\n",
              "    .dataframe tbody tr th {\n",
              "        vertical-align: top;\n",
              "    }\n",
              "\n",
              "    .dataframe thead th {\n",
              "        text-align: right;\n",
              "    }\n",
              "</style>\n",
              "<table border=\"1\" class=\"dataframe\">\n",
              "  <thead>\n",
              "    <tr style=\"text-align: right;\">\n",
              "      <th></th>\n",
              "      <th>wiki_movieID</th>\n",
              "      <th>summary</th>\n",
              "      <th>movie_name</th>\n",
              "      <th>box_of_rev</th>\n",
              "    </tr>\n",
              "  </thead>\n",
              "  <tbody>\n",
              "    <tr>\n",
              "      <th>0</th>\n",
              "      <td>31186339</td>\n",
              "      <td>The nation of Panem consists of a wealthy Capi...</td>\n",
              "      <td>The Hunger Games</td>\n",
              "      <td>686533290.0</td>\n",
              "    </tr>\n",
              "    <tr>\n",
              "      <th>1</th>\n",
              "      <td>2231378</td>\n",
              "      <td>The Lemon Drop Kid  a New York City swindler i...</td>\n",
              "      <td>The Lemon Drop Kid</td>\n",
              "      <td>2300000.0</td>\n",
              "    </tr>\n",
              "    <tr>\n",
              "      <th>2</th>\n",
              "      <td>595909</td>\n",
              "      <td>Seventh day Adventist Church pastor Michael Ch...</td>\n",
              "      <td>A Cry in the Dark</td>\n",
              "      <td>6908797.0</td>\n",
              "    </tr>\n",
              "    <tr>\n",
              "      <th>3</th>\n",
              "      <td>1952976</td>\n",
              "      <td>plot The film opens in year as a young girl Da...</td>\n",
              "      <td>Dark Water</td>\n",
              "      <td>49483352.0</td>\n",
              "    </tr>\n",
              "    <tr>\n",
              "      <th>4</th>\n",
              "      <td>24225279</td>\n",
              "      <td>The story begins with Hannah a young Jewish te...</td>\n",
              "      <td>Sing</td>\n",
              "      <td>2260616.0</td>\n",
              "    </tr>\n",
              "  </tbody>\n",
              "</table>\n",
              "</div>"
            ],
            "text/plain": [
              "   wiki_movieID  ...   box_of_rev\n",
              "0      31186339  ...  686533290.0\n",
              "1       2231378  ...    2300000.0\n",
              "2        595909  ...    6908797.0\n",
              "3       1952976  ...   49483352.0\n",
              "4      24225279  ...    2260616.0\n",
              "\n",
              "[5 rows x 4 columns]"
            ]
          },
          "metadata": {},
          "execution_count": 162
        }
      ]
    },
    {
      "cell_type": "markdown",
      "metadata": {
        "id": "h527xt6V6uUh"
      },
      "source": [
        "**4. Removing Named Entities** (incl. human names)"
      ]
    },
    {
      "cell_type": "markdown",
      "metadata": {
        "id": "xBrl2o8SBnE8"
      },
      "source": [
        "This has to come after the punctuation is removed, otherwise it crashes. \n",
        "Converting to lower case should come after this step, because the procedure is case-sensitive. Takes about 10 minutes.\n",
        "Here just used the first that I found; an alternative is to use POS from nltk. "
      ]
    },
    {
      "cell_type": "code",
      "metadata": {
        "id": "TJGsio7j61tl"
      },
      "source": [
        "nlp = spacy.load('en_core_web_sm')\n"
      ],
      "execution_count": null,
      "outputs": []
    },
    {
      "cell_type": "code",
      "metadata": {
        "id": "2QwLuO558A-D"
      },
      "source": [
        "no_entity_summary = []\n",
        "for summary in movie_sub.summary:\n",
        "  document = nlp(summary)\n",
        "  entities = document.ents #get named entities tuple from the summary\n",
        "  entities_list = []\n",
        "  for entity in entities:\n",
        "    entities_list.append(str(entity)) # neet to conver spacy.tokens.span.Span to string\n",
        "  summary_new = summary\n",
        "  if len(entities_list) == 0:\n",
        "    no_entity_summary.append(summary_new)\n",
        "\n",
        "  else:\n",
        "    try:\n",
        "      for str_entity in entities_list: #take each found entity\n",
        "        summary_new = re.sub(str_entity, '', summary_new) #and substitude with nothing in the text\n",
        "      no_entity_summary.append(summary_new)  #attach new text to a list\n",
        "    except: # to skip over the error\n",
        "      print('error at ' + str(len(no_entity_summary))) #it will tell you where the error is, so you can inspect\n",
        "      no_entity_summary.append(summary) #attaches original text to the list, since it could not be processed\n"
      ],
      "execution_count": null,
      "outputs": []
    },
    {
      "cell_type": "code",
      "metadata": {
        "id": "j_5ks1wdNXx9"
      },
      "source": [
        "movie_sub['summary_noname'] = no_entity_summary"
      ],
      "execution_count": null,
      "outputs": []
    },
    {
      "cell_type": "code",
      "metadata": {
        "colab": {
          "base_uri": "https://localhost:8080/",
          "height": 206
        },
        "id": "834t2oCYNd9n",
        "outputId": "cf14a340-e340-4662-a425-0caa73de70f8"
      },
      "source": [
        "movie_sub.head()"
      ],
      "execution_count": null,
      "outputs": [
        {
          "output_type": "execute_result",
          "data": {
            "text/html": [
              "<div>\n",
              "<style scoped>\n",
              "    .dataframe tbody tr th:only-of-type {\n",
              "        vertical-align: middle;\n",
              "    }\n",
              "\n",
              "    .dataframe tbody tr th {\n",
              "        vertical-align: top;\n",
              "    }\n",
              "\n",
              "    .dataframe thead th {\n",
              "        text-align: right;\n",
              "    }\n",
              "</style>\n",
              "<table border=\"1\" class=\"dataframe\">\n",
              "  <thead>\n",
              "    <tr style=\"text-align: right;\">\n",
              "      <th></th>\n",
              "      <th>wiki_movieID</th>\n",
              "      <th>summary</th>\n",
              "      <th>movie_name</th>\n",
              "      <th>box_of_rev</th>\n",
              "      <th>summary_noname</th>\n",
              "    </tr>\n",
              "  </thead>\n",
              "  <tbody>\n",
              "    <tr>\n",
              "      <th>0</th>\n",
              "      <td>31186339</td>\n",
              "      <td>The nation of Panem consists of a wealthy Capi...</td>\n",
              "      <td>The Hunger Games</td>\n",
              "      <td>686533290.0</td>\n",
              "      <td>The nation of  consists of a wealthy  and  poo...</td>\n",
              "    </tr>\n",
              "    <tr>\n",
              "      <th>1</th>\n",
              "      <td>2231378</td>\n",
              "      <td>The Lemon Drop Kid  a New York City swindler i...</td>\n",
              "      <td>The Lemon Drop Kid</td>\n",
              "      <td>2300000.0</td>\n",
              "      <td>The Lemon Drop   a  swindler is illegally tout...</td>\n",
              "    </tr>\n",
              "    <tr>\n",
              "      <th>2</th>\n",
              "      <td>595909</td>\n",
              "      <td>Seventh day Adventist Church pastor Michael Ch...</td>\n",
              "      <td>A Cry in the Dark</td>\n",
              "      <td>6908797.0</td>\n",
              "      <td>pastor  his wife  their  sons and their  dau...</td>\n",
              "    </tr>\n",
              "    <tr>\n",
              "      <th>3</th>\n",
              "      <td>1952976</td>\n",
              "      <td>plot The film opens in year as a young girl Da...</td>\n",
              "      <td>Dark Water</td>\n",
              "      <td>49483352.0</td>\n",
              "      <td>plot The film opens in  as a young girl  stand...</td>\n",
              "    </tr>\n",
              "    <tr>\n",
              "      <th>4</th>\n",
              "      <td>24225279</td>\n",
              "      <td>The story begins with Hannah a young Jewish te...</td>\n",
              "      <td>Sing</td>\n",
              "      <td>2260616.0</td>\n",
              "      <td>The story begins with  a young  teen as she is...</td>\n",
              "    </tr>\n",
              "  </tbody>\n",
              "</table>\n",
              "</div>"
            ],
            "text/plain": [
              "   wiki_movieID  ...                                     summary_noname\n",
              "0      31186339  ...  The nation of  consists of a wealthy  and  poo...\n",
              "1       2231378  ...  The Lemon Drop   a  swindler is illegally tout...\n",
              "2        595909  ...    pastor  his wife  their  sons and their  dau...\n",
              "3       1952976  ...  plot The film opens in  as a young girl  stand...\n",
              "4      24225279  ...  The story begins with  a young  teen as she is...\n",
              "\n",
              "[5 rows x 5 columns]"
            ]
          },
          "metadata": {},
          "execution_count": 167
        }
      ]
    },
    {
      "cell_type": "markdown",
      "metadata": {
        "id": "itjqmPmNSiu-"
      },
      "source": [
        "**5. Lower case**"
      ]
    },
    {
      "cell_type": "code",
      "metadata": {
        "id": "aRUbUOSbSlfj"
      },
      "source": [
        "movie_sub.summary_noname = movie_sub.summary_noname.map(lambda x: x.lower())"
      ],
      "execution_count": null,
      "outputs": []
    },
    {
      "cell_type": "markdown",
      "metadata": {
        "id": "ox5nLY3CVTpT"
      },
      "source": [
        "**7.Removing Stop Words**"
      ]
    },
    {
      "cell_type": "markdown",
      "metadata": {
        "id": "2N7wAbabLzhe"
      },
      "source": [
        "Uses punctuation, and works with lower case text. But I needed to remove punctuation and keep case information for named entities. Therefore, will clean out punctuation from the stop word list in the same way I did from the main text. An altenrative is to start with stop words earlier and use *.casefold()* on words for matching (it ignores the case). "
      ]
    },
    {
      "cell_type": "code",
      "metadata": {
        "colab": {
          "base_uri": "https://localhost:8080/"
        },
        "id": "sppvP7VAVS_C",
        "outputId": "59d0bb12-492a-4c46-f2a7-db98d3e9b4a0"
      },
      "source": [
        "nltk.download('stopwords')"
      ],
      "execution_count": null,
      "outputs": [
        {
          "output_type": "stream",
          "name": "stdout",
          "text": [
            "[nltk_data] Downloading package stopwords to /root/nltk_data...\n",
            "[nltk_data]   Unzipping corpora/stopwords.zip.\n"
          ]
        },
        {
          "output_type": "execute_result",
          "data": {
            "text/plain": [
              "True"
            ]
          },
          "metadata": {},
          "execution_count": 5
        }
      ]
    },
    {
      "cell_type": "code",
      "metadata": {
        "id": "Ftnemg22Vdoq"
      },
      "source": [
        "from nltk.corpus import stopwords"
      ],
      "execution_count": null,
      "outputs": []
    },
    {
      "cell_type": "code",
      "metadata": {
        "colab": {
          "base_uri": "https://localhost:8080/"
        },
        "id": "jX8ggnB2Vi3V",
        "outputId": "f233f3f5-ab47-482e-9545-ee20a0d9bacb"
      },
      "source": [
        "stop_en = stopwords.words('english')\n",
        "print(stop_en)"
      ],
      "execution_count": null,
      "outputs": [
        {
          "output_type": "stream",
          "name": "stdout",
          "text": [
            "['i', 'me', 'my', 'myself', 'we', 'our', 'ours', 'ourselves', 'you', \"you're\", \"you've\", \"you'll\", \"you'd\", 'your', 'yours', 'yourself', 'yourselves', 'he', 'him', 'his', 'himself', 'she', \"she's\", 'her', 'hers', 'herself', 'it', \"it's\", 'its', 'itself', 'they', 'them', 'their', 'theirs', 'themselves', 'what', 'which', 'who', 'whom', 'this', 'that', \"that'll\", 'these', 'those', 'am', 'is', 'are', 'was', 'were', 'be', 'been', 'being', 'have', 'has', 'had', 'having', 'do', 'does', 'did', 'doing', 'a', 'an', 'the', 'and', 'but', 'if', 'or', 'because', 'as', 'until', 'while', 'of', 'at', 'by', 'for', 'with', 'about', 'against', 'between', 'into', 'through', 'during', 'before', 'after', 'above', 'below', 'to', 'from', 'up', 'down', 'in', 'out', 'on', 'off', 'over', 'under', 'again', 'further', 'then', 'once', 'here', 'there', 'when', 'where', 'why', 'how', 'all', 'any', 'both', 'each', 'few', 'more', 'most', 'other', 'some', 'such', 'no', 'nor', 'not', 'only', 'own', 'same', 'so', 'than', 'too', 'very', 's', 't', 'can', 'will', 'just', 'don', \"don't\", 'should', \"should've\", 'now', 'd', 'll', 'm', 'o', 're', 've', 'y', 'ain', 'aren', \"aren't\", 'couldn', \"couldn't\", 'didn', \"didn't\", 'doesn', \"doesn't\", 'hadn', \"hadn't\", 'hasn', \"hasn't\", 'haven', \"haven't\", 'isn', \"isn't\", 'ma', 'mightn', \"mightn't\", 'mustn', \"mustn't\", 'needn', \"needn't\", 'shan', \"shan't\", 'shouldn', \"shouldn't\", 'wasn', \"wasn't\", 'weren', \"weren't\", 'won', \"won't\", 'wouldn', \"wouldn't\"]\n"
          ]
        }
      ]
    },
    {
      "cell_type": "code",
      "metadata": {
        "id": "G-A39pnqNwUB"
      },
      "source": [
        "relp_wo_space = '(\\.)|(\\;)|(\\:)|(\\!)|(\\')|(\\?)|(\\,)|(\\\")|(\\|)|(\\()|(\\))|(\\[)|(\\])|(\\>)|(\\<)|(\\{)|(\\})|(—)|(“)|(”)|(&)|(’)|(\\*)' #replacing all other characters with nothing"
      ],
      "execution_count": null,
      "outputs": []
    },
    {
      "cell_type": "code",
      "metadata": {
        "id": "JWPHwOFvN3pK"
      },
      "source": [
        "stop_en2 = []\n",
        "for stop in stop_en:\n",
        "  stop2 = re.sub(relp_wo_space, '', stop)\n",
        "  stop_en2.append(stop2)\n"
      ],
      "execution_count": null,
      "outputs": []
    },
    {
      "cell_type": "code",
      "metadata": {
        "colab": {
          "base_uri": "https://localhost:8080/"
        },
        "id": "rFYw6CgxOPKF",
        "outputId": "611711f0-628f-4b54-b12f-4399ae330014"
      },
      "source": [
        "print(stop_en2)"
      ],
      "execution_count": null,
      "outputs": [
        {
          "output_type": "stream",
          "name": "stdout",
          "text": [
            "['i', 'me', 'my', 'myself', 'we', 'our', 'ours', 'ourselves', 'you', 'youre', 'youve', 'youll', 'youd', 'your', 'yours', 'yourself', 'yourselves', 'he', 'him', 'his', 'himself', 'she', 'shes', 'her', 'hers', 'herself', 'it', 'its', 'its', 'itself', 'they', 'them', 'their', 'theirs', 'themselves', 'what', 'which', 'who', 'whom', 'this', 'that', 'thatll', 'these', 'those', 'am', 'is', 'are', 'was', 'were', 'be', 'been', 'being', 'have', 'has', 'had', 'having', 'do', 'does', 'did', 'doing', 'a', 'an', 'the', 'and', 'but', 'if', 'or', 'because', 'as', 'until', 'while', 'of', 'at', 'by', 'for', 'with', 'about', 'against', 'between', 'into', 'through', 'during', 'before', 'after', 'above', 'below', 'to', 'from', 'up', 'down', 'in', 'out', 'on', 'off', 'over', 'under', 'again', 'further', 'then', 'once', 'here', 'there', 'when', 'where', 'why', 'how', 'all', 'any', 'both', 'each', 'few', 'more', 'most', 'other', 'some', 'such', 'no', 'nor', 'not', 'only', 'own', 'same', 'so', 'than', 'too', 'very', 's', 't', 'can', 'will', 'just', 'don', 'dont', 'should', 'shouldve', 'now', 'd', 'll', 'm', 'o', 're', 've', 'y', 'ain', 'aren', 'arent', 'couldn', 'couldnt', 'didn', 'didnt', 'doesn', 'doesnt', 'hadn', 'hadnt', 'hasn', 'hasnt', 'haven', 'havent', 'isn', 'isnt', 'ma', 'mightn', 'mightnt', 'mustn', 'mustnt', 'needn', 'neednt', 'shan', 'shant', 'shouldn', 'shouldnt', 'wasn', 'wasnt', 'weren', 'werent', 'won', 'wont', 'wouldn', 'wouldnt']\n"
          ]
        }
      ]
    },
    {
      "cell_type": "code",
      "metadata": {
        "id": "B-FF_6GUz_ON"
      },
      "source": [
        "stop_en2 = stop_en2 + ['plot']"
      ],
      "execution_count": null,
      "outputs": []
    },
    {
      "cell_type": "code",
      "metadata": {
        "colab": {
          "base_uri": "https://localhost:8080/",
          "height": 71
        },
        "id": "euj10EF4WK7P",
        "outputId": "8005cddb-efaf-45a6-fe82-0961a7ec79e9"
      },
      "source": [
        "for stop in stop_en2:\n",
        "  movie_sub.summary_noname = movie_sub.summary_noname.replace(to_replace=r'\\b%s\\b'%stop, value='', regex = True)\n",
        "\n",
        "movie_sub.summary[5]"
      ],
      "execution_count": null,
      "outputs": [
        {
          "output_type": "execute_result",
          "data": {
            "application/vnd.google.colaboratory.intrinsic+json": {
              "type": "string"
            },
            "text/plain": [
              "'Milan  Goran  two criminals  smuggle illegal immigrants One night   complete  smuggle  discover  one   immigrants  left  baby behind Milan  Goran decide  sell  baby  Lubos  Eman   responsible  running  illegal baby adoption center Lubos  Eman make attempts  sell  baby  Miluska  Frantisek  barren couple Concurrently  university professor  diagnosed   inoperable brain tumor setting  action  complicated train  family reunions partings  conflicts'"
            ]
          },
          "metadata": {},
          "execution_count": 179
        }
      ]
    },
    {
      "cell_type": "code",
      "metadata": {
        "colab": {
          "base_uri": "https://localhost:8080/",
          "height": 54
        },
        "id": "z-xUmZXeOodX",
        "outputId": "580f60fb-2007-40c4-9892-f7328a547723"
      },
      "source": [
        "movie_sub.summary_noname[5]"
      ],
      "execution_count": null,
      "outputs": [
        {
          "output_type": "execute_result",
          "data": {
            "application/vnd.google.colaboratory.intrinsic+json": {
              "type": "string"
            },
            "text/plain": [
              "'     criminals  smuggle illegal immigrants    complete  smuggle  discover     immigrants  left  baby behind    decide  sell  baby       responsible  running  illegal baby adoption center    make attempts  sell  baby      barren couple concurrently  university professor  diagnosed   inoperable brain tumor setting  action  complicated train  family reunions partings  conflicts'"
            ]
          },
          "metadata": {},
          "execution_count": 180
        }
      ]
    },
    {
      "cell_type": "code",
      "metadata": {
        "id": "KNodV7D0PEAE"
      },
      "source": [
        "movie_sub.summary_noname = movie_sub.summary_noname.str.replace('\\s+', ' ') #substitute multiple white spaces with just one"
      ],
      "execution_count": null,
      "outputs": []
    },
    {
      "cell_type": "code",
      "metadata": {
        "colab": {
          "base_uri": "https://localhost:8080/",
          "height": 54
        },
        "id": "ZQgfmm1oPN5o",
        "outputId": "b7ab34ed-80cc-4611-f058-c97a0e1f1eea"
      },
      "source": [
        "movie_sub.summary_noname[5]"
      ],
      "execution_count": null,
      "outputs": [
        {
          "output_type": "execute_result",
          "data": {
            "application/vnd.google.colaboratory.intrinsic+json": {
              "type": "string"
            },
            "text/plain": [
              "'criminals smuggle illegal immigrants complete smuggle discover immigrants left baby behind decide sell baby responsible running illegal baby adoption center make attempts sell baby barren couple concurrently university professor diagnosed inoperable brain tumor setting action complicated train family reunions partings conflicts'"
            ]
          },
          "metadata": {},
          "execution_count": 184
        }
      ]
    },
    {
      "cell_type": "markdown",
      "metadata": {
        "id": "EUefX62QT2bF"
      },
      "source": [
        "**7. Lemmatize**"
      ]
    },
    {
      "cell_type": "code",
      "metadata": {
        "colab": {
          "base_uri": "https://localhost:8080/"
        },
        "id": "QxvQdti9U2Ds",
        "outputId": "bc351a94-7c15-4909-ee50-e250b5416520"
      },
      "source": [
        "wnl = nltk.WordNetLemmatizer()\n",
        "nltk.download('wordnet')"
      ],
      "execution_count": null,
      "outputs": [
        {
          "output_type": "stream",
          "name": "stdout",
          "text": [
            "[nltk_data] Downloading package wordnet to /root/nltk_data...\n",
            "[nltk_data]   Package wordnet is already up-to-date!\n"
          ]
        },
        {
          "output_type": "execute_result",
          "data": {
            "text/plain": [
              "True"
            ]
          },
          "metadata": {},
          "execution_count": 8
        }
      ]
    },
    {
      "cell_type": "code",
      "metadata": {
        "colab": {
          "base_uri": "https://localhost:8080/"
        },
        "id": "JiVHmEj2XWtV",
        "outputId": "e6765ae5-95ee-469e-c249-9905d34b9b36"
      },
      "source": [
        "from nltk.tokenize import word_tokenize\n",
        "nltk.download('punkt')"
      ],
      "execution_count": null,
      "outputs": [
        {
          "output_type": "stream",
          "name": "stdout",
          "text": [
            "[nltk_data] Downloading package punkt to /root/nltk_data...\n",
            "[nltk_data]   Package punkt is already up-to-date!\n"
          ]
        },
        {
          "output_type": "execute_result",
          "data": {
            "text/plain": [
              "True"
            ]
          },
          "metadata": {},
          "execution_count": 9
        }
      ]
    },
    {
      "cell_type": "code",
      "metadata": {
        "id": "-vHhS_9HXbji"
      },
      "source": [
        "lemmatized_texts = []\n",
        "for text in movie_sub.summary_noname: #take a text\n",
        "  tokenized_words = word_tokenize(text) #split it into a list of words\n",
        "  lemmatized_words = [] #empty list for new words\n",
        "  for word in tokenized_words:#for each othe these words\n",
        "    lem_word = wnl.lemmatize(word)#create a lemma\n",
        "    lemmatized_words.append(lem_word) #append it to the new list of words\n",
        "  new_text = \" \".join(lemmatized_words) # join words from list into one object\n",
        "  lemmatized_texts.append(new_text) #add to the new list with texts"
      ],
      "execution_count": null,
      "outputs": []
    },
    {
      "cell_type": "code",
      "metadata": {
        "id": "Uf7HoczA1cFC"
      },
      "source": [
        "movie_sub['summary_lemmas'] = lemmatized_texts"
      ],
      "execution_count": null,
      "outputs": []
    },
    {
      "cell_type": "code",
      "metadata": {
        "colab": {
          "base_uri": "https://localhost:8080/",
          "height": 206
        },
        "id": "3Zrzg_En1kOz",
        "outputId": "afa0b252-de78-4a62-eebd-507211a9e487"
      },
      "source": [
        "movie_sub.head()"
      ],
      "execution_count": null,
      "outputs": [
        {
          "output_type": "execute_result",
          "data": {
            "text/html": [
              "<div>\n",
              "<style scoped>\n",
              "    .dataframe tbody tr th:only-of-type {\n",
              "        vertical-align: middle;\n",
              "    }\n",
              "\n",
              "    .dataframe tbody tr th {\n",
              "        vertical-align: top;\n",
              "    }\n",
              "\n",
              "    .dataframe thead th {\n",
              "        text-align: right;\n",
              "    }\n",
              "</style>\n",
              "<table border=\"1\" class=\"dataframe\">\n",
              "  <thead>\n",
              "    <tr style=\"text-align: right;\">\n",
              "      <th></th>\n",
              "      <th>wiki_movieID</th>\n",
              "      <th>summary</th>\n",
              "      <th>movie_name</th>\n",
              "      <th>box_of_rev</th>\n",
              "      <th>summary_noname</th>\n",
              "      <th>summary_lemmas</th>\n",
              "    </tr>\n",
              "  </thead>\n",
              "  <tbody>\n",
              "    <tr>\n",
              "      <th>0</th>\n",
              "      <td>31186339</td>\n",
              "      <td>The nation  Panem consists   wealthy Capitol  ...</td>\n",
              "      <td>The Hunger Games</td>\n",
              "      <td>686533290.0</td>\n",
              "      <td>nation consists wealthy poorer districts punis...</td>\n",
              "      <td>nation consists wealthy poorer district punish...</td>\n",
              "    </tr>\n",
              "    <tr>\n",
              "      <th>1</th>\n",
              "      <td>2231378</td>\n",
              "      <td>The Lemon Drop Kid   New York City swindler  i...</td>\n",
              "      <td>The Lemon Drop Kid</td>\n",
              "      <td>2300000.0</td>\n",
              "      <td>lemon drop swindler illegally touting horses r...</td>\n",
              "      <td>lemon drop swindler illegally touting horse ra...</td>\n",
              "    </tr>\n",
              "    <tr>\n",
              "      <th>2</th>\n",
              "      <td>595909</td>\n",
              "      <td>Seventh day Adventist Church pastor Michael Ch...</td>\n",
              "      <td>A Cry in the Dark</td>\n",
              "      <td>6908797.0</td>\n",
              "      <td>pastor wife sons daughter camping holiday fami...</td>\n",
              "      <td>pastor wife son daughter camping holiday famil...</td>\n",
              "    </tr>\n",
              "    <tr>\n",
              "      <th>3</th>\n",
              "      <td>1952976</td>\n",
              "      <td>plot The film opens  year   young girl Dahlia ...</td>\n",
              "      <td>Dark Water</td>\n",
              "      <td>49483352.0</td>\n",
              "      <td>film opens young girl stands outside school ra...</td>\n",
              "      <td>film open young girl stand outside school rain...</td>\n",
              "    </tr>\n",
              "    <tr>\n",
              "      <th>4</th>\n",
              "      <td>24225279</td>\n",
              "      <td>The story begins  Hannah  young Jewish teen   ...</td>\n",
              "      <td>Sing</td>\n",
              "      <td>2260616.0</td>\n",
              "      <td>story begins young teen completing senior year...</td>\n",
              "      <td>story begin young teen completing senior year ...</td>\n",
              "    </tr>\n",
              "  </tbody>\n",
              "</table>\n",
              "</div>"
            ],
            "text/plain": [
              "   wiki_movieID  ...                                     summary_lemmas\n",
              "0      31186339  ...  nation consists wealthy poorer district punish...\n",
              "1       2231378  ...  lemon drop swindler illegally touting horse ra...\n",
              "2        595909  ...  pastor wife son daughter camping holiday famil...\n",
              "3       1952976  ...  film open young girl stand outside school rain...\n",
              "4      24225279  ...  story begin young teen completing senior year ...\n",
              "\n",
              "[5 rows x 6 columns]"
            ]
          },
          "metadata": {},
          "execution_count": 189
        }
      ]
    },
    {
      "cell_type": "code",
      "metadata": {
        "id": "l3a6k5qEQToO"
      },
      "source": [
        "#saving\n",
        "movie_sub.to_csv('movies2012_text_clean.csv')\n",
        "\n",
        "!cp movies2012_text_clean.csv \"/content/drive/MyDrive/movies2012data\""
      ],
      "execution_count": null,
      "outputs": []
    },
    {
      "cell_type": "markdown",
      "metadata": {
        "id": "4nEfAwtg2q3_"
      },
      "source": [
        "**8. Get Top Words**"
      ]
    },
    {
      "cell_type": "markdown",
      "metadata": {
        "id": "DDzFJh5Dp_je"
      },
      "source": [
        "Approaching manually trhough tokenization. An alternative approach is to use *FreqDist* from *nltk*."
      ]
    },
    {
      "cell_type": "code",
      "metadata": {
        "id": "e9M-hk7PG2qH"
      },
      "source": [
        "movie_sub = pd.read_csv('/content/drive/MyDrive/movies2012data/movies2012_text_clean.csv')"
      ],
      "execution_count": null,
      "outputs": []
    },
    {
      "cell_type": "code",
      "metadata": {
        "id": "gqvCTcAD1tTG",
        "colab": {
          "base_uri": "https://localhost:8080/"
        },
        "outputId": "cde443f2-69d1-42d1-ff9b-68195b179ec1"
      },
      "source": [
        "#creating a list of all words\n",
        "all_words = []\n",
        "for text in movie_sub.summary_lemmas: #take a text\n",
        "  try:\n",
        "    tokenized_words = word_tokenize(text) #split it into a list of word\n",
        "    all_words = all_words + tokenized_words\n",
        "  except:\n",
        "    print(text)  "
      ],
      "execution_count": null,
      "outputs": [
        {
          "output_type": "stream",
          "name": "stdout",
          "text": [
            "nan\n"
          ]
        }
      ]
    },
    {
      "cell_type": "code",
      "metadata": {
        "id": "Dh9q3F0jRWto"
      },
      "source": [
        "all_words = np.array(all_words) #turning into numpay array\n",
        "\n",
        "value, counts = np.unique(all_words, return_counts=True)\n",
        "summary_df = pd.DataFrame({'word': value,\n",
        "                           'frequency': counts})"
      ],
      "execution_count": null,
      "outputs": []
    },
    {
      "cell_type": "code",
      "metadata": {
        "colab": {
          "base_uri": "https://localhost:8080/",
          "height": 676
        },
        "id": "pAWHlQdLRzWJ",
        "outputId": "b9f7ea5d-cbb3-4bb8-9fd2-735904a85cbb"
      },
      "source": [
        "summary_df = summary_df.sort_values('frequency', ascending=False)\n",
        "summary_df.head(20)"
      ],
      "execution_count": null,
      "outputs": [
        {
          "output_type": "execute_result",
          "data": {
            "text/html": [
              "<div>\n",
              "<style scoped>\n",
              "    .dataframe tbody tr th:only-of-type {\n",
              "        vertical-align: middle;\n",
              "    }\n",
              "\n",
              "    .dataframe tbody tr th {\n",
              "        vertical-align: top;\n",
              "    }\n",
              "\n",
              "    .dataframe thead th {\n",
              "        text-align: right;\n",
              "    }\n",
              "</style>\n",
              "<table border=\"1\" class=\"dataframe\">\n",
              "  <thead>\n",
              "    <tr style=\"text-align: right;\">\n",
              "      <th></th>\n",
              "      <th>word</th>\n",
              "      <th>frequency</th>\n",
              "    </tr>\n",
              "  </thead>\n",
              "  <tbody>\n",
              "    <tr>\n",
              "      <th>13132</th>\n",
              "      <td>find</td>\n",
              "      <td>9413</td>\n",
              "    </tr>\n",
              "    <tr>\n",
              "      <th>14776</th>\n",
              "      <td>go</td>\n",
              "      <td>7938</td>\n",
              "    </tr>\n",
              "    <tr>\n",
              "      <th>34532</th>\n",
              "      <td>take</td>\n",
              "      <td>7377</td>\n",
              "    </tr>\n",
              "    <tr>\n",
              "      <th>34834</th>\n",
              "      <td>tell</td>\n",
              "      <td>7304</td>\n",
              "    </tr>\n",
              "    <tr>\n",
              "      <th>14568</th>\n",
              "      <td>get</td>\n",
              "      <td>7290</td>\n",
              "    </tr>\n",
              "    <tr>\n",
              "      <th>2432</th>\n",
              "      <td>back</td>\n",
              "      <td>7177</td>\n",
              "    </tr>\n",
              "    <tr>\n",
              "      <th>12749</th>\n",
              "      <td>father</td>\n",
              "      <td>5867</td>\n",
              "    </tr>\n",
              "    <tr>\n",
              "      <th>20051</th>\n",
              "      <td>life</td>\n",
              "      <td>5673</td>\n",
              "    </tr>\n",
              "    <tr>\n",
              "      <th>13995</th>\n",
              "      <td>friend</td>\n",
              "      <td>5627</td>\n",
              "    </tr>\n",
              "    <tr>\n",
              "      <th>35338</th>\n",
              "      <td>time</td>\n",
              "      <td>5474</td>\n",
              "    </tr>\n",
              "    <tr>\n",
              "      <th>16413</th>\n",
              "      <td>home</td>\n",
              "      <td>5242</td>\n",
              "    </tr>\n",
              "    <tr>\n",
              "      <th>29336</th>\n",
              "      <td>return</td>\n",
              "      <td>5035</td>\n",
              "    </tr>\n",
              "    <tr>\n",
              "      <th>20862</th>\n",
              "      <td>make</td>\n",
              "      <td>4939</td>\n",
              "    </tr>\n",
              "    <tr>\n",
              "      <th>13076</th>\n",
              "      <td>film</td>\n",
              "      <td>4900</td>\n",
              "    </tr>\n",
              "    <tr>\n",
              "      <th>30881</th>\n",
              "      <td>see</td>\n",
              "      <td>4648</td>\n",
              "    </tr>\n",
              "    <tr>\n",
              "      <th>19233</th>\n",
              "      <td>kill</td>\n",
              "      <td>4637</td>\n",
              "    </tr>\n",
              "    <tr>\n",
              "      <th>3003</th>\n",
              "      <td>begin</td>\n",
              "      <td>4612</td>\n",
              "    </tr>\n",
              "    <tr>\n",
              "      <th>16646</th>\n",
              "      <td>house</td>\n",
              "      <td>4518</td>\n",
              "    </tr>\n",
              "    <tr>\n",
              "      <th>20936</th>\n",
              "      <td>man</td>\n",
              "      <td>4483</td>\n",
              "    </tr>\n",
              "    <tr>\n",
              "      <th>36188</th>\n",
              "      <td>try</td>\n",
              "      <td>4461</td>\n",
              "    </tr>\n",
              "  </tbody>\n",
              "</table>\n",
              "</div>"
            ],
            "text/plain": [
              "         word  frequency\n",
              "13132    find       9413\n",
              "14776      go       7938\n",
              "34532    take       7377\n",
              "34834    tell       7304\n",
              "14568     get       7290\n",
              "2432     back       7177\n",
              "12749  father       5867\n",
              "20051    life       5673\n",
              "13995  friend       5627\n",
              "35338    time       5474\n",
              "16413    home       5242\n",
              "29336  return       5035\n",
              "20862    make       4939\n",
              "13076    film       4900\n",
              "30881     see       4648\n",
              "19233    kill       4637\n",
              "3003    begin       4612\n",
              "16646   house       4518\n",
              "20936     man       4483\n",
              "36188     try       4461"
            ]
          },
          "metadata": {},
          "execution_count": 13
        }
      ]
    },
    {
      "cell_type": "code",
      "metadata": {
        "colab": {
          "base_uri": "https://localhost:8080/"
        },
        "id": "oknVZFTtH4Hc",
        "outputId": "36e39bd5-b065-41cf-8057-91776ba827f8"
      },
      "source": [
        "len(summary_df) #got 39.5k unique words"
      ],
      "execution_count": null,
      "outputs": [
        {
          "output_type": "execute_result",
          "data": {
            "text/plain": [
              "39574"
            ]
          },
          "metadata": {},
          "execution_count": 14
        }
      ]
    },
    {
      "cell_type": "markdown",
      "metadata": {
        "id": "yyGeSlC6O97e"
      },
      "source": [
        "This top is interesting. Usually nouns are the most common part of speech in a text. Here no noun made it to top 5. I could be that nouns are more diverse and if I do parts of speech tagging, it will get on top. Or it could be that because the movie plots are about what happened, verbs play a more important role than nouns would do. I'll have a look which one it is."
      ]
    },
    {
      "cell_type": "code",
      "metadata": {
        "colab": {
          "base_uri": "https://localhost:8080/"
        },
        "id": "rbAnkw-HFfYI",
        "outputId": "9b69ef61-2f48-41b3-89df-b2bfcc04c04b"
      },
      "source": [
        "print(len(summary_df[summary_df.frequency==1]))\n",
        "print('percent drop to ' + str((len(summary_df)  - len(summary_df[summary_df.frequency==1]))/len(summary_df)))"
      ],
      "execution_count": null,
      "outputs": [
        {
          "output_type": "stream",
          "name": "stdout",
          "text": [
            "14320\n",
            "percent drop to 0.6381462576439076\n"
          ]
        }
      ]
    },
    {
      "cell_type": "code",
      "metadata": {
        "colab": {
          "base_uri": "https://localhost:8080/"
        },
        "id": "IQKp5ZHL65LS",
        "outputId": "ddd770dd-ae33-441b-aaff-0a689500f2ed"
      },
      "source": [
        "print(len(summary_df[summary_df.frequency<=5]))\n",
        "print('percent drop to ' + str((len(summary_df)  - len(summary_df[summary_df.frequency<=5]))/len(summary_df)))"
      ],
      "execution_count": null,
      "outputs": [
        {
          "output_type": "stream",
          "name": "stdout",
          "text": [
            "24885\n",
            "percent drop to 0.3711780461919442\n"
          ]
        }
      ]
    },
    {
      "cell_type": "code",
      "metadata": {
        "colab": {
          "base_uri": "https://localhost:8080/"
        },
        "id": "OF-DXEuU6-Nn",
        "outputId": "35752227-9f24-4491-b511-a74ac6a041f7"
      },
      "source": [
        "print(len(summary_df[summary_df.frequency<=10]))\n",
        "print('percent drop to ' + str((len(summary_df)  - len(summary_df[summary_df.frequency<=10]))/len(summary_df)))"
      ],
      "execution_count": null,
      "outputs": [
        {
          "output_type": "stream",
          "name": "stdout",
          "text": [
            "28774\n",
            "percent drop to 0.2729064537322484\n"
          ]
        }
      ]
    },
    {
      "cell_type": "code",
      "metadata": {
        "colab": {
          "base_uri": "https://localhost:8080/"
        },
        "id": "VJB4mMUBGS4y",
        "outputId": "5f322b4f-2366-4c73-b397-89a4540dbfd5"
      },
      "source": [
        "print(len(summary_df[summary_df.frequency>10]))"
      ],
      "execution_count": null,
      "outputs": [
        {
          "output_type": "stream",
          "name": "stdout",
          "text": [
            "10800\n"
          ]
        }
      ]
    },
    {
      "cell_type": "code",
      "metadata": {
        "colab": {
          "base_uri": "https://localhost:8080/"
        },
        "id": "kSESfkbo7Aj3",
        "outputId": "efa68510-82ae-47de-b4a0-8b8b73ef505e"
      },
      "source": [
        "print(len(summary_df[summary_df.frequency<=50]))\n",
        "print('percent drop to ' + str((len(summary_df)  - len(summary_df[summary_df.frequency<=50]))/len(summary_df)))"
      ],
      "execution_count": null,
      "outputs": [
        {
          "output_type": "stream",
          "name": "stdout",
          "text": [
            "35175\n",
            "percent drop to 0.1111588416637186\n"
          ]
        }
      ]
    },
    {
      "cell_type": "markdown",
      "metadata": {
        "id": "My9d6c4Xe_d7"
      },
      "source": [
        "**9.Parts of speech check**"
      ]
    },
    {
      "cell_type": "markdown",
      "metadata": {
        "id": "GrILjuLrhnLO"
      },
      "source": [
        "Some reccomend to tag the words before lemmatizing them, and the feeding the tag into the lemmatizer. This way lemmatization is a bit more accurate. That's nore of a note for future cleaning. Will not do that here. "
      ]
    },
    {
      "cell_type": "code",
      "metadata": {
        "id": "HyFbzp3nSBSB"
      },
      "source": [
        "movie_data = pd.read_csv('/content/drive/MyDrive/movies2012data/movies2012_text_clean.csv')"
      ],
      "execution_count": null,
      "outputs": []
    },
    {
      "cell_type": "code",
      "metadata": {
        "colab": {
          "base_uri": "https://localhost:8080/",
          "height": 414
        },
        "id": "J3_4jBzASPqv",
        "outputId": "ab0e36c5-6c63-400d-81cc-4860ac38637d"
      },
      "source": [
        "movie_data.head()"
      ],
      "execution_count": null,
      "outputs": [
        {
          "output_type": "execute_result",
          "data": {
            "text/html": [
              "<div>\n",
              "<style scoped>\n",
              "    .dataframe tbody tr th:only-of-type {\n",
              "        vertical-align: middle;\n",
              "    }\n",
              "\n",
              "    .dataframe tbody tr th {\n",
              "        vertical-align: top;\n",
              "    }\n",
              "\n",
              "    .dataframe thead th {\n",
              "        text-align: right;\n",
              "    }\n",
              "</style>\n",
              "<table border=\"1\" class=\"dataframe\">\n",
              "  <thead>\n",
              "    <tr style=\"text-align: right;\">\n",
              "      <th></th>\n",
              "      <th>Unnamed: 0</th>\n",
              "      <th>wiki_movieID</th>\n",
              "      <th>summary</th>\n",
              "      <th>movie_name</th>\n",
              "      <th>box_of_rev</th>\n",
              "      <th>summary_noname</th>\n",
              "      <th>summary_lemmas</th>\n",
              "    </tr>\n",
              "  </thead>\n",
              "  <tbody>\n",
              "    <tr>\n",
              "      <th>0</th>\n",
              "      <td>0</td>\n",
              "      <td>31186339</td>\n",
              "      <td>The nation  Panem consists   wealthy Capitol  ...</td>\n",
              "      <td>The Hunger Games</td>\n",
              "      <td>686533290.0</td>\n",
              "      <td>nation consists wealthy poorer districts punis...</td>\n",
              "      <td>nation consists wealthy poorer district punish...</td>\n",
              "    </tr>\n",
              "    <tr>\n",
              "      <th>1</th>\n",
              "      <td>1</td>\n",
              "      <td>2231378</td>\n",
              "      <td>The Lemon Drop Kid   New York City swindler  i...</td>\n",
              "      <td>The Lemon Drop Kid</td>\n",
              "      <td>2300000.0</td>\n",
              "      <td>lemon drop swindler illegally touting horses r...</td>\n",
              "      <td>lemon drop swindler illegally touting horse ra...</td>\n",
              "    </tr>\n",
              "    <tr>\n",
              "      <th>2</th>\n",
              "      <td>2</td>\n",
              "      <td>595909</td>\n",
              "      <td>Seventh day Adventist Church pastor Michael Ch...</td>\n",
              "      <td>A Cry in the Dark</td>\n",
              "      <td>6908797.0</td>\n",
              "      <td>pastor wife sons daughter camping holiday fami...</td>\n",
              "      <td>pastor wife son daughter camping holiday famil...</td>\n",
              "    </tr>\n",
              "    <tr>\n",
              "      <th>3</th>\n",
              "      <td>3</td>\n",
              "      <td>1952976</td>\n",
              "      <td>plot The film opens  year   young girl Dahlia ...</td>\n",
              "      <td>Dark Water</td>\n",
              "      <td>49483352.0</td>\n",
              "      <td>film opens young girl stands outside school ra...</td>\n",
              "      <td>film open young girl stand outside school rain...</td>\n",
              "    </tr>\n",
              "    <tr>\n",
              "      <th>4</th>\n",
              "      <td>4</td>\n",
              "      <td>24225279</td>\n",
              "      <td>The story begins  Hannah  young Jewish teen   ...</td>\n",
              "      <td>Sing</td>\n",
              "      <td>2260616.0</td>\n",
              "      <td>story begins young teen completing senior year...</td>\n",
              "      <td>story begin young teen completing senior year ...</td>\n",
              "    </tr>\n",
              "  </tbody>\n",
              "</table>\n",
              "</div>"
            ],
            "text/plain": [
              "   Unnamed: 0  ...                                     summary_lemmas\n",
              "0           0  ...  nation consists wealthy poorer district punish...\n",
              "1           1  ...  lemon drop swindler illegally touting horse ra...\n",
              "2           2  ...  pastor wife son daughter camping holiday famil...\n",
              "3           3  ...  film open young girl stand outside school rain...\n",
              "4           4  ...  story begin young teen completing senior year ...\n",
              "\n",
              "[5 rows x 7 columns]"
            ]
          },
          "metadata": {},
          "execution_count": 7
        }
      ]
    },
    {
      "cell_type": "code",
      "metadata": {
        "id": "ZCVWM6x6Sb9f"
      },
      "source": [
        "from nltk.tokenize import word_tokenize"
      ],
      "execution_count": null,
      "outputs": []
    },
    {
      "cell_type": "code",
      "metadata": {
        "colab": {
          "base_uri": "https://localhost:8080/"
        },
        "id": "jSzKpDaZTOfv",
        "outputId": "8ad01ebf-af23-4aba-e07b-782b080b9e4c"
      },
      "source": [
        "nltk.download('punkt')"
      ],
      "execution_count": null,
      "outputs": [
        {
          "output_type": "stream",
          "name": "stdout",
          "text": [
            "[nltk_data] Downloading package punkt to /root/nltk_data...\n",
            "[nltk_data]   Unzipping tokenizers/punkt.zip.\n"
          ]
        },
        {
          "output_type": "execute_result",
          "data": {
            "text/plain": [
              "True"
            ]
          },
          "metadata": {},
          "execution_count": 11
        }
      ]
    },
    {
      "cell_type": "code",
      "metadata": {
        "colab": {
          "base_uri": "https://localhost:8080/"
        },
        "id": "VZF5fojETZ-v",
        "outputId": "992742a4-c921-4068-9e26-60c3cc8980ac"
      },
      "source": [
        "nltk.download('averaged_perceptron_tagger')"
      ],
      "execution_count": null,
      "outputs": [
        {
          "output_type": "stream",
          "name": "stdout",
          "text": [
            "[nltk_data] Downloading package averaged_perceptron_tagger to\n",
            "[nltk_data]     /root/nltk_data...\n",
            "[nltk_data]   Unzipping taggers/averaged_perceptron_tagger.zip.\n"
          ]
        },
        {
          "output_type": "execute_result",
          "data": {
            "text/plain": [
              "True"
            ]
          },
          "metadata": {},
          "execution_count": 15
        }
      ]
    },
    {
      "cell_type": "code",
      "metadata": {
        "colab": {
          "base_uri": "https://localhost:8080/",
          "height": 380
        },
        "id": "oznxU_tPV6b5",
        "outputId": "cfaf336b-149c-4e07-bcd0-178b9ddbbdf8"
      },
      "source": [
        "# tokeinse each text \n",
        "pos = []\n",
        "for summary in movie_data.summary_lemmas:\n",
        "  try:\n",
        "    tokenized = word_tokenize(summary)\n",
        "    tuple_tagged = nltk.pos_tag(tokenized) # pos tag each text\n",
        "    for word in tuple_tagged:\n",
        "      pos.append(word[1]) # add parts of speech to list\n",
        "  except:\n",
        "    print('this did not work ' + str(summary))    \n",
        "\n",
        "pos = np.array(pos) # convert list 2 to numpy array and get df with parts and counts\n",
        "part, count = np.unique(pos, return_counts=True)\n",
        "pos_df = pd.DataFrame({'pos': part,\n",
        "                       'frequency': count})\n",
        "\n",
        "pos_df = pos_df.sort_values('frequency', ascending=False)\n",
        "\n",
        "pos_df.head(10)"
      ],
      "execution_count": null,
      "outputs": [
        {
          "output_type": "stream",
          "name": "stdout",
          "text": [
            "this did not work nan\n"
          ]
        },
        {
          "output_type": "execute_result",
          "data": {
            "text/html": [
              "<div>\n",
              "<style scoped>\n",
              "    .dataframe tbody tr th:only-of-type {\n",
              "        vertical-align: middle;\n",
              "    }\n",
              "\n",
              "    .dataframe tbody tr th {\n",
              "        vertical-align: top;\n",
              "    }\n",
              "\n",
              "    .dataframe thead th {\n",
              "        text-align: right;\n",
              "    }\n",
              "</style>\n",
              "<table border=\"1\" class=\"dataframe\">\n",
              "  <thead>\n",
              "    <tr style=\"text-align: right;\">\n",
              "      <th></th>\n",
              "      <th>pos</th>\n",
              "      <th>frequency</th>\n",
              "    </tr>\n",
              "  </thead>\n",
              "  <tbody>\n",
              "    <tr>\n",
              "      <th>13</th>\n",
              "      <td>NN</td>\n",
              "      <td>722869</td>\n",
              "    </tr>\n",
              "    <tr>\n",
              "      <th>9</th>\n",
              "      <td>JJ</td>\n",
              "      <td>275982</td>\n",
              "    </tr>\n",
              "    <tr>\n",
              "      <th>19</th>\n",
              "      <td>RB</td>\n",
              "      <td>107379</td>\n",
              "    </tr>\n",
              "    <tr>\n",
              "      <th>28</th>\n",
              "      <td>VBG</td>\n",
              "      <td>104669</td>\n",
              "    </tr>\n",
              "    <tr>\n",
              "      <th>30</th>\n",
              "      <td>VBP</td>\n",
              "      <td>76082</td>\n",
              "    </tr>\n",
              "    <tr>\n",
              "      <th>27</th>\n",
              "      <td>VBD</td>\n",
              "      <td>72646</td>\n",
              "    </tr>\n",
              "    <tr>\n",
              "      <th>15</th>\n",
              "      <td>NNS</td>\n",
              "      <td>55059</td>\n",
              "    </tr>\n",
              "    <tr>\n",
              "      <th>26</th>\n",
              "      <td>VB</td>\n",
              "      <td>53378</td>\n",
              "    </tr>\n",
              "    <tr>\n",
              "      <th>29</th>\n",
              "      <td>VBN</td>\n",
              "      <td>51055</td>\n",
              "    </tr>\n",
              "    <tr>\n",
              "      <th>31</th>\n",
              "      <td>VBZ</td>\n",
              "      <td>36110</td>\n",
              "    </tr>\n",
              "  </tbody>\n",
              "</table>\n",
              "</div>"
            ],
            "text/plain": [
              "    pos  frequency\n",
              "13   NN     722869\n",
              "9    JJ     275982\n",
              "19   RB     107379\n",
              "28  VBG     104669\n",
              "30  VBP      76082\n",
              "27  VBD      72646\n",
              "15  NNS      55059\n",
              "26   VB      53378\n",
              "29  VBN      51055\n",
              "31  VBZ      36110"
            ]
          },
          "metadata": {},
          "execution_count": 40
        }
      ]
    },
    {
      "cell_type": "markdown",
      "metadata": {
        "id": "YqSG3axzaOLM"
      },
      "source": [
        "So far noun is leading. However, it looks like there is quite a bit of different verb variations. I need to collapse them into one."
      ]
    },
    {
      "cell_type": "code",
      "metadata": {
        "id": "0YvOo-NRa9A5"
      },
      "source": [
        "pos_new = []\n",
        "for p in pos:\n",
        "  if bool(re.match('VB.', p)):\n",
        "    pos_new.append(re.sub('VB.', 'VB', p))\n",
        "  else:\n",
        "    pos_new.append(p)  \n",
        "\n"
      ],
      "execution_count": null,
      "outputs": []
    },
    {
      "cell_type": "code",
      "metadata": {
        "colab": {
          "base_uri": "https://localhost:8080/",
          "height": 363
        },
        "id": "qD2RgSB-cFel",
        "outputId": "0ef0ce75-6a22-49d7-8591-c80fd8f44a21"
      },
      "source": [
        "pos_new = np.array(pos_new) # convert list 2 to numpy array and get df with parts and counts\n",
        "part, count = np.unique(pos_new, return_counts=True)\n",
        "pos_df = pd.DataFrame({'pos': part,\n",
        "                       'frequency': count})\n",
        "\n",
        "pos_df = pos_df.sort_values('frequency', ascending=False)\n",
        "\n",
        "pos_df.head(10)"
      ],
      "execution_count": null,
      "outputs": [
        {
          "output_type": "execute_result",
          "data": {
            "text/html": [
              "<div>\n",
              "<style scoped>\n",
              "    .dataframe tbody tr th:only-of-type {\n",
              "        vertical-align: middle;\n",
              "    }\n",
              "\n",
              "    .dataframe tbody tr th {\n",
              "        vertical-align: top;\n",
              "    }\n",
              "\n",
              "    .dataframe thead th {\n",
              "        text-align: right;\n",
              "    }\n",
              "</style>\n",
              "<table border=\"1\" class=\"dataframe\">\n",
              "  <thead>\n",
              "    <tr style=\"text-align: right;\">\n",
              "      <th></th>\n",
              "      <th>pos</th>\n",
              "      <th>frequency</th>\n",
              "    </tr>\n",
              "  </thead>\n",
              "  <tbody>\n",
              "    <tr>\n",
              "      <th>13</th>\n",
              "      <td>NN</td>\n",
              "      <td>722869</td>\n",
              "    </tr>\n",
              "    <tr>\n",
              "      <th>26</th>\n",
              "      <td>VB</td>\n",
              "      <td>393940</td>\n",
              "    </tr>\n",
              "    <tr>\n",
              "      <th>9</th>\n",
              "      <td>JJ</td>\n",
              "      <td>275982</td>\n",
              "    </tr>\n",
              "    <tr>\n",
              "      <th>19</th>\n",
              "      <td>RB</td>\n",
              "      <td>107379</td>\n",
              "    </tr>\n",
              "    <tr>\n",
              "      <th>15</th>\n",
              "      <td>NNS</td>\n",
              "      <td>55059</td>\n",
              "    </tr>\n",
              "    <tr>\n",
              "      <th>8</th>\n",
              "      <td>IN</td>\n",
              "      <td>29991</td>\n",
              "    </tr>\n",
              "    <tr>\n",
              "      <th>12</th>\n",
              "      <td>MD</td>\n",
              "      <td>7217</td>\n",
              "    </tr>\n",
              "    <tr>\n",
              "      <th>10</th>\n",
              "      <td>JJR</td>\n",
              "      <td>5796</td>\n",
              "    </tr>\n",
              "    <tr>\n",
              "      <th>20</th>\n",
              "      <td>RBR</td>\n",
              "      <td>4175</td>\n",
              "    </tr>\n",
              "    <tr>\n",
              "      <th>5</th>\n",
              "      <td>DT</td>\n",
              "      <td>4069</td>\n",
              "    </tr>\n",
              "  </tbody>\n",
              "</table>\n",
              "</div>"
            ],
            "text/plain": [
              "    pos  frequency\n",
              "13   NN     722869\n",
              "26   VB     393940\n",
              "9    JJ     275982\n",
              "19   RB     107379\n",
              "15  NNS      55059\n",
              "8    IN      29991\n",
              "12   MD       7217\n",
              "10  JJR       5796\n",
              "20  RBR       4175\n",
              "5    DT       4069"
            ]
          },
          "metadata": {},
          "execution_count": 50
        }
      ]
    },
    {
      "cell_type": "markdown",
      "metadata": {
        "id": "yzoi97wvcYv7"
      },
      "source": [
        "Noun is still the top POS. Hence, it is the higher diversity of the words that makes specific verbs lead in the frequency. "
      ]
    },
    {
      "cell_type": "markdown",
      "metadata": {
        "id": "pahTZWOEfFlH"
      },
      "source": [
        "**10. Degenerative case: One empty text**"
      ]
    },
    {
      "cell_type": "code",
      "metadata": {
        "colab": {
          "base_uri": "https://localhost:8080/"
        },
        "id": "_Q823WtXYmi_",
        "outputId": "85ea221a-d60b-4113-a442-f4413e2938b4"
      },
      "source": [
        "movie_data.summary_lemmas[683]"
      ],
      "execution_count": null,
      "outputs": [
        {
          "output_type": "execute_result",
          "data": {
            "text/plain": [
              "nan"
            ]
          },
          "metadata": {},
          "execution_count": 33
        }
      ]
    },
    {
      "cell_type": "code",
      "metadata": {
        "colab": {
          "base_uri": "https://localhost:8080/",
          "height": 53
        },
        "id": "1kAlY1kmYp9s",
        "outputId": "98a9fc46-4539-4d60-e3ba-98b3463fba11"
      },
      "source": [
        "movie_data.summary[683]"
      ],
      "execution_count": null,
      "outputs": [
        {
          "output_type": "execute_result",
          "data": {
            "application/vnd.google.colaboratory.intrinsic+json": {
              "type": "string"
            },
            "text/plain": [
              "'Holly Marie Combs  Diane Zamora David Lipper  David Graham Cassidy Rae  Adrienne Jones Dee Wallace  Mrs Jones'"
            ]
          },
          "metadata": {},
          "execution_count": 34
        }
      ]
    },
    {
      "cell_type": "markdown",
      "source": [
        "OK, now the data seems clean enough and ready for analysis. "
      ],
      "metadata": {
        "id": "eIgsaSU2zUaI"
      }
    }
  ]
}